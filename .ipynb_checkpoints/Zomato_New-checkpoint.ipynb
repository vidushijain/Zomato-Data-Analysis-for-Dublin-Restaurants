{
 "cells": [
  {
   "cell_type": "markdown",
   "metadata": {},
   "source": [
    "## Data Science In Python- Assignment 1"
   ]
  },
  {
   "cell_type": "markdown",
   "metadata": {},
   "source": [
    "### Student Name- Vidushi Jain\n",
    "### Student Number- 18200009"
   ]
  },
  {
   "cell_type": "markdown",
   "metadata": {},
   "source": [
    "These are some additional package that we need to install to run this notebook. Wordcloud is used to create wordcloud image. VaderSentiment is used to do sentiment analysis of reviews. Squarify is used to create TreeMap."
   ]
  },
  {
   "cell_type": "code",
   "execution_count": null,
   "metadata": {},
   "outputs": [],
   "source": [
    "!pip install wordcloud\n",
    "!pip install vaderSentiment\n",
    "!pip install squarify"
   ]
  },
  {
   "cell_type": "markdown",
   "metadata": {},
   "source": [
    "All import statements required to run the notebook"
   ]
  },
  {
   "cell_type": "code",
   "execution_count": 1474,
   "metadata": {},
   "outputs": [],
   "source": [
    "import os\n",
    "import urllib.request\n",
    "import csv\n",
    "import pandas as pd \n",
    "import sys,socket\n",
    "import requests\n",
    "import math\n",
    "import json\n",
    "import numpy as np\n",
    "from bs4 import BeautifulSoup\n",
    "import re\n",
    "import seaborn as sns\n",
    "from wordcloud import WordCloud\n",
    "from vaderSentiment.vaderSentiment import SentimentIntensityAnalyzer\n",
    "import squarify\n",
    "import matplotlib\n",
    "import matplotlib.pyplot as plt\n",
    "from matplotlib import style\n",
    "from nltk.corpus import stopwords\n",
    "import nltk\n",
    "%matplotlib inline"
   ]
  },
  {
   "cell_type": "markdown",
   "metadata": {},
   "source": [
    "Below command is used to display the complete value for each column "
   ]
  },
  {
   "cell_type": "code",
   "execution_count": null,
   "metadata": {},
   "outputs": [],
   "source": [
    "pd.set_option('display.max_colwidth', -1)"
   ]
  },
  {
   "cell_type": "markdown",
   "metadata": {},
   "source": [
    "## 1. Task - Choose one or more suitable web API¶"
   ]
  },
  {
   "cell_type": "markdown",
   "metadata": {},
   "source": [
    "I have used <b>Zomato API </b> for this assignment.\n",
    "<ul>\n",
    "  <li>Zomato API is used using an API key to analyze and compare restaurants of Dublin. The API key is <b>53731a7e2eb6195ed6a58eaf0e4f6b31</b></li>\n",
    "    <li>Below are the <b>limitation</b> of using this API</li>\n",
    "    <ul>\n",
    "        <li>We can make only up to 1000 calls/day</li>\n",
    "            <li>We can get up to 100 restaurants details by changing the 'start' and 'count' parameters with the maximum value of count being 20. To overcome this limitation, I have fetched data on the basis of all the cuisines available in dublin. By doing so, I was able to get data for <b>1927 unique resturants </b></li>\n",
    "        <li>In the basic API plan, we can get only 5 reviews for each restaurants. Also, these reviews are not complete, we only get first 150 characters of each review. I have done the analysis using this available data. I have <b>5463 reviews</b> in the dataset</li>\n",
    "           \n",
    "  </ul> \n",
    " <li> I have used Web Scrapping using BeautifulSoup to fetch highlights of each restaurant. Highlights refer to the services which the restuarant provide like Indoor Seating, Takeaway, Breakfast etc.\n",
    "</ul>\n",
    "\n",
    "<b>I am analyzing data only for dublin whose city_id is 91 in Zomato Database. I have used longitude(-6.248889) and latitude(53.333056) value to find the id</b>\n"
   ]
  },
  {
   "cell_type": "code",
   "execution_count": 1397,
   "metadata": {},
   "outputs": [],
   "source": [
    "api_key = \"53731a7e2eb6195ed6a58eaf0e4f6b31\""
   ]
  },
  {
   "cell_type": "code",
   "execution_count": 1,
   "metadata": {},
   "outputs": [],
   "source": [
    "api_count=0"
   ]
  },
  {
   "cell_type": "markdown",
   "metadata": {},
   "source": [
    "## 2. Task - Collecting data from One or more choosen Web API(s) and storing the JSON response in the file"
   ]
  },
  {
   "cell_type": "markdown",
   "metadata": {},
   "source": [
    "<b><font color=\"red\">To use Zomato API we have a restriction that only 1000 calls can be made in a day. So I have collected the data on three different daya and stored the JSON file in the folders to use it later. </font></b>"
   ]
  },
  {
   "cell_type": "markdown",
   "metadata": {},
   "source": [
    "### Fetching Data for Categories"
   ]
  },
  {
   "cell_type": "markdown",
   "metadata": {},
   "source": [
    "Getting Data From API Request and writing the response in the file"
   ]
  },
  {
   "cell_type": "code",
   "execution_count": 4,
   "metadata": {},
   "outputs": [],
   "source": [
    "categories_request = requests.get('https://developers.zomato.com/api/v2.1/categories',\n",
    "                                  headers={'Accept':'application/json','user-key':'53731a7e2eb6195ed6a58eaf0e4f6b31'})\n",
    "file_name='categories.json'\n",
    "file = open(file_name, \"w\")\n",
    "file.write(categories_request.text)\n",
    "file.close()"
   ]
  },
  {
   "cell_type": "markdown",
   "metadata": {},
   "source": [
    "### Fetching Data for Cuisines"
   ]
  },
  {
   "cell_type": "markdown",
   "metadata": {},
   "source": [
    "Getting Data From API Request and writing the response in the file"
   ]
  },
  {
   "cell_type": "code",
   "execution_count": 1423,
   "metadata": {},
   "outputs": [],
   "source": [
    "cuisines_request = requests.get('https://developers.zomato.com/api/v2.1/cuisines?city_id=91',\n",
    "                                headers={'Accept':'application/json','user-key':'53731a7e2eb6195ed6a58eaf0e4f6b31'})\n",
    "file_name='cuisines.json'\n",
    "file = open(file_name, \"w\")\n",
    "file.write(cuisines_request.text)\n",
    "file.close()"
   ]
  },
  {
   "cell_type": "markdown",
   "metadata": {},
   "source": [
    "<b>I am reading and writing the cuisines data in a dataset, as I would be needing it to fetch restuarants data</b>"
   ]
  },
  {
   "cell_type": "code",
   "execution_count": 1597,
   "metadata": {},
   "outputs": [
    {
     "data": {
      "text/html": [
       "<div>\n",
       "<style scoped>\n",
       "    .dataframe tbody tr th:only-of-type {\n",
       "        vertical-align: middle;\n",
       "    }\n",
       "\n",
       "    .dataframe tbody tr th {\n",
       "        vertical-align: top;\n",
       "    }\n",
       "\n",
       "    .dataframe thead th {\n",
       "        text-align: right;\n",
       "    }\n",
       "</style>\n",
       "<table border=\"1\" class=\"dataframe\">\n",
       "  <thead>\n",
       "    <tr style=\"text-align: right;\">\n",
       "      <th></th>\n",
       "      <th>cuisine_id</th>\n",
       "      <th>cuisine_name</th>\n",
       "    </tr>\n",
       "  </thead>\n",
       "  <tbody>\n",
       "    <tr>\n",
       "      <th>0</th>\n",
       "      <td>152</td>\n",
       "      <td>African</td>\n",
       "    </tr>\n",
       "    <tr>\n",
       "      <th>1</th>\n",
       "      <td>1</td>\n",
       "      <td>American</td>\n",
       "    </tr>\n",
       "    <tr>\n",
       "      <th>2</th>\n",
       "      <td>151</td>\n",
       "      <td>Argentine</td>\n",
       "    </tr>\n",
       "    <tr>\n",
       "      <th>3</th>\n",
       "      <td>3</td>\n",
       "      <td>Asian</td>\n",
       "    </tr>\n",
       "    <tr>\n",
       "      <th>4</th>\n",
       "      <td>131</td>\n",
       "      <td>Australian</td>\n",
       "    </tr>\n",
       "  </tbody>\n",
       "</table>\n",
       "</div>"
      ],
      "text/plain": [
       "   cuisine_id cuisine_name\n",
       "0  152         African    \n",
       "1  1           American   \n",
       "2  151         Argentine  \n",
       "3  3           Asian      \n",
       "4  131         Australian "
      ]
     },
     "execution_count": 1597,
     "metadata": {},
     "output_type": "execute_result"
    }
   ],
   "source": [
    "with open('cuisines.json') as cuisines_json:\n",
    "    cuisines = json.load(cuisines_json)\n",
    "    cuisines = cuisines['cuisines']\n",
    "    cuisines_list = []\n",
    "    for cuisine in cuisines:\n",
    "        cuisines_list.append([cuisine['cuisine']['cuisine_id'],cuisine['cuisine']['cuisine_name']])\n",
    "        \n",
    "cuisines_dataset = pd.DataFrame(cuisines_list)\n",
    "cuisines_dataset.columns = ['cuisine_id','cuisine_name']\n",
    "cuisines_dataset.head()"
   ]
  },
  {
   "cell_type": "code",
   "execution_count": 1443,
   "metadata": {},
   "outputs": [],
   "source": [
    "export_csv = cuisines_dataset.to_csv (r'cuisines_dataset.csv', index = None, header=True)"
   ]
  },
  {
   "cell_type": "markdown",
   "metadata": {},
   "source": [
    "### Fetching Data for Establishments"
   ]
  },
  {
   "cell_type": "markdown",
   "metadata": {},
   "source": [
    "Getting list of restaurant types from API Request and writing the response in the file"
   ]
  },
  {
   "cell_type": "code",
   "execution_count": null,
   "metadata": {},
   "outputs": [],
   "source": [
    "establishments_request = requests.get('https://developers.zomato.com/api/v2.1/establishments?city_id=91',\\\n",
    "                                      headers={'Accept':'application/json','user-key':'53731a7e2eb6195ed6a58eaf0e4f6b31'})\n",
    "file_name='establishments.json'\n",
    "file = open(file_name, \"w\")\n",
    "file.write(establishments_request.text)\n",
    "file.close()"
   ]
  },
  {
   "cell_type": "markdown",
   "metadata": {},
   "source": [
    "### Fetching Data for Restaurants"
   ]
  },
  {
   "cell_type": "markdown",
   "metadata": {},
   "source": [
    "We can get up to 100 restaurants details by changing the 'start' and 'count' parameters with the maximum value of count being 20. To overcome this limitation, I have fetched the data on the basis of all the 68 cuisines available in Dublin. By doing so, I was able to get data for <b>1927 unique resturants </b> Also for each cuisines, we can get maximum 100 restaurants. So I am running the loop 5 times and at each iteration, I am changing the value of start to fetch 20 new records from new starting point. If there are less restaurants for a cuisine, in that case I am checking the results value. If there are no more restaurants for that cuisine, then I am breaking out of the loop. This will prevent unnecessary API calls.<br>\n",
    "<b><font color=\"red\">Please Note</font></b><br>\n",
    "In the below code, we are saving all the JSON files in restaurants folder. If you run the below command, all the files will be saved in that location. For the further analysis please use <b>restaurants_data</b> folder, as that will have all the data which was collected on various days."
   ]
  },
  {
   "cell_type": "code",
   "execution_count": 1419,
   "metadata": {},
   "outputs": [],
   "source": [
    "apicount=0\n",
    "for cuisine_id in cuisines_dataset['cuisine_id']:\n",
    "    count =0\n",
    "    start=0\n",
    "    while count < 5:\n",
    "        link='https://developers.zomato.com/api/v2.1/search?start=%d&count=20&lat=53.333056&lon=-6.248889&cuisines=%d' % (start,cuisine_id)\n",
    "        restro_results=requests.get(link,headers={'Accept':'application/json','user-key':'53731a7e2eb6195ed6a58eaf0e4f6b31'})\n",
    "        apicount=apicount+1 \n",
    "        restro_json=restro_results.json()\n",
    "        results = restro_json['results_shown']\n",
    "        if(results == 0):\n",
    "            break;\n",
    "        else:\n",
    "            file_name='%d_%d.json'% (cuisine_id,count)\n",
    "            file_name=os.path.join(os.getcwd(),'restaurants',file_name)\n",
    "            file = open(file_name, \"w\")\n",
    "            file.write(restro_results.text)\n",
    "            file.close()\n",
    "            start = start+20\n",
    "            count += 1"
   ]
  },
  {
   "cell_type": "markdown",
   "metadata": {},
   "source": [
    "<b>I am reading all the JSON files from the restaurants folder and storing the relevant data in the dataset.\n",
    "I would be needing it to fetch reviews and also to do Web Scrapping for each restaurant</b>"
   ]
  },
  {
   "cell_type": "code",
   "execution_count": 1615,
   "metadata": {},
   "outputs": [],
   "source": [
    "# All the json files are stored in this location\n",
    "path_to_json = './restaurants_data/'\n",
    "#finding only the json files\n",
    "json_files = [pos_json for pos_json in os.listdir(path_to_json) if pos_json.endswith('.json')]\n",
    "\n",
    "#Storing the restaurant data in the list\n",
    "restaurants_list =[]\n",
    "\n",
    "for index, js in enumerate(json_files):\n",
    "    with open(os.path.join(path_to_json, js)) as json_file:\n",
    "        #loading the json file\n",
    "        restro = json.load(json_file)\n",
    "        restaurants = restro['restaurants']\n",
    "        #Reading the relevant fields from the JSON file\n",
    "        for restaurant in restaurants:\n",
    "            restaurants_list.append([restaurant['restaurant']['id'],restaurant['restaurant']['name'],restaurant['restaurant']['url'],\n",
    "                                restaurant['restaurant']['location']['address'],restaurant['restaurant']['location']['locality'],\n",
    "                                restaurant['restaurant']['location']['city'],restaurant['restaurant']['location']['city_id'],\n",
    "                                restaurant['restaurant']['location']['latitude'],restaurant['restaurant']['location']['longitude'],     \n",
    "                                restaurant['restaurant']['location']['zipcode'],restaurant['restaurant']['location']['country_id'],\n",
    "                                restaurant['restaurant']['location']['locality_verbose'],restaurant['restaurant']['cuisines'],\n",
    "                                restaurant['restaurant']['average_cost_for_two'],restaurant['restaurant']['user_rating']['aggregate_rating'],\n",
    "                                restaurant['restaurant']['user_rating']['rating_text'],restaurant['restaurant']['user_rating']['votes'],\n",
    "                                restaurant['restaurant']['has_online_delivery'],restaurant['restaurant']['is_table_reservation_supported'],\n",
    "                                restaurant['restaurant']['establishment_types']])\n",
    "\n",
    "\n",
    "#Creating the Dataframe from the restaurants_list\n",
    "restaurants_dataset = pd.DataFrame(restaurants_list)\n",
    "#Defining the column names\n",
    "restaurants_dataset.columns = ['restaurant_id','restaurant_name','url','address','locality','city','city_id','latitude','longitude','zipcode',\n",
    "                               'country_id','locality_verbose','cuisines','average_cost_for_two','aggregate_rating','rating_text',\n",
    "                               'votes','has_online_delivery','is_table_reservation_supported','establishment_types']"
   ]
  },
  {
   "cell_type": "markdown",
   "metadata": {},
   "source": [
    "Our Restaurants Dataset is ready"
   ]
  },
  {
   "cell_type": "code",
   "execution_count": 1616,
   "metadata": {},
   "outputs": [
    {
     "data": {
      "text/html": [
       "<div>\n",
       "<style scoped>\n",
       "    .dataframe tbody tr th:only-of-type {\n",
       "        vertical-align: middle;\n",
       "    }\n",
       "\n",
       "    .dataframe tbody tr th {\n",
       "        vertical-align: top;\n",
       "    }\n",
       "\n",
       "    .dataframe thead th {\n",
       "        text-align: right;\n",
       "    }\n",
       "</style>\n",
       "<table border=\"1\" class=\"dataframe\">\n",
       "  <thead>\n",
       "    <tr style=\"text-align: right;\">\n",
       "      <th></th>\n",
       "      <th>restaurant_id</th>\n",
       "      <th>restaurant_name</th>\n",
       "      <th>url</th>\n",
       "      <th>address</th>\n",
       "      <th>locality</th>\n",
       "      <th>city</th>\n",
       "      <th>city_id</th>\n",
       "      <th>latitude</th>\n",
       "      <th>longitude</th>\n",
       "      <th>zipcode</th>\n",
       "      <th>country_id</th>\n",
       "      <th>locality_verbose</th>\n",
       "      <th>cuisines</th>\n",
       "      <th>average_cost_for_two</th>\n",
       "      <th>aggregate_rating</th>\n",
       "      <th>rating_text</th>\n",
       "      <th>votes</th>\n",
       "      <th>has_online_delivery</th>\n",
       "      <th>is_table_reservation_supported</th>\n",
       "      <th>establishment_types</th>\n",
       "    </tr>\n",
       "  </thead>\n",
       "  <tbody>\n",
       "    <tr>\n",
       "      <th>0</th>\n",
       "      <td>9100081</td>\n",
       "      <td>Chillout Break Cafe</td>\n",
       "      <td>https://www.zomato.com/dublin/chillout-break-cafe-north-city?utm_source=api_basic_user&amp;utm_medium=api&amp;utm_campaign=v2.1</td>\n",
       "      <td>11 Moore Street, Dublin Dublin 1</td>\n",
       "      <td>North City</td>\n",
       "      <td>Dublin</td>\n",
       "      <td>91</td>\n",
       "      <td>53.3502083333</td>\n",
       "      <td>-6.2623861111</td>\n",
       "      <td>Dublin 1</td>\n",
       "      <td>97</td>\n",
       "      <td>North City, Dublin</td>\n",
       "      <td>Polish, Cafe</td>\n",
       "      <td>25</td>\n",
       "      <td>0</td>\n",
       "      <td>Not rated</td>\n",
       "      <td>1</td>\n",
       "      <td>0</td>\n",
       "      <td>0</td>\n",
       "      <td>[]</td>\n",
       "    </tr>\n",
       "    <tr>\n",
       "      <th>1</th>\n",
       "      <td>16522498</td>\n",
       "      <td>Lituanica</td>\n",
       "      <td>https://www.zomato.com/dublin/lituanica-north-city?utm_source=api_basic_user&amp;utm_medium=api&amp;utm_campaign=v2.1</td>\n",
       "      <td>Moore Street Mall, 58-66 Moore Street, Dublin Dublin 1</td>\n",
       "      <td>Moore Street Mall, City Centre North</td>\n",
       "      <td>Dublin</td>\n",
       "      <td>91</td>\n",
       "      <td>53.3512583333</td>\n",
       "      <td>-6.2631555556</td>\n",
       "      <td>Dublin 1</td>\n",
       "      <td>97</td>\n",
       "      <td>Moore Street Mall, City Centre North, Dublin</td>\n",
       "      <td>Polish</td>\n",
       "      <td>25</td>\n",
       "      <td>0</td>\n",
       "      <td>Not rated</td>\n",
       "      <td>0</td>\n",
       "      <td>0</td>\n",
       "      <td>0</td>\n",
       "      <td>[]</td>\n",
       "    </tr>\n",
       "    <tr>\n",
       "      <th>2</th>\n",
       "      <td>9100611</td>\n",
       "      <td>The Really Old Sweet Shop</td>\n",
       "      <td>https://www.zomato.com/dublin/the-really-old-sweet-shop-malahide?utm_source=api_basic_user&amp;utm_medium=api&amp;utm_campaign=v2.1</td>\n",
       "      <td>Kilronan House, Church Road, Malahide, Dublin Co. Dublin</td>\n",
       "      <td>Malahide</td>\n",
       "      <td>Dublin</td>\n",
       "      <td>91</td>\n",
       "      <td>53.4502670015</td>\n",
       "      <td>-6.1533546075</td>\n",
       "      <td></td>\n",
       "      <td>97</td>\n",
       "      <td>Malahide, Dublin</td>\n",
       "      <td>Ice Cream, Desserts</td>\n",
       "      <td>10</td>\n",
       "      <td>0</td>\n",
       "      <td>Not rated</td>\n",
       "      <td>2</td>\n",
       "      <td>0</td>\n",
       "      <td>0</td>\n",
       "      <td>[]</td>\n",
       "    </tr>\n",
       "    <tr>\n",
       "      <th>3</th>\n",
       "      <td>18229148</td>\n",
       "      <td>Jinny Joe's Dublin</td>\n",
       "      <td>https://www.zomato.com/dublin/jinny-joes-dublin-crumlin?utm_source=api_basic_user&amp;utm_medium=api&amp;utm_campaign=v2.1</td>\n",
       "      <td>2 Herberton Road, Crumlin, Dublin 12</td>\n",
       "      <td>Crumlin</td>\n",
       "      <td>Dublin</td>\n",
       "      <td>91</td>\n",
       "      <td>53.3306200000</td>\n",
       "      <td>-6.2978960000</td>\n",
       "      <td>12</td>\n",
       "      <td>97</td>\n",
       "      <td>Crumlin, Dublin</td>\n",
       "      <td>Crepes, Ice Cream</td>\n",
       "      <td>10</td>\n",
       "      <td>0</td>\n",
       "      <td>Not rated</td>\n",
       "      <td>1</td>\n",
       "      <td>0</td>\n",
       "      <td>0</td>\n",
       "      <td>[]</td>\n",
       "    </tr>\n",
       "    <tr>\n",
       "      <th>4</th>\n",
       "      <td>16518657</td>\n",
       "      <td>Eileen's Cafe</td>\n",
       "      <td>https://www.zomato.com/dublin/eileens-cafe-howth?utm_source=api_basic_user&amp;utm_medium=api&amp;utm_campaign=v2.1</td>\n",
       "      <td>Unit 1 Island View, Howth, Co. Dublin</td>\n",
       "      <td>Howth</td>\n",
       "      <td>Dublin</td>\n",
       "      <td>91</td>\n",
       "      <td>53.3877916667</td>\n",
       "      <td>-6.0672166667</td>\n",
       "      <td></td>\n",
       "      <td>97</td>\n",
       "      <td>Howth, Dublin</td>\n",
       "      <td>Ice Cream, Crepes, Cafe</td>\n",
       "      <td>20</td>\n",
       "      <td>0</td>\n",
       "      <td>Not rated</td>\n",
       "      <td>1</td>\n",
       "      <td>0</td>\n",
       "      <td>0</td>\n",
       "      <td>[]</td>\n",
       "    </tr>\n",
       "  </tbody>\n",
       "</table>\n",
       "</div>"
      ],
      "text/plain": [
       "  restaurant_id            restaurant_name  \\\n",
       "0  9100081       Chillout Break Cafe         \n",
       "1  16522498      Lituanica                   \n",
       "2  9100611       The Really Old Sweet Shop   \n",
       "3  18229148      Jinny Joe's Dublin          \n",
       "4  16518657      Eileen's Cafe               \n",
       "\n",
       "                                                                                                                           url  \\\n",
       "0  https://www.zomato.com/dublin/chillout-break-cafe-north-city?utm_source=api_basic_user&utm_medium=api&utm_campaign=v2.1       \n",
       "1  https://www.zomato.com/dublin/lituanica-north-city?utm_source=api_basic_user&utm_medium=api&utm_campaign=v2.1                 \n",
       "2  https://www.zomato.com/dublin/the-really-old-sweet-shop-malahide?utm_source=api_basic_user&utm_medium=api&utm_campaign=v2.1   \n",
       "3  https://www.zomato.com/dublin/jinny-joes-dublin-crumlin?utm_source=api_basic_user&utm_medium=api&utm_campaign=v2.1            \n",
       "4  https://www.zomato.com/dublin/eileens-cafe-howth?utm_source=api_basic_user&utm_medium=api&utm_campaign=v2.1                   \n",
       "\n",
       "                                                    address  \\\n",
       "0  11 Moore Street, Dublin Dublin 1                           \n",
       "1  Moore Street Mall, 58-66 Moore Street, Dublin Dublin 1     \n",
       "2  Kilronan House, Church Road, Malahide, Dublin Co. Dublin   \n",
       "3  2 Herberton Road, Crumlin, Dublin 12                       \n",
       "4  Unit 1 Island View, Howth, Co. Dublin                      \n",
       "\n",
       "                               locality    city  city_id       latitude  \\\n",
       "0  North City                            Dublin  91       53.3502083333   \n",
       "1  Moore Street Mall, City Centre North  Dublin  91       53.3512583333   \n",
       "2  Malahide                              Dublin  91       53.4502670015   \n",
       "3  Crumlin                               Dublin  91       53.3306200000   \n",
       "4  Howth                                 Dublin  91       53.3877916667   \n",
       "\n",
       "       longitude   zipcode  country_id  \\\n",
       "0  -6.2623861111  Dublin 1  97           \n",
       "1  -6.2631555556  Dublin 1  97           \n",
       "2  -6.1533546075            97           \n",
       "3  -6.2978960000  12        97           \n",
       "4  -6.0672166667            97           \n",
       "\n",
       "                               locality_verbose                 cuisines  \\\n",
       "0  North City, Dublin                            Polish, Cafe              \n",
       "1  Moore Street Mall, City Centre North, Dublin  Polish                    \n",
       "2  Malahide, Dublin                              Ice Cream, Desserts       \n",
       "3  Crumlin, Dublin                               Crepes, Ice Cream         \n",
       "4  Howth, Dublin                                 Ice Cream, Crepes, Cafe   \n",
       "\n",
       "   average_cost_for_two aggregate_rating rating_text votes  \\\n",
       "0  25                    0                Not rated   1      \n",
       "1  25                    0                Not rated   0      \n",
       "2  10                    0                Not rated   2      \n",
       "3  10                    0                Not rated   1      \n",
       "4  20                    0                Not rated   1      \n",
       "\n",
       "   has_online_delivery  is_table_reservation_supported establishment_types  \n",
       "0  0                    0                               []                  \n",
       "1  0                    0                               []                  \n",
       "2  0                    0                               []                  \n",
       "3  0                    0                               []                  \n",
       "4  0                    0                               []                  "
      ]
     },
     "execution_count": 1616,
     "metadata": {},
     "output_type": "execute_result"
    }
   ],
   "source": [
    "restaurants_dataset.head()"
   ]
  },
  {
   "cell_type": "markdown",
   "metadata": {},
   "source": [
    "Exporting the Restaurant Dataset in a csv file"
   ]
  },
  {
   "cell_type": "code",
   "execution_count": 1599,
   "metadata": {},
   "outputs": [],
   "source": [
    "export_csv = restaurants_dataset.to_csv (r'restaurants_dataset.csv', index = None, header=True)"
   ]
  },
  {
   "cell_type": "markdown",
   "metadata": {},
   "source": [
    "### Fetching More Info data for each Restaurant using Web Scrapping"
   ]
  },
  {
   "cell_type": "markdown",
   "metadata": {},
   "source": [
    "<img src=\"Restaurant_Highlight.png\" width=\"600\" height=\"200\">"
   ]
  },
  {
   "cell_type": "markdown",
   "metadata": {},
   "source": [
    "I have used BeautifulSoup to scrap the data for each restuarant. I have got the URL for each restaurant from the search API which is used to fetch data for restaurants. I have created a dataframe where we have restaurant ID along with it's highlight and whether it's Present ot Not Present. Red cross means \"Not Present\" and Blue Tick means \"Prsent\""
   ]
  },
  {
   "cell_type": "code",
   "execution_count": 1428,
   "metadata": {},
   "outputs": [],
   "source": [
    "highlight=[]\n",
    "count=0;\n",
    "#Iterating through the restaurants_dataset\n",
    "for index, row in restaurants_dataset.iterrows():\n",
    "    restaurant_id=row[\"restaurant_id\"]\n",
    "    url=row[\"url\"]\n",
    "    headers = {'User-Agent': 'Mozilla/5.0 (Macintosh; Intel Mac OS X 10_11_6) AppleWebKit/537.36 (KHTML, like Gecko) Chrome/61.0.3163.100 Safari/537.36'}\n",
    "    response = requests.get(url,headers=headers)\n",
    "    content = response.content\n",
    "    soup = BeautifulSoup(content,\"html.parser\")\n",
    "    rest_highlights = soup.find_all(\"div\",attrs={\"class\": \"res-info-highlights\"})\n",
    "    #To iterate through each highlight or more info of a particular restaurant\n",
    "    for EachHighlight in rest_highlights[0].select('div[class*=\"clearfix mb5\"]'):\n",
    "        iconText=EachHighlight.find(\"i\")\n",
    "        if 'red' in iconText['class']:\n",
    "            icon=\"Not Present\"\n",
    "        elif 'green' in iconText['class']:\n",
    "            icon=\"Present\"\n",
    "        text=EachHighlight.find(\"div\").text\n",
    "        highlight.append([restaurant_id,text,icon])  \n",
    "    count = count+1"
   ]
  },
  {
   "cell_type": "markdown",
   "metadata": {},
   "source": [
    "Creating the Dataframe"
   ]
  },
  {
   "cell_type": "code",
   "execution_count": 1600,
   "metadata": {},
   "outputs": [
    {
     "data": {
      "text/html": [
       "<div>\n",
       "<style scoped>\n",
       "    .dataframe tbody tr th:only-of-type {\n",
       "        vertical-align: middle;\n",
       "    }\n",
       "\n",
       "    .dataframe tbody tr th {\n",
       "        vertical-align: top;\n",
       "    }\n",
       "\n",
       "    .dataframe thead th {\n",
       "        text-align: right;\n",
       "    }\n",
       "</style>\n",
       "<table border=\"1\" class=\"dataframe\">\n",
       "  <thead>\n",
       "    <tr style=\"text-align: right;\">\n",
       "      <th></th>\n",
       "      <th>restaurant_id</th>\n",
       "      <th>Highlights</th>\n",
       "      <th>Present/NotPresent</th>\n",
       "    </tr>\n",
       "  </thead>\n",
       "  <tbody>\n",
       "    <tr>\n",
       "      <th>0</th>\n",
       "      <td>9100081</td>\n",
       "      <td>Takeaway Available</td>\n",
       "      <td>Present</td>\n",
       "    </tr>\n",
       "    <tr>\n",
       "      <th>1</th>\n",
       "      <td>9100081</td>\n",
       "      <td>Indoor Seating</td>\n",
       "      <td>Present</td>\n",
       "    </tr>\n",
       "    <tr>\n",
       "      <th>2</th>\n",
       "      <td>16522498</td>\n",
       "      <td>Takeaway Available</td>\n",
       "      <td>Present</td>\n",
       "    </tr>\n",
       "    <tr>\n",
       "      <th>3</th>\n",
       "      <td>16522498</td>\n",
       "      <td>Indoor Seating</td>\n",
       "      <td>Present</td>\n",
       "    </tr>\n",
       "    <tr>\n",
       "      <th>4</th>\n",
       "      <td>9100611</td>\n",
       "      <td>Takeaway Available</td>\n",
       "      <td>Present</td>\n",
       "    </tr>\n",
       "  </tbody>\n",
       "</table>\n",
       "</div>"
      ],
      "text/plain": [
       "  restaurant_id          Highlights Present/NotPresent\n",
       "0  9100081       Takeaway Available  Present          \n",
       "1  9100081       Indoor Seating      Present          \n",
       "2  16522498      Takeaway Available  Present          \n",
       "3  16522498      Indoor Seating      Present          \n",
       "4  9100611       Takeaway Available  Present          "
      ]
     },
     "execution_count": 1600,
     "metadata": {},
     "output_type": "execute_result"
    }
   ],
   "source": [
    "restaurant_feature_dataset = pd.DataFrame(highlight)\n",
    "restaurant_feature_dataset.columns = ['restaurant_id','Highlights','Present/NotPresent']\n",
    "restaurant_feature_dataset.head()"
   ]
  },
  {
   "cell_type": "markdown",
   "metadata": {},
   "source": [
    "Exporting the resulting dataset in a csv file"
   ]
  },
  {
   "cell_type": "code",
   "execution_count": 1601,
   "metadata": {},
   "outputs": [],
   "source": [
    "export_csv = restaurant_feature_dataset.to_csv (r'restaurant_feature_dataset.csv', index = None, header=True)"
   ]
  },
  {
   "cell_type": "markdown",
   "metadata": {},
   "source": [
    "### Fetching Reviews of each Restaurant"
   ]
  },
  {
   "cell_type": "markdown",
   "metadata": {},
   "source": [
    "In the basic API plan, we can get only 5 reviews for each restaurants. Also, these reviews are not complete, we only get first 150 characters of each review. I have done the analysis using this available data. I have <b>5463 reviews</b> in the dataset. We have to run the below code on two separate days to get the entire data for analysis. You can change the number of rows while selecting restaurant_id_list. On day 1, you can fetch for restaurants_dataset['restaurant_id'][:950] and on second day you can change the parameter to restaurants_dataset['restaurant_id'][950:1928]. By doing so you will get complete dataset.<br>\n",
    "<b><font color=\"red\">Please Note</font></b><br>\n",
    "In the below code, we are saving all the JSON files in reviews folder. If you run the below command, all the files will be saved in that location. For the further analysis please use <b>reviews_data</b> folder, as that will have all the data which was collected on various days.\n"
   ]
  },
  {
   "cell_type": "code",
   "execution_count": 1435,
   "metadata": {},
   "outputs": [],
   "source": [
    "count=0;\n",
    "restaurant_id_list = restaurants_dataset['restaurant_id'][950:1928]\n",
    "for restaurant_id in restaurant_id_list :\n",
    "    link='https://developers.zomato.com/api/v2.1/reviews?res_id=%s' % (restaurant_id)\n",
    "    review_request=requests.get(link,headers={'Accept':'application/json','user-key':'53731a7e2eb6195ed6a58eaf0e4f6b31'})\n",
    "    file_name='%s.json'% (restaurant_id)\n",
    "    file_name=os.path.join(os.getcwd(),'reviews',file_name)\n",
    "    file = open(file_name, \"w\")\n",
    "    file.write(review_request.text)\n",
    "    file.close()\n",
    "    count += 1"
   ]
  },
  {
   "cell_type": "markdown",
   "metadata": {},
   "source": [
    "## 3. Parse the collected data, and store it in an appropriate file format for subsequent analysis (e.g. plain text, JSON, XML, CSV)."
   ]
  },
  {
   "cell_type": "markdown",
   "metadata": {},
   "source": [
    "<b>I have alreaded parsed and stored the data in a CSV format for restaurants and restaurants highlight data in the previous step. I would be doing the same for the remaining data which was collected in above task. </b>"
   ]
  },
  {
   "cell_type": "markdown",
   "metadata": {},
   "source": [
    "### Reading the cuisines.json file and parsing the relevant information it to store it in the dataframe"
   ]
  },
  {
   "cell_type": "code",
   "execution_count": 1613,
   "metadata": {},
   "outputs": [
    {
     "data": {
      "text/html": [
       "<div>\n",
       "<style scoped>\n",
       "    .dataframe tbody tr th:only-of-type {\n",
       "        vertical-align: middle;\n",
       "    }\n",
       "\n",
       "    .dataframe tbody tr th {\n",
       "        vertical-align: top;\n",
       "    }\n",
       "\n",
       "    .dataframe thead th {\n",
       "        text-align: right;\n",
       "    }\n",
       "</style>\n",
       "<table border=\"1\" class=\"dataframe\">\n",
       "  <thead>\n",
       "    <tr style=\"text-align: right;\">\n",
       "      <th></th>\n",
       "      <th>cuisine_id</th>\n",
       "      <th>cuisine_name</th>\n",
       "    </tr>\n",
       "  </thead>\n",
       "  <tbody>\n",
       "    <tr>\n",
       "      <th>0</th>\n",
       "      <td>152</td>\n",
       "      <td>African</td>\n",
       "    </tr>\n",
       "    <tr>\n",
       "      <th>1</th>\n",
       "      <td>1</td>\n",
       "      <td>American</td>\n",
       "    </tr>\n",
       "    <tr>\n",
       "      <th>2</th>\n",
       "      <td>151</td>\n",
       "      <td>Argentine</td>\n",
       "    </tr>\n",
       "    <tr>\n",
       "      <th>3</th>\n",
       "      <td>3</td>\n",
       "      <td>Asian</td>\n",
       "    </tr>\n",
       "    <tr>\n",
       "      <th>4</th>\n",
       "      <td>131</td>\n",
       "      <td>Australian</td>\n",
       "    </tr>\n",
       "  </tbody>\n",
       "</table>\n",
       "</div>"
      ],
      "text/plain": [
       "   cuisine_id cuisine_name\n",
       "0  152         African    \n",
       "1  1           American   \n",
       "2  151         Argentine  \n",
       "3  3           Asian      \n",
       "4  131         Australian "
      ]
     },
     "execution_count": 1613,
     "metadata": {},
     "output_type": "execute_result"
    }
   ],
   "source": [
    "with open('cuisines.json') as cuisines_json:\n",
    "    cuisines = json.load(cuisines_json)\n",
    "    cuisines = cuisines['cuisines']\n",
    "    cuisines_list = []\n",
    "    for cuisine in cuisines:\n",
    "        cuisines_list.append([cuisine['cuisine']['cuisine_id'],cuisine['cuisine']['cuisine_name']])\n",
    "        \n",
    "cuisines_dataset = pd.DataFrame(cuisines_list)\n",
    "cuisines_dataset.columns = ['cuisine_id','cuisine_name']\n",
    "cuisines_dataset.head()"
   ]
  },
  {
   "cell_type": "code",
   "execution_count": 1614,
   "metadata": {},
   "outputs": [],
   "source": [
    "export_csv = cuisines_dataset.to_csv (r'cuisines_dataset.csv', index = None, header=True)"
   ]
  },
  {
   "cell_type": "markdown",
   "metadata": {},
   "source": [
    "### Reading the <b>categories.json </b> file and parsing the relevant information it to store it in the dataframe"
   ]
  },
  {
   "cell_type": "code",
   "execution_count": 1602,
   "metadata": {},
   "outputs": [
    {
     "data": {
      "text/html": [
       "<div>\n",
       "<style scoped>\n",
       "    .dataframe tbody tr th:only-of-type {\n",
       "        vertical-align: middle;\n",
       "    }\n",
       "\n",
       "    .dataframe tbody tr th {\n",
       "        vertical-align: top;\n",
       "    }\n",
       "\n",
       "    .dataframe thead th {\n",
       "        text-align: right;\n",
       "    }\n",
       "</style>\n",
       "<table border=\"1\" class=\"dataframe\">\n",
       "  <thead>\n",
       "    <tr style=\"text-align: right;\">\n",
       "      <th></th>\n",
       "      <th>ID</th>\n",
       "      <th>Name</th>\n",
       "    </tr>\n",
       "  </thead>\n",
       "  <tbody>\n",
       "    <tr>\n",
       "      <th>0</th>\n",
       "      <td>1</td>\n",
       "      <td>Delivery</td>\n",
       "    </tr>\n",
       "    <tr>\n",
       "      <th>1</th>\n",
       "      <td>2</td>\n",
       "      <td>Dine-out</td>\n",
       "    </tr>\n",
       "    <tr>\n",
       "      <th>2</th>\n",
       "      <td>3</td>\n",
       "      <td>Nightlife</td>\n",
       "    </tr>\n",
       "    <tr>\n",
       "      <th>3</th>\n",
       "      <td>4</td>\n",
       "      <td>Catching-up</td>\n",
       "    </tr>\n",
       "    <tr>\n",
       "      <th>4</th>\n",
       "      <td>5</td>\n",
       "      <td>Takeaway</td>\n",
       "    </tr>\n",
       "    <tr>\n",
       "      <th>5</th>\n",
       "      <td>6</td>\n",
       "      <td>Cafes</td>\n",
       "    </tr>\n",
       "    <tr>\n",
       "      <th>6</th>\n",
       "      <td>7</td>\n",
       "      <td>Daily Menus</td>\n",
       "    </tr>\n",
       "    <tr>\n",
       "      <th>7</th>\n",
       "      <td>8</td>\n",
       "      <td>Breakfast</td>\n",
       "    </tr>\n",
       "    <tr>\n",
       "      <th>8</th>\n",
       "      <td>9</td>\n",
       "      <td>Lunch</td>\n",
       "    </tr>\n",
       "    <tr>\n",
       "      <th>9</th>\n",
       "      <td>10</td>\n",
       "      <td>Dinner</td>\n",
       "    </tr>\n",
       "    <tr>\n",
       "      <th>10</th>\n",
       "      <td>11</td>\n",
       "      <td>Pubs &amp; Bars</td>\n",
       "    </tr>\n",
       "    <tr>\n",
       "      <th>11</th>\n",
       "      <td>13</td>\n",
       "      <td>Pocket Friendly Delivery</td>\n",
       "    </tr>\n",
       "    <tr>\n",
       "      <th>12</th>\n",
       "      <td>14</td>\n",
       "      <td>Clubs &amp; Lounges</td>\n",
       "    </tr>\n",
       "  </tbody>\n",
       "</table>\n",
       "</div>"
      ],
      "text/plain": [
       "    ID                      Name\n",
       "0   1   Delivery                \n",
       "1   2   Dine-out                \n",
       "2   3   Nightlife               \n",
       "3   4   Catching-up             \n",
       "4   5   Takeaway                \n",
       "5   6   Cafes                   \n",
       "6   7   Daily Menus             \n",
       "7   8   Breakfast               \n",
       "8   9   Lunch                   \n",
       "9   10  Dinner                  \n",
       "10  11  Pubs & Bars             \n",
       "11  13  Pocket Friendly Delivery\n",
       "12  14  Clubs & Lounges         "
      ]
     },
     "execution_count": 1602,
     "metadata": {},
     "output_type": "execute_result"
    }
   ],
   "source": [
    "with open('categories.json') as json_file:\n",
    "    categories = json.load(json_file)\n",
    "    categories = categories['categories']\n",
    "    categories_list = []\n",
    "    for category in categories:\n",
    "        categories_list.append([category['categories']['id'],category['categories']['name']])\n",
    "        \n",
    "categories_dataset = pd.DataFrame(categories_list)\n",
    "categories_dataset.columns = ['ID','Name']\n",
    "categories_dataset   "
   ]
  },
  {
   "cell_type": "markdown",
   "metadata": {},
   "source": [
    "Exporting the resulting dataset in the csv file"
   ]
  },
  {
   "cell_type": "code",
   "execution_count": 1603,
   "metadata": {},
   "outputs": [],
   "source": [
    "export_csv = categories_dataset.to_csv (r'categories_dataset.csv', index = None, header=True)"
   ]
  },
  {
   "cell_type": "markdown",
   "metadata": {},
   "source": [
    "### Reading the <b>establishments.json</b> file and parsing the relevant information to store it in the dataframe"
   ]
  },
  {
   "cell_type": "code",
   "execution_count": 1604,
   "metadata": {},
   "outputs": [
    {
     "data": {
      "text/html": [
       "<div>\n",
       "<style scoped>\n",
       "    .dataframe tbody tr th:only-of-type {\n",
       "        vertical-align: middle;\n",
       "    }\n",
       "\n",
       "    .dataframe tbody tr th {\n",
       "        vertical-align: top;\n",
       "    }\n",
       "\n",
       "    .dataframe thead th {\n",
       "        text-align: right;\n",
       "    }\n",
       "</style>\n",
       "<table border=\"1\" class=\"dataframe\">\n",
       "  <thead>\n",
       "    <tr style=\"text-align: right;\">\n",
       "      <th></th>\n",
       "      <th>establishment_id</th>\n",
       "      <th>establishment_name</th>\n",
       "    </tr>\n",
       "  </thead>\n",
       "  <tbody>\n",
       "    <tr>\n",
       "      <th>0</th>\n",
       "      <td>20</td>\n",
       "      <td>Food Court</td>\n",
       "    </tr>\n",
       "    <tr>\n",
       "      <th>1</th>\n",
       "      <td>21</td>\n",
       "      <td>Quick Bites</td>\n",
       "    </tr>\n",
       "    <tr>\n",
       "      <th>2</th>\n",
       "      <td>1</td>\n",
       "      <td>Café</td>\n",
       "    </tr>\n",
       "    <tr>\n",
       "      <th>3</th>\n",
       "      <td>16</td>\n",
       "      <td>Casual Dining</td>\n",
       "    </tr>\n",
       "    <tr>\n",
       "      <th>4</th>\n",
       "      <td>6</td>\n",
       "      <td>Pub</td>\n",
       "    </tr>\n",
       "  </tbody>\n",
       "</table>\n",
       "</div>"
      ],
      "text/plain": [
       "   establishment_id establishment_name\n",
       "0  20                Food Court       \n",
       "1  21                Quick Bites      \n",
       "2  1                 Café             \n",
       "3  16                Casual Dining    \n",
       "4  6                 Pub              "
      ]
     },
     "execution_count": 1604,
     "metadata": {},
     "output_type": "execute_result"
    }
   ],
   "source": [
    "with open('establishments.json') as establishments_json:\n",
    "    establishments = json.load(establishments_json)\n",
    "    establishments = establishments['establishments']\n",
    "    establishments_list = []\n",
    "    for establishment in establishments:\n",
    "        establishments_list.append([establishment['establishment']['id'],establishment['establishment']['name']])\n",
    "\n",
    "establishments_dataset = pd.DataFrame(establishments_list)\n",
    "establishments_dataset.columns = ['establishment_id','establishment_name']\n",
    "establishments_dataset.head()"
   ]
  },
  {
   "cell_type": "markdown",
   "metadata": {},
   "source": [
    "Exporting the resulting dataset in the csv file"
   ]
  },
  {
   "cell_type": "code",
   "execution_count": 1605,
   "metadata": {},
   "outputs": [],
   "source": [
    "export_csv = establishments_dataset.to_csv (r'establishments_dataset.csv', index = None, header=True)"
   ]
  },
  {
   "cell_type": "markdown",
   "metadata": {},
   "source": [
    "### Reading the reviews json files and parsing the relevant information to store it in the dataframe"
   ]
  },
  {
   "cell_type": "markdown",
   "metadata": {},
   "source": [
    "All the review json files was collected and stored in reviews_data folder. I am reading each file and parsing the relevant information from each file and storing the data in the dataframe."
   ]
  },
  {
   "cell_type": "code",
   "execution_count": 1606,
   "metadata": {},
   "outputs": [
    {
     "data": {
      "text/html": [
       "<div>\n",
       "<style scoped>\n",
       "    .dataframe tbody tr th:only-of-type {\n",
       "        vertical-align: middle;\n",
       "    }\n",
       "\n",
       "    .dataframe tbody tr th {\n",
       "        vertical-align: top;\n",
       "    }\n",
       "\n",
       "    .dataframe thead th {\n",
       "        text-align: right;\n",
       "    }\n",
       "</style>\n",
       "<table border=\"1\" class=\"dataframe\">\n",
       "  <thead>\n",
       "    <tr style=\"text-align: right;\">\n",
       "      <th></th>\n",
       "      <th>restaurant_id</th>\n",
       "      <th>review_rating</th>\n",
       "      <th>review_text</th>\n",
       "      <th>review_id</th>\n",
       "      <th>rating_text</th>\n",
       "      <th>likes</th>\n",
       "      <th>username</th>\n",
       "      <th>user_foodie_level</th>\n",
       "      <th>user_foodie_level_num</th>\n",
       "      <th>comments_count</th>\n",
       "    </tr>\n",
       "  </thead>\n",
       "  <tbody>\n",
       "    <tr>\n",
       "      <th>0</th>\n",
       "      <td>9100412</td>\n",
       "      <td>1.0</td>\n",
       "      <td>We ordered a pizza meal, and it didnt arrived. We rang to claim and they said they were going to send it back. It never came. We waited for ...</td>\n",
       "      <td>26147540</td>\n",
       "      <td>Avoid!</td>\n",
       "      <td>0</td>\n",
       "      <td>Juan Paleo</td>\n",
       "      <td>Foodie</td>\n",
       "      <td>2</td>\n",
       "      <td>0</td>\n",
       "    </tr>\n",
       "    <tr>\n",
       "      <th>1</th>\n",
       "      <td>9100412</td>\n",
       "      <td>1.0</td>\n",
       "      <td>NEVER AGAIN!!! Ordered my pizza online using the website at 19:45 and was so disappointing. Online gave option of selecting toppings with a ...</td>\n",
       "      <td>25440914</td>\n",
       "      <td>Avoid!</td>\n",
       "      <td>0</td>\n",
       "      <td>Fiona B</td>\n",
       "      <td>Foodie</td>\n",
       "      <td>2</td>\n",
       "      <td>0</td>\n",
       "    </tr>\n",
       "    <tr>\n",
       "      <th>2</th>\n",
       "      <td>18372847</td>\n",
       "      <td>4.0</td>\n",
       "      <td>Good buffet... Been there a few times with friends. Good staffs and plenty of options to choose from. Desert section needs some improvisatio...</td>\n",
       "      <td>40108317</td>\n",
       "      <td>Great!</td>\n",
       "      <td>0</td>\n",
       "      <td>Danny Joseph Sequeira</td>\n",
       "      <td>Big Foodie</td>\n",
       "      <td>4</td>\n",
       "      <td>0</td>\n",
       "    </tr>\n",
       "    <tr>\n",
       "      <th>3</th>\n",
       "      <td>18372847</td>\n",
       "      <td>1.0</td>\n",
       "      <td>I chose the reaturant as a Bday lunch for my wife. But sad to say, One of the worst and worst experience in my life choosing this restaurant...</td>\n",
       "      <td>39659350</td>\n",
       "      <td>Avoid!</td>\n",
       "      <td>0</td>\n",
       "      <td>@jack</td>\n",
       "      <td>Big Foodie</td>\n",
       "      <td>4</td>\n",
       "      <td>0</td>\n",
       "    </tr>\n",
       "    <tr>\n",
       "      <th>4</th>\n",
       "      <td>18372847</td>\n",
       "      <td>3.0</td>\n",
       "      <td>Good food. Average quality. It would be better if the quality of desserts was more focused on than the variety. Very few vegetarian options....</td>\n",
       "      <td>35078916</td>\n",
       "      <td>Average</td>\n",
       "      <td>8</td>\n",
       "      <td>Kashish Verma</td>\n",
       "      <td>Big Foodie</td>\n",
       "      <td>5</td>\n",
       "      <td>0</td>\n",
       "    </tr>\n",
       "  </tbody>\n",
       "</table>\n",
       "</div>"
      ],
      "text/plain": [
       "  restaurant_id  review_rating  \\\n",
       "0  9100412       1.0             \n",
       "1  9100412       1.0             \n",
       "2  18372847      4.0             \n",
       "3  18372847      1.0             \n",
       "4  18372847      3.0             \n",
       "\n",
       "                                                                                                                                       review_text  \\\n",
       "0  We ordered a pizza meal, and it didnt arrived. We rang to claim and they said they were going to send it back. It never came. We waited for ...   \n",
       "1  NEVER AGAIN!!! Ordered my pizza online using the website at 19:45 and was so disappointing. Online gave option of selecting toppings with a ...   \n",
       "2  Good buffet... Been there a few times with friends. Good staffs and plenty of options to choose from. Desert section needs some improvisatio...   \n",
       "3  I chose the reaturant as a Bday lunch for my wife. But sad to say, One of the worst and worst experience in my life choosing this restaurant...   \n",
       "4  Good food. Average quality. It would be better if the quality of desserts was more focused on than the variety. Very few vegetarian options....   \n",
       "\n",
       "   review_id rating_text  likes               username user_foodie_level  \\\n",
       "0  26147540   Avoid!      0      Juan Paleo             Foodie             \n",
       "1  25440914   Avoid!      0      Fiona B                Foodie             \n",
       "2  40108317   Great!      0      Danny Joseph Sequeira  Big Foodie         \n",
       "3  39659350   Avoid!      0      @jack                  Big Foodie         \n",
       "4  35078916   Average     8      Kashish Verma          Big Foodie         \n",
       "\n",
       "   user_foodie_level_num  comments_count  \n",
       "0  2                      0               \n",
       "1  2                      0               \n",
       "2  4                      0               \n",
       "3  4                      0               \n",
       "4  5                      0               "
      ]
     },
     "execution_count": 1606,
     "metadata": {},
     "output_type": "execute_result"
    }
   ],
   "source": [
    "#Folder Location where all the JSON files are stored\n",
    "path_to_json = './reviews_data/'\n",
    "#Finding only the JSON files\n",
    "json_files = [pos_json for pos_json in os.listdir(path_to_json) if pos_json.endswith('.json')]\n",
    "\n",
    "reviews_list = []\n",
    "for index, js in enumerate(json_files):\n",
    "    with open(os.path.join(path_to_json, js)) as json_file:\n",
    "        #Reading the JSON file\n",
    "        reviews = json.load(json_file)\n",
    "        reviews = reviews['user_reviews']\n",
    "        #Fetching the restaurant_id from the file name\n",
    "        restaurant_id=js[:-5]\n",
    "        for review in reviews:\n",
    "            reviews_list.append([restaurant_id,review['review']['rating'],review['review']['review_text'],\n",
    "                                review['review']['id'],review['review']['rating_text'],\n",
    "                                review['review']['likes'],review['review']['user']['name'],\n",
    "                                review['review']['user']['foodie_level'],review['review']['user']['foodie_level_num'],\n",
    "                                review['review']['comments_count']])\n",
    "\n",
    "\n",
    "#creating the dataframe\n",
    "reviews_dataset = pd.DataFrame(reviews_list)\n",
    "reviews_dataset.columns = ['restaurant_id','review_rating','review_text','review_id','rating_text','likes',\n",
    "                           'username','user_foodie_level','user_foodie_level_num','comments_count']\n",
    "reviews_dataset.head()"
   ]
  },
  {
   "cell_type": "markdown",
   "metadata": {},
   "source": [
    "Exporting the resulting dataset in the csv file"
   ]
  },
  {
   "cell_type": "code",
   "execution_count": 1607,
   "metadata": {},
   "outputs": [],
   "source": [
    "export_csv = reviews_dataset.to_csv (r'reviews_dataset.csv', index = None, header=True)"
   ]
  },
  {
   "cell_type": "markdown",
   "metadata": {},
   "source": [
    "## 4. Task- Load and represent the data using an appropriate data structure (i.e. records/ items as rows, described by features as columns). Apply any preprocessing steps that might be required to clean/filter/combine the data before analysis. Where more than one API is used, propose suitable data integration methods."
   ]
  },
  {
   "cell_type": "markdown",
   "metadata": {},
   "source": [
    "All the the Dataframes have been loaded in the previous task from the JSON files"
   ]
  },
  {
   "cell_type": "code",
   "execution_count": 1608,
   "metadata": {},
   "outputs": [
    {
     "data": {
      "text/html": [
       "<div>\n",
       "<style scoped>\n",
       "    .dataframe tbody tr th:only-of-type {\n",
       "        vertical-align: middle;\n",
       "    }\n",
       "\n",
       "    .dataframe tbody tr th {\n",
       "        vertical-align: top;\n",
       "    }\n",
       "\n",
       "    .dataframe thead th {\n",
       "        text-align: right;\n",
       "    }\n",
       "</style>\n",
       "<table border=\"1\" class=\"dataframe\">\n",
       "  <thead>\n",
       "    <tr style=\"text-align: right;\">\n",
       "      <th></th>\n",
       "      <th>cuisine_id</th>\n",
       "      <th>cuisine_name</th>\n",
       "    </tr>\n",
       "  </thead>\n",
       "  <tbody>\n",
       "    <tr>\n",
       "      <th>0</th>\n",
       "      <td>152</td>\n",
       "      <td>African</td>\n",
       "    </tr>\n",
       "    <tr>\n",
       "      <th>1</th>\n",
       "      <td>1</td>\n",
       "      <td>American</td>\n",
       "    </tr>\n",
       "  </tbody>\n",
       "</table>\n",
       "</div>"
      ],
      "text/plain": [
       "   cuisine_id cuisine_name\n",
       "0  152         African    \n",
       "1  1           American   "
      ]
     },
     "execution_count": 1608,
     "metadata": {},
     "output_type": "execute_result"
    }
   ],
   "source": [
    "cuisines_dataset.head(2)"
   ]
  },
  {
   "cell_type": "code",
   "execution_count": 1609,
   "metadata": {},
   "outputs": [
    {
     "data": {
      "text/html": [
       "<div>\n",
       "<style scoped>\n",
       "    .dataframe tbody tr th:only-of-type {\n",
       "        vertical-align: middle;\n",
       "    }\n",
       "\n",
       "    .dataframe tbody tr th {\n",
       "        vertical-align: top;\n",
       "    }\n",
       "\n",
       "    .dataframe thead th {\n",
       "        text-align: right;\n",
       "    }\n",
       "</style>\n",
       "<table border=\"1\" class=\"dataframe\">\n",
       "  <thead>\n",
       "    <tr style=\"text-align: right;\">\n",
       "      <th></th>\n",
       "      <th>restaurant_id</th>\n",
       "      <th>Highlights</th>\n",
       "      <th>Present/NotPresent</th>\n",
       "    </tr>\n",
       "  </thead>\n",
       "  <tbody>\n",
       "    <tr>\n",
       "      <th>0</th>\n",
       "      <td>9100081</td>\n",
       "      <td>Takeaway Available</td>\n",
       "      <td>Present</td>\n",
       "    </tr>\n",
       "    <tr>\n",
       "      <th>1</th>\n",
       "      <td>9100081</td>\n",
       "      <td>Indoor Seating</td>\n",
       "      <td>Present</td>\n",
       "    </tr>\n",
       "  </tbody>\n",
       "</table>\n",
       "</div>"
      ],
      "text/plain": [
       "  restaurant_id          Highlights Present/NotPresent\n",
       "0  9100081       Takeaway Available  Present          \n",
       "1  9100081       Indoor Seating      Present          "
      ]
     },
     "execution_count": 1609,
     "metadata": {},
     "output_type": "execute_result"
    }
   ],
   "source": [
    "restaurant_feature_dataset.head(2)"
   ]
  },
  {
   "cell_type": "code",
   "execution_count": 1610,
   "metadata": {},
   "outputs": [
    {
     "data": {
      "text/html": [
       "<div>\n",
       "<style scoped>\n",
       "    .dataframe tbody tr th:only-of-type {\n",
       "        vertical-align: middle;\n",
       "    }\n",
       "\n",
       "    .dataframe tbody tr th {\n",
       "        vertical-align: top;\n",
       "    }\n",
       "\n",
       "    .dataframe thead th {\n",
       "        text-align: right;\n",
       "    }\n",
       "</style>\n",
       "<table border=\"1\" class=\"dataframe\">\n",
       "  <thead>\n",
       "    <tr style=\"text-align: right;\">\n",
       "      <th></th>\n",
       "      <th>ID</th>\n",
       "      <th>Name</th>\n",
       "    </tr>\n",
       "  </thead>\n",
       "  <tbody>\n",
       "    <tr>\n",
       "      <th>0</th>\n",
       "      <td>1</td>\n",
       "      <td>Delivery</td>\n",
       "    </tr>\n",
       "    <tr>\n",
       "      <th>1</th>\n",
       "      <td>2</td>\n",
       "      <td>Dine-out</td>\n",
       "    </tr>\n",
       "  </tbody>\n",
       "</table>\n",
       "</div>"
      ],
      "text/plain": [
       "   ID      Name\n",
       "0  1   Delivery\n",
       "1  2   Dine-out"
      ]
     },
     "execution_count": 1610,
     "metadata": {},
     "output_type": "execute_result"
    }
   ],
   "source": [
    "categories_dataset.head(2)"
   ]
  },
  {
   "cell_type": "code",
   "execution_count": 1611,
   "metadata": {},
   "outputs": [
    {
     "data": {
      "text/html": [
       "<div>\n",
       "<style scoped>\n",
       "    .dataframe tbody tr th:only-of-type {\n",
       "        vertical-align: middle;\n",
       "    }\n",
       "\n",
       "    .dataframe tbody tr th {\n",
       "        vertical-align: top;\n",
       "    }\n",
       "\n",
       "    .dataframe thead th {\n",
       "        text-align: right;\n",
       "    }\n",
       "</style>\n",
       "<table border=\"1\" class=\"dataframe\">\n",
       "  <thead>\n",
       "    <tr style=\"text-align: right;\">\n",
       "      <th></th>\n",
       "      <th>establishment_id</th>\n",
       "      <th>establishment_name</th>\n",
       "    </tr>\n",
       "  </thead>\n",
       "  <tbody>\n",
       "    <tr>\n",
       "      <th>0</th>\n",
       "      <td>20</td>\n",
       "      <td>Food Court</td>\n",
       "    </tr>\n",
       "    <tr>\n",
       "      <th>1</th>\n",
       "      <td>21</td>\n",
       "      <td>Quick Bites</td>\n",
       "    </tr>\n",
       "  </tbody>\n",
       "</table>\n",
       "</div>"
      ],
      "text/plain": [
       "   establishment_id establishment_name\n",
       "0  20                Food Court       \n",
       "1  21                Quick Bites      "
      ]
     },
     "execution_count": 1611,
     "metadata": {},
     "output_type": "execute_result"
    }
   ],
   "source": [
    "establishments_dataset.head(2)"
   ]
  },
  {
   "cell_type": "code",
   "execution_count": 1612,
   "metadata": {},
   "outputs": [
    {
     "data": {
      "text/html": [
       "<div>\n",
       "<style scoped>\n",
       "    .dataframe tbody tr th:only-of-type {\n",
       "        vertical-align: middle;\n",
       "    }\n",
       "\n",
       "    .dataframe tbody tr th {\n",
       "        vertical-align: top;\n",
       "    }\n",
       "\n",
       "    .dataframe thead th {\n",
       "        text-align: right;\n",
       "    }\n",
       "</style>\n",
       "<table border=\"1\" class=\"dataframe\">\n",
       "  <thead>\n",
       "    <tr style=\"text-align: right;\">\n",
       "      <th></th>\n",
       "      <th>restaurant_id</th>\n",
       "      <th>review_rating</th>\n",
       "      <th>review_text</th>\n",
       "      <th>review_id</th>\n",
       "      <th>rating_text</th>\n",
       "      <th>likes</th>\n",
       "      <th>username</th>\n",
       "      <th>user_foodie_level</th>\n",
       "      <th>user_foodie_level_num</th>\n",
       "      <th>comments_count</th>\n",
       "    </tr>\n",
       "  </thead>\n",
       "  <tbody>\n",
       "    <tr>\n",
       "      <th>0</th>\n",
       "      <td>9100412</td>\n",
       "      <td>1.0</td>\n",
       "      <td>We ordered a pizza meal, and it didnt arrived. We rang to claim and they said they were going to send it back. It never came. We waited for ...</td>\n",
       "      <td>26147540</td>\n",
       "      <td>Avoid!</td>\n",
       "      <td>0</td>\n",
       "      <td>Juan Paleo</td>\n",
       "      <td>Foodie</td>\n",
       "      <td>2</td>\n",
       "      <td>0</td>\n",
       "    </tr>\n",
       "    <tr>\n",
       "      <th>1</th>\n",
       "      <td>9100412</td>\n",
       "      <td>1.0</td>\n",
       "      <td>NEVER AGAIN!!! Ordered my pizza online using the website at 19:45 and was so disappointing. Online gave option of selecting toppings with a ...</td>\n",
       "      <td>25440914</td>\n",
       "      <td>Avoid!</td>\n",
       "      <td>0</td>\n",
       "      <td>Fiona B</td>\n",
       "      <td>Foodie</td>\n",
       "      <td>2</td>\n",
       "      <td>0</td>\n",
       "    </tr>\n",
       "  </tbody>\n",
       "</table>\n",
       "</div>"
      ],
      "text/plain": [
       "  restaurant_id  review_rating  \\\n",
       "0  9100412       1.0             \n",
       "1  9100412       1.0             \n",
       "\n",
       "                                                                                                                                       review_text  \\\n",
       "0  We ordered a pizza meal, and it didnt arrived. We rang to claim and they said they were going to send it back. It never came. We waited for ...   \n",
       "1  NEVER AGAIN!!! Ordered my pizza online using the website at 19:45 and was so disappointing. Online gave option of selecting toppings with a ...   \n",
       "\n",
       "   review_id rating_text  likes    username user_foodie_level  \\\n",
       "0  26147540   Avoid!      0      Juan Paleo  Foodie             \n",
       "1  25440914   Avoid!      0      Fiona B     Foodie             \n",
       "\n",
       "   user_foodie_level_num  comments_count  \n",
       "0  2                      0               \n",
       "1  2                      0               "
      ]
     },
     "execution_count": 1612,
     "metadata": {},
     "output_type": "execute_result"
    }
   ],
   "source": [
    "reviews_dataset.head(2)"
   ]
  },
  {
   "cell_type": "markdown",
   "metadata": {},
   "source": [
    "All our dataframes have been loaded from the CSV files"
   ]
  },
  {
   "cell_type": "markdown",
   "metadata": {},
   "source": [
    "### Preprocessing steps"
   ]
  },
  {
   "cell_type": "markdown",
   "metadata": {},
   "source": [
    "Following preprocessing steps are being performed:-\n",
    "<ol>\n",
    "    <li> Removing Duplicate Records from restaurants_dataset </li>  \n",
    "    <li> Checking if there are any null values in any column</li>\n",
    "    <li> Making Values of Zipcode column consistent</li>\n",
    "    <li> In our restaurants_dataset, we have cuisines as a comma separated list. So, I have Created a new dataframe in which we have single cuisine in each row. </li>\n",
    "    <li> Removing Punctuation from Review Text Column in reviews_dataset</li>\n",
    "    <li> Removing Stopwords from Review Text Column in reviews_dataset</li>\n",
    "    <li> Merging restaurants_dataset and restaurant_feature_dataset together. Through this dataframe we can get highlights of each restaurants along with it's other details </li>\n",
    "    <li> Merging restaurants_dataset and restaurant_review_dataset together. Through this dataframe we can get reviews of each restaurants along with it's other details  </li>\n",
    "    <li> Merging restaurants_dataset and df_after_splitting_cuisines together. Through this dataframe we can get cuisine of each restaurants along with it's other details  </li>\n",
    "    <li> Performing Sentiment Analysis of the reviews and creating new columns to store the sentiment result in merged review dataset</li>\n",
    "</ol>"
   ]
  },
  {
   "cell_type": "markdown",
   "metadata": {},
   "source": [
    "<b>1. Removing Duplicate Records from restaurants_dataset</b>"
   ]
  },
  {
   "cell_type": "markdown",
   "metadata": {},
   "source": [
    "Finding Out Number of Unique Restaurants"
   ]
  },
  {
   "cell_type": "code",
   "execution_count": 1617,
   "metadata": {},
   "outputs": [
    {
     "data": {
      "text/plain": [
       "1927"
      ]
     },
     "execution_count": 1617,
     "metadata": {},
     "output_type": "execute_result"
    }
   ],
   "source": [
    "restaurants_dataset['restaurant_id'].nunique()"
   ]
  },
  {
   "cell_type": "markdown",
   "metadata": {},
   "source": [
    "Total Number of Restaurants in the Dataset"
   ]
  },
  {
   "cell_type": "code",
   "execution_count": 1618,
   "metadata": {},
   "outputs": [
    {
     "data": {
      "text/plain": [
       "2973"
      ]
     },
     "execution_count": 1618,
     "metadata": {},
     "output_type": "execute_result"
    }
   ],
   "source": [
    "len(restaurants_dataset)"
   ]
  },
  {
   "cell_type": "markdown",
   "metadata": {},
   "source": [
    "Removing Duplicate Rows"
   ]
  },
  {
   "cell_type": "code",
   "execution_count": 1619,
   "metadata": {},
   "outputs": [],
   "source": [
    "restaurants_dataset.drop_duplicates(subset =\"restaurant_id\", keep = 'first', inplace = True)  "
   ]
  },
  {
   "cell_type": "markdown",
   "metadata": {},
   "source": [
    "Total Number of Restaurants in the dataset after deleting duplicate restaurants"
   ]
  },
  {
   "cell_type": "code",
   "execution_count": 1620,
   "metadata": {},
   "outputs": [
    {
     "data": {
      "text/plain": [
       "1927"
      ]
     },
     "execution_count": 1620,
     "metadata": {},
     "output_type": "execute_result"
    }
   ],
   "source": [
    "len(restaurants_dataset)"
   ]
  },
  {
   "cell_type": "markdown",
   "metadata": {},
   "source": [
    "<b>2.Checking if there is any null value in any column</b>"
   ]
  },
  {
   "cell_type": "code",
   "execution_count": 1621,
   "metadata": {},
   "outputs": [
    {
     "data": {
      "text/plain": [
       "restaurant_id                     0\n",
       "restaurant_name                   0\n",
       "url                               0\n",
       "address                           0\n",
       "locality                          0\n",
       "city                              0\n",
       "city_id                           0\n",
       "latitude                          0\n",
       "longitude                         0\n",
       "zipcode                           0\n",
       "country_id                        0\n",
       "locality_verbose                  0\n",
       "cuisines                          0\n",
       "average_cost_for_two              0\n",
       "aggregate_rating                  0\n",
       "rating_text                       0\n",
       "votes                             0\n",
       "has_online_delivery               0\n",
       "is_table_reservation_supported    0\n",
       "establishment_types               0\n",
       "dtype: int64"
      ]
     },
     "execution_count": 1621,
     "metadata": {},
     "output_type": "execute_result"
    }
   ],
   "source": [
    "restaurants_dataset.isnull().sum()"
   ]
  },
  {
   "cell_type": "code",
   "execution_count": 1622,
   "metadata": {},
   "outputs": [
    {
     "data": {
      "text/plain": [
       "False"
      ]
     },
     "execution_count": 1622,
     "metadata": {},
     "output_type": "execute_result"
    }
   ],
   "source": [
    "restaurants_dataset.isnull().values.any()"
   ]
  },
  {
   "cell_type": "markdown",
   "metadata": {},
   "source": [
    "We can see from the above results that there are no null values."
   ]
  },
  {
   "cell_type": "markdown",
   "metadata": {},
   "source": [
    "<b>3. Making Values of Zipcode column consistent </b>\n",
    "\n",
    "We can see that we have Zipcode values where Dublin is mentioned along with the number (Dublin 2) and in some cases only number is present (2). We will make the zipcode consistent by appending Dublin where only Number is present"
   ]
  },
  {
   "cell_type": "markdown",
   "metadata": {},
   "source": [
    "Before Making values Consistent"
   ]
  },
  {
   "cell_type": "code",
   "execution_count": 1623,
   "metadata": {},
   "outputs": [
    {
     "data": {
      "text/plain": [
       "array(['Dublin 1', '', '12', 'Dublin 14', 'Dublin 15', 'Dublin 22',\n",
       "       'Dublin 24', '8', 'Dublin 2', '2', 'Dublin 16', 'Dublin 7',\n",
       "       'Dublin 12', 'Dublin 8', 'Dublin 4', 'Dublin 6', 'Dublin 9', '4',\n",
       "       'Dublin 11', 'Dublin 3', 'Dublin 13', '1', 'Dublin 6W', '16', '3',\n",
       "       'Dublin 5', '22', '6', 'Dublin 18', '11', 'D13 NX59', '9', '13',\n",
       "       '18', '14', 'Dublin 10', '7', 'DO2Y662', '15', '10', 'Dublin 20',\n",
       "       'Dublin 17', '24', 'D06 PN81', '6W'], dtype=object)"
      ]
     },
     "execution_count": 1623,
     "metadata": {},
     "output_type": "execute_result"
    }
   ],
   "source": [
    "restaurants_dataset['zipcode'].unique()"
   ]
  },
  {
   "cell_type": "code",
   "execution_count": 1624,
   "metadata": {},
   "outputs": [],
   "source": [
    "restaurants_dataset = restaurants_dataset.fillna('Not Available')"
   ]
  },
  {
   "cell_type": "code",
   "execution_count": 1625,
   "metadata": {},
   "outputs": [
    {
     "data": {
      "text/plain": [
       "array(['Dublin 1', '', '12', 'Dublin 14', 'Dublin 15', 'Dublin 22',\n",
       "       'Dublin 24', '8', 'Dublin 2', '2', 'Dublin 16', 'Dublin 7',\n",
       "       'Dublin 12', 'Dublin 8', 'Dublin 4', 'Dublin 6', 'Dublin 9', '4',\n",
       "       'Dublin 11', 'Dublin 3', 'Dublin 13', '1', 'Dublin 6W', '16', '3',\n",
       "       'Dublin 5', '22', '6', 'Dublin 18', '11', 'D13 NX59', '9', '13',\n",
       "       '18', '14', 'Dublin 10', '7', 'DO2Y662', '15', '10', 'Dublin 20',\n",
       "       'Dublin 17', '24', 'D06 PN81', '6W'], dtype=object)"
      ]
     },
     "execution_count": 1625,
     "metadata": {},
     "output_type": "execute_result"
    }
   ],
   "source": [
    "restaurants_dataset['zipcode'].unique()"
   ]
  },
  {
   "cell_type": "code",
   "execution_count": 1626,
   "metadata": {},
   "outputs": [],
   "source": [
    "#Regular Expression to find only number\n",
    "number_pattern = re.compile(r'^([1-9]\\d*|0)$')   \n",
    "#creating a list to store the new value of the Zipcode\n",
    "new_zipcode = []\n",
    "for item in restaurants_dataset['zipcode']:\n",
    "    if a.match(item):\n",
    "        item = \"Dublin \"+item\n",
    "        \n",
    "    new_zipcode.append(item)\n",
    "\n",
    "#Replacing the old value with the new value    \n",
    "restaurants_dataset['zipcode'] = new_zipcode"
   ]
  },
  {
   "cell_type": "code",
   "execution_count": 1627,
   "metadata": {},
   "outputs": [
    {
     "data": {
      "text/plain": [
       "array(['Dublin 1', '', 'Dublin 12', 'Dublin 14', 'Dublin 15', 'Dublin 22',\n",
       "       'Dublin 24', 'Dublin 8', 'Dublin 2', 'Dublin 16', 'Dublin 7',\n",
       "       'Dublin 4', 'Dublin 6', 'Dublin 9', 'Dublin 11', 'Dublin 3',\n",
       "       'Dublin 13', 'Dublin 6W', 'Dublin 5', 'Dublin 18', 'D13 NX59',\n",
       "       'Dublin 10', 'DO2Y662', 'Dublin 20', 'Dublin 17', 'D06 PN81', '6W'],\n",
       "      dtype=object)"
      ]
     },
     "execution_count": 1627,
     "metadata": {},
     "output_type": "execute_result"
    }
   ],
   "source": [
    "restaurants_dataset[\"zipcode\"].unique()"
   ]
  },
  {
   "cell_type": "markdown",
   "metadata": {},
   "source": [
    "Now we can see that values are consistent. Also we can see that empty string value in the column Zipcode have been replaced by \"Not Available\""
   ]
  },
  {
   "cell_type": "code",
   "execution_count": 1628,
   "metadata": {},
   "outputs": [],
   "source": [
    "restaurants_dataset[\"zipcode\"].replace('', 'Not Available', inplace=True)"
   ]
  },
  {
   "cell_type": "code",
   "execution_count": 1629,
   "metadata": {},
   "outputs": [
    {
     "data": {
      "text/plain": [
       "array(['Dublin 1', 'Not Available', 'Dublin 12', 'Dublin 14', 'Dublin 15',\n",
       "       'Dublin 22', 'Dublin 24', 'Dublin 8', 'Dublin 2', 'Dublin 16',\n",
       "       'Dublin 7', 'Dublin 4', 'Dublin 6', 'Dublin 9', 'Dublin 11',\n",
       "       'Dublin 3', 'Dublin 13', 'Dublin 6W', 'Dublin 5', 'Dublin 18',\n",
       "       'D13 NX59', 'Dublin 10', 'DO2Y662', 'Dublin 20', 'Dublin 17',\n",
       "       'D06 PN81', '6W'], dtype=object)"
      ]
     },
     "execution_count": 1629,
     "metadata": {},
     "output_type": "execute_result"
    }
   ],
   "source": [
    "restaurants_dataset[\"zipcode\"].unique()"
   ]
  },
  {
   "cell_type": "markdown",
   "metadata": {},
   "source": [
    "Also we can see that we have values like D13 NX59 instead of Dublin 13. So we can also make them consistent."
   ]
  },
  {
   "cell_type": "code",
   "execution_count": 1630,
   "metadata": {},
   "outputs": [],
   "source": [
    "restaurants_dataset[\"zipcode\"].replace('D13 NX59', 'Dublin 13', inplace=True)\n",
    "restaurants_dataset[\"zipcode\"].replace('DO2Y662', 'Dublin 2', inplace=True)\n",
    "restaurants_dataset[\"zipcode\"].replace('D06 PN81', 'Dublin 6', inplace=True)\n",
    "restaurants_dataset[\"zipcode\"].replace('6W', 'Dublin 6W', inplace=True)"
   ]
  },
  {
   "cell_type": "code",
   "execution_count": 1631,
   "metadata": {},
   "outputs": [
    {
     "data": {
      "text/plain": [
       "array(['Dublin 1', 'Not Available', 'Dublin 12', 'Dublin 14', 'Dublin 15',\n",
       "       'Dublin 22', 'Dublin 24', 'Dublin 8', 'Dublin 2', 'Dublin 16',\n",
       "       'Dublin 7', 'Dublin 4', 'Dublin 6', 'Dublin 9', 'Dublin 11',\n",
       "       'Dublin 3', 'Dublin 13', 'Dublin 6W', 'Dublin 5', 'Dublin 18',\n",
       "       'Dublin 10', 'Dublin 20', 'Dublin 17'], dtype=object)"
      ]
     },
     "execution_count": 1631,
     "metadata": {},
     "output_type": "execute_result"
    }
   ],
   "source": [
    "restaurants_dataset[\"zipcode\"].unique()"
   ]
  },
  {
   "cell_type": "markdown",
   "metadata": {},
   "source": [
    "Now all the values have been consistent of column zipcode"
   ]
  },
  {
   "cell_type": "markdown",
   "metadata": {},
   "source": [
    "<b>4. In our restaurants_dataset, we have cuisines as a comma separated list. So, I have created a new dataframe in which we have single cuisine in each row. </b>"
   ]
  },
  {
   "cell_type": "code",
   "execution_count": 1632,
   "metadata": {},
   "outputs": [
    {
     "data": {
      "text/plain": [
       "0    Polish, Cafe\n",
       "1    Polish      \n",
       "Name: cuisines, dtype: object"
      ]
     },
     "execution_count": 1632,
     "metadata": {},
     "output_type": "execute_result"
    }
   ],
   "source": [
    "restaurants_dataset[\"cuisines\"].head(2)"
   ]
  },
  {
   "cell_type": "markdown",
   "metadata": {},
   "source": [
    "For each restaurant, we have cuisines as a comma separated list in a single column. We have splitted the values in different rows for the further anlaysis. "
   ]
  },
  {
   "cell_type": "code",
   "execution_count": 1633,
   "metadata": {},
   "outputs": [],
   "source": [
    "df_after_splitting_cuisines = pd.DataFrame(restaurants_dataset.cuisines.str.split(',').tolist(), \\\n",
    "                                           index=restaurants_dataset.restaurant_id).stack()\n"
   ]
  },
  {
   "cell_type": "code",
   "execution_count": 1634,
   "metadata": {},
   "outputs": [
    {
     "data": {
      "text/html": [
       "<div>\n",
       "<style scoped>\n",
       "    .dataframe tbody tr th:only-of-type {\n",
       "        vertical-align: middle;\n",
       "    }\n",
       "\n",
       "    .dataframe tbody tr th {\n",
       "        vertical-align: top;\n",
       "    }\n",
       "\n",
       "    .dataframe thead th {\n",
       "        text-align: right;\n",
       "    }\n",
       "</style>\n",
       "<table border=\"1\" class=\"dataframe\">\n",
       "  <thead>\n",
       "    <tr style=\"text-align: right;\">\n",
       "      <th></th>\n",
       "      <th>restaurant_id</th>\n",
       "      <th>new_cuisines_value</th>\n",
       "    </tr>\n",
       "  </thead>\n",
       "  <tbody>\n",
       "    <tr>\n",
       "      <th>0</th>\n",
       "      <td>9100081</td>\n",
       "      <td>Polish</td>\n",
       "    </tr>\n",
       "    <tr>\n",
       "      <th>1</th>\n",
       "      <td>9100081</td>\n",
       "      <td>Cafe</td>\n",
       "    </tr>\n",
       "    <tr>\n",
       "      <th>2</th>\n",
       "      <td>16522498</td>\n",
       "      <td>Polish</td>\n",
       "    </tr>\n",
       "    <tr>\n",
       "      <th>3</th>\n",
       "      <td>9100611</td>\n",
       "      <td>Ice Cream</td>\n",
       "    </tr>\n",
       "    <tr>\n",
       "      <th>4</th>\n",
       "      <td>9100611</td>\n",
       "      <td>Desserts</td>\n",
       "    </tr>\n",
       "  </tbody>\n",
       "</table>\n",
       "</div>"
      ],
      "text/plain": [
       "  restaurant_id new_cuisines_value\n",
       "0  9100081       Polish           \n",
       "1  9100081        Cafe            \n",
       "2  16522498      Polish           \n",
       "3  9100611       Ice Cream        \n",
       "4  9100611        Desserts        "
      ]
     },
     "execution_count": 1634,
     "metadata": {},
     "output_type": "execute_result"
    }
   ],
   "source": [
    "df_after_splitting_cuisines = df_after_splitting_cuisines.reset_index([0, 'restaurant_id'])\n",
    "df_after_splitting_cuisines.columns = ['restaurant_id', 'new_cuisines_value']\n",
    "df_after_splitting_cuisines.head()"
   ]
  },
  {
   "cell_type": "markdown",
   "metadata": {},
   "source": [
    " In this, I have created a new dataframe df_after_splitting_cuisines which contains restaurant_id along with the cuisine value"
   ]
  },
  {
   "cell_type": "markdown",
   "metadata": {},
   "source": [
    "<b>5. Removing Punctuation from Review Text Column in reviews_dataset</b>"
   ]
  },
  {
   "cell_type": "markdown",
   "metadata": {},
   "source": [
    "Removing Punctuation from Review Text column and converting it to lower case"
   ]
  },
  {
   "cell_type": "markdown",
   "metadata": {},
   "source": [
    "Before removing Punctuation from the column values"
   ]
  },
  {
   "cell_type": "code",
   "execution_count": 1635,
   "metadata": {},
   "outputs": [
    {
     "data": {
      "text/plain": [
       "0    We ordered a pizza meal, and it didnt arrived. We rang to claim and they said they were going to send it back. It never came. We waited for ...\n",
       "1    NEVER AGAIN!!! Ordered my pizza online using the website at 19:45 and was so disappointing. Online gave option of selecting toppings with a ...\n",
       "Name: review_text, dtype: object"
      ]
     },
     "execution_count": 1635,
     "metadata": {},
     "output_type": "execute_result"
    }
   ],
   "source": [
    "reviews_dataset[\"review_text\"].head(2)"
   ]
  },
  {
   "cell_type": "code",
   "execution_count": 1636,
   "metadata": {},
   "outputs": [],
   "source": [
    "reviews_dataset[\"review_text\"] = reviews_dataset['review_text'].str.replace('[^\\w\\s]','').str.lower()"
   ]
  },
  {
   "cell_type": "markdown",
   "metadata": {},
   "source": [
    "After removing Punctuation from the column values"
   ]
  },
  {
   "cell_type": "code",
   "execution_count": 1637,
   "metadata": {},
   "outputs": [
    {
     "data": {
      "text/plain": [
       "0    we ordered a pizza meal and it didnt arrived we rang to claim and they said they were going to send it back it never came we waited for \n",
       "1    never again ordered my pizza online using the website at 1945 and was so disappointing online gave option of selecting toppings with a  \n",
       "Name: review_text, dtype: object"
      ]
     },
     "execution_count": 1637,
     "metadata": {},
     "output_type": "execute_result"
    }
   ],
   "source": [
    "reviews_dataset['review_text'].head(2)"
   ]
  },
  {
   "cell_type": "markdown",
   "metadata": {},
   "source": [
    "<b>6. Removing Stopwords from Review Text Column in reviews_dataset</b>"
   ]
  },
  {
   "cell_type": "markdown",
   "metadata": {},
   "source": [
    "I am using lamda function for this task. First we are converting the review text into word tokens using nltk.word_tokenize function. And then comparing each word with the stopword list. If the word is not there in the list we are joining them with space."
   ]
  },
  {
   "cell_type": "code",
   "execution_count": 1638,
   "metadata": {},
   "outputs": [],
   "source": [
    "stop = set(stopwords.words('english'))"
   ]
  },
  {
   "cell_type": "code",
   "execution_count": 1639,
   "metadata": {},
   "outputs": [],
   "source": [
    "reviews_dataset['review_text']=reviews_dataset['review_text'].apply(lambda x: ' '.join([word for word in nltk.word_tokenize(str(x)) if word not in (stop)]))"
   ]
  },
  {
   "cell_type": "markdown",
   "metadata": {},
   "source": [
    "After removing stopwords"
   ]
  },
  {
   "cell_type": "code",
   "execution_count": 1640,
   "metadata": {},
   "outputs": [
    {
     "data": {
      "text/plain": [
       "0    ordered pizza meal didnt arrived rang claim said going send back never came waited               \n",
       "1    never ordered pizza online using website 1945 disappointing online gave option selecting toppings\n",
       "2    good buffet times friends good staffs plenty options choose desert section needs improvisatio    \n",
       "3    chose reaturant bday lunch wife sad say one worst worst experience life choosing restaurant      \n",
       "4    good food average quality would better quality desserts focused variety vegetarian options       \n",
       "Name: review_text, dtype: object"
      ]
     },
     "execution_count": 1640,
     "metadata": {},
     "output_type": "execute_result"
    }
   ],
   "source": [
    "reviews_dataset['review_text'].head()"
   ]
  },
  {
   "cell_type": "markdown",
   "metadata": {},
   "source": [
    "<b>Combining the data</b>"
   ]
  },
  {
   "cell_type": "markdown",
   "metadata": {},
   "source": [
    "<b>7. Merging restaurants_dataset and restaurant_feature_dataset together. Through this dataframe we can get highlights of each restaurants along with it's other details. </b><br>\n",
    "Name of new dataframe is restaurants_feature_merged_df "
   ]
  },
  {
   "cell_type": "code",
   "execution_count": 1641,
   "metadata": {},
   "outputs": [],
   "source": [
    "restaurants_feature_merged_df = pd.merge(restaurants_dataset, restaurant_feature_dataset, how='inner', on = 'restaurant_id')"
   ]
  },
  {
   "cell_type": "code",
   "execution_count": 1642,
   "metadata": {},
   "outputs": [
    {
     "data": {
      "text/html": [
       "<div>\n",
       "<style scoped>\n",
       "    .dataframe tbody tr th:only-of-type {\n",
       "        vertical-align: middle;\n",
       "    }\n",
       "\n",
       "    .dataframe tbody tr th {\n",
       "        vertical-align: top;\n",
       "    }\n",
       "\n",
       "    .dataframe thead th {\n",
       "        text-align: right;\n",
       "    }\n",
       "</style>\n",
       "<table border=\"1\" class=\"dataframe\">\n",
       "  <thead>\n",
       "    <tr style=\"text-align: right;\">\n",
       "      <th></th>\n",
       "      <th>restaurant_id</th>\n",
       "      <th>restaurant_name</th>\n",
       "      <th>url</th>\n",
       "      <th>address</th>\n",
       "      <th>locality</th>\n",
       "      <th>city</th>\n",
       "      <th>city_id</th>\n",
       "      <th>latitude</th>\n",
       "      <th>longitude</th>\n",
       "      <th>zipcode</th>\n",
       "      <th>...</th>\n",
       "      <th>cuisines</th>\n",
       "      <th>average_cost_for_two</th>\n",
       "      <th>aggregate_rating</th>\n",
       "      <th>rating_text</th>\n",
       "      <th>votes</th>\n",
       "      <th>has_online_delivery</th>\n",
       "      <th>is_table_reservation_supported</th>\n",
       "      <th>establishment_types</th>\n",
       "      <th>Highlights</th>\n",
       "      <th>Present/NotPresent</th>\n",
       "    </tr>\n",
       "  </thead>\n",
       "  <tbody>\n",
       "    <tr>\n",
       "      <th>0</th>\n",
       "      <td>9100081</td>\n",
       "      <td>Chillout Break Cafe</td>\n",
       "      <td>https://www.zomato.com/dublin/chillout-break-cafe-north-city?utm_source=api_basic_user&amp;utm_medium=api&amp;utm_campaign=v2.1</td>\n",
       "      <td>11 Moore Street, Dublin Dublin 1</td>\n",
       "      <td>North City</td>\n",
       "      <td>Dublin</td>\n",
       "      <td>91</td>\n",
       "      <td>53.3502083333</td>\n",
       "      <td>-6.2623861111</td>\n",
       "      <td>Dublin 1</td>\n",
       "      <td>...</td>\n",
       "      <td>Polish, Cafe</td>\n",
       "      <td>25</td>\n",
       "      <td>0</td>\n",
       "      <td>Not rated</td>\n",
       "      <td>1</td>\n",
       "      <td>0</td>\n",
       "      <td>0</td>\n",
       "      <td>[]</td>\n",
       "      <td>Takeaway Available</td>\n",
       "      <td>Present</td>\n",
       "    </tr>\n",
       "    <tr>\n",
       "      <th>1</th>\n",
       "      <td>9100081</td>\n",
       "      <td>Chillout Break Cafe</td>\n",
       "      <td>https://www.zomato.com/dublin/chillout-break-cafe-north-city?utm_source=api_basic_user&amp;utm_medium=api&amp;utm_campaign=v2.1</td>\n",
       "      <td>11 Moore Street, Dublin Dublin 1</td>\n",
       "      <td>North City</td>\n",
       "      <td>Dublin</td>\n",
       "      <td>91</td>\n",
       "      <td>53.3502083333</td>\n",
       "      <td>-6.2623861111</td>\n",
       "      <td>Dublin 1</td>\n",
       "      <td>...</td>\n",
       "      <td>Polish, Cafe</td>\n",
       "      <td>25</td>\n",
       "      <td>0</td>\n",
       "      <td>Not rated</td>\n",
       "      <td>1</td>\n",
       "      <td>0</td>\n",
       "      <td>0</td>\n",
       "      <td>[]</td>\n",
       "      <td>Indoor Seating</td>\n",
       "      <td>Present</td>\n",
       "    </tr>\n",
       "  </tbody>\n",
       "</table>\n",
       "<p>2 rows × 22 columns</p>\n",
       "</div>"
      ],
      "text/plain": [
       "  restaurant_id      restaurant_name  \\\n",
       "0  9100081       Chillout Break Cafe   \n",
       "1  9100081       Chillout Break Cafe   \n",
       "\n",
       "                                                                                                                       url  \\\n",
       "0  https://www.zomato.com/dublin/chillout-break-cafe-north-city?utm_source=api_basic_user&utm_medium=api&utm_campaign=v2.1   \n",
       "1  https://www.zomato.com/dublin/chillout-break-cafe-north-city?utm_source=api_basic_user&utm_medium=api&utm_campaign=v2.1   \n",
       "\n",
       "                            address    locality    city  city_id  \\\n",
       "0  11 Moore Street, Dublin Dublin 1  North City  Dublin  91        \n",
       "1  11 Moore Street, Dublin Dublin 1  North City  Dublin  91        \n",
       "\n",
       "        latitude      longitude   zipcode  ...      cuisines  \\\n",
       "0  53.3502083333  -6.2623861111  Dublin 1  ...  Polish, Cafe   \n",
       "1  53.3502083333  -6.2623861111  Dublin 1  ...  Polish, Cafe   \n",
       "\n",
       "  average_cost_for_two aggregate_rating  rating_text votes  \\\n",
       "0  25                   0                Not rated    1      \n",
       "1  25                   0                Not rated    1      \n",
       "\n",
       "  has_online_delivery is_table_reservation_supported  establishment_types  \\\n",
       "0  0                   0                              []                    \n",
       "1  0                   0                              []                    \n",
       "\n",
       "           Highlights Present/NotPresent  \n",
       "0  Takeaway Available  Present            \n",
       "1  Indoor Seating      Present            \n",
       "\n",
       "[2 rows x 22 columns]"
      ]
     },
     "execution_count": 1642,
     "metadata": {},
     "output_type": "execute_result"
    }
   ],
   "source": [
    "restaurants_feature_merged_df.head(2)"
   ]
  },
  {
   "cell_type": "markdown",
   "metadata": {},
   "source": [
    "<b>8. Merging restaurants_dataset and restaurant_review_dataset together. Through this dataframe we can get reviews of each restaurants along with it's other details </b><br>\n",
    "Name of new dataframe is restaurants_review_merged_df "
   ]
  },
  {
   "cell_type": "code",
   "execution_count": 1643,
   "metadata": {},
   "outputs": [],
   "source": [
    "restaurants_review_merged_df = pd.merge(restaurants_dataset, reviews_dataset, how='inner', \\\n",
    "                                         on = 'restaurant_id')"
   ]
  },
  {
   "cell_type": "code",
   "execution_count": 1645,
   "metadata": {},
   "outputs": [
    {
     "data": {
      "text/html": [
       "<div>\n",
       "<style scoped>\n",
       "    .dataframe tbody tr th:only-of-type {\n",
       "        vertical-align: middle;\n",
       "    }\n",
       "\n",
       "    .dataframe tbody tr th {\n",
       "        vertical-align: top;\n",
       "    }\n",
       "\n",
       "    .dataframe thead th {\n",
       "        text-align: right;\n",
       "    }\n",
       "</style>\n",
       "<table border=\"1\" class=\"dataframe\">\n",
       "  <thead>\n",
       "    <tr style=\"text-align: right;\">\n",
       "      <th></th>\n",
       "      <th>restaurant_id</th>\n",
       "      <th>restaurant_name</th>\n",
       "      <th>url</th>\n",
       "      <th>address</th>\n",
       "      <th>locality</th>\n",
       "      <th>city</th>\n",
       "      <th>city_id</th>\n",
       "      <th>latitude</th>\n",
       "      <th>longitude</th>\n",
       "      <th>zipcode</th>\n",
       "      <th>...</th>\n",
       "      <th>establishment_types</th>\n",
       "      <th>review_rating</th>\n",
       "      <th>review_text</th>\n",
       "      <th>review_id</th>\n",
       "      <th>rating_text_y</th>\n",
       "      <th>likes</th>\n",
       "      <th>username</th>\n",
       "      <th>user_foodie_level</th>\n",
       "      <th>user_foodie_level_num</th>\n",
       "      <th>comments_count</th>\n",
       "    </tr>\n",
       "  </thead>\n",
       "  <tbody>\n",
       "    <tr>\n",
       "      <th>0</th>\n",
       "      <td>9100081</td>\n",
       "      <td>Chillout Break Cafe</td>\n",
       "      <td>https://www.zomato.com/dublin/chillout-break-cafe-north-city?utm_source=api_basic_user&amp;utm_medium=api&amp;utm_campaign=v2.1</td>\n",
       "      <td>11 Moore Street, Dublin Dublin 1</td>\n",
       "      <td>North City</td>\n",
       "      <td>Dublin</td>\n",
       "      <td>91</td>\n",
       "      <td>53.3502083333</td>\n",
       "      <td>-6.2623861111</td>\n",
       "      <td>Dublin 1</td>\n",
       "      <td>...</td>\n",
       "      <td>[]</td>\n",
       "      <td>4.5</td>\n",
       "      <td>really good food nice staff excellent terms pricequality definitely return try another dishes recommended</td>\n",
       "      <td>26134949</td>\n",
       "      <td>Loved it!</td>\n",
       "      <td>0</td>\n",
       "      <td>Filipa Zambujal</td>\n",
       "      <td>Foodie</td>\n",
       "      <td>2</td>\n",
       "      <td>0</td>\n",
       "    </tr>\n",
       "    <tr>\n",
       "      <th>1</th>\n",
       "      <td>9100611</td>\n",
       "      <td>The Really Old Sweet Shop</td>\n",
       "      <td>https://www.zomato.com/dublin/the-really-old-sweet-shop-malahide?utm_source=api_basic_user&amp;utm_medium=api&amp;utm_campaign=v2.1</td>\n",
       "      <td>Kilronan House, Church Road, Malahide, Dublin Co. Dublin</td>\n",
       "      <td>Malahide</td>\n",
       "      <td>Dublin</td>\n",
       "      <td>91</td>\n",
       "      <td>53.4502670015</td>\n",
       "      <td>-6.1533546075</td>\n",
       "      <td>Not Available</td>\n",
       "      <td>...</td>\n",
       "      <td>[]</td>\n",
       "      <td>4.0</td>\n",
       "      <td>blizz ice cream really old sweet shop probably favourite ice cream world creamy choice toppings</td>\n",
       "      <td>25149475</td>\n",
       "      <td>Great!</td>\n",
       "      <td>0</td>\n",
       "      <td>Sarah Parker</td>\n",
       "      <td>Big Foodie</td>\n",
       "      <td>6</td>\n",
       "      <td>0</td>\n",
       "    </tr>\n",
       "  </tbody>\n",
       "</table>\n",
       "<p>2 rows × 29 columns</p>\n",
       "</div>"
      ],
      "text/plain": [
       "  restaurant_id            restaurant_name  \\\n",
       "0  9100081       Chillout Break Cafe         \n",
       "1  9100611       The Really Old Sweet Shop   \n",
       "\n",
       "                                                                                                                           url  \\\n",
       "0  https://www.zomato.com/dublin/chillout-break-cafe-north-city?utm_source=api_basic_user&utm_medium=api&utm_campaign=v2.1       \n",
       "1  https://www.zomato.com/dublin/the-really-old-sweet-shop-malahide?utm_source=api_basic_user&utm_medium=api&utm_campaign=v2.1   \n",
       "\n",
       "                                                    address    locality  \\\n",
       "0  11 Moore Street, Dublin Dublin 1                          North City   \n",
       "1  Kilronan House, Church Road, Malahide, Dublin Co. Dublin  Malahide     \n",
       "\n",
       "     city  city_id       latitude      longitude        zipcode  ...  \\\n",
       "0  Dublin  91       53.3502083333  -6.2623861111  Dublin 1       ...   \n",
       "1  Dublin  91       53.4502670015  -6.1533546075  Not Available  ...   \n",
       "\n",
       "   establishment_types review_rating  \\\n",
       "0  []                   4.5            \n",
       "1  []                   4.0            \n",
       "\n",
       "                                                                                                 review_text  \\\n",
       "0  really good food nice staff excellent terms pricequality definitely return try another dishes recommended   \n",
       "1  blizz ice cream really old sweet shop probably favourite ice cream world creamy choice toppings             \n",
       "\n",
       "   review_id rating_text_y likes         username  user_foodie_level  \\\n",
       "0  26134949   Loved it!     0     Filipa Zambujal  Foodie              \n",
       "1  25149475   Great!        0     Sarah Parker     Big Foodie          \n",
       "\n",
       "   user_foodie_level_num comments_count  \n",
       "0  2                      0              \n",
       "1  6                      0              \n",
       "\n",
       "[2 rows x 29 columns]"
      ]
     },
     "execution_count": 1645,
     "metadata": {},
     "output_type": "execute_result"
    }
   ],
   "source": [
    "restaurants_review_merged_df.head(2)"
   ]
  },
  {
   "cell_type": "markdown",
   "metadata": {},
   "source": [
    "<b>9. Merging restaurants_dataset and df_after_splitting_cuisines together. Through this dataframe we can get reviews of each restaurants along with it's other details </b><br>\n",
    "New dataframe name is restaurants_cuisines_merged_df"
   ]
  },
  {
   "cell_type": "code",
   "execution_count": 1502,
   "metadata": {},
   "outputs": [],
   "source": [
    "restaurants_cuisines_merged_df = pd.merge(restaurants_dataset, df_after_splitting_cuisines, how='inner', \\\n",
    "                                         on = 'restaurant_id')"
   ]
  },
  {
   "cell_type": "code",
   "execution_count": 1503,
   "metadata": {},
   "outputs": [],
   "source": [
    "restaurants_cuisines_merged_df=restaurants_cuisines_merged_df.drop('cuisines', axis=1)"
   ]
  },
  {
   "cell_type": "code",
   "execution_count": 1504,
   "metadata": {},
   "outputs": [],
   "source": [
    "restaurants_cuisines_merged_df.rename(columns={'new_cuisines_value':'cuisines'}, \n",
    "                 inplace=True)"
   ]
  },
  {
   "cell_type": "code",
   "execution_count": 1505,
   "metadata": {},
   "outputs": [
    {
     "data": {
      "text/html": [
       "<div>\n",
       "<style scoped>\n",
       "    .dataframe tbody tr th:only-of-type {\n",
       "        vertical-align: middle;\n",
       "    }\n",
       "\n",
       "    .dataframe tbody tr th {\n",
       "        vertical-align: top;\n",
       "    }\n",
       "\n",
       "    .dataframe thead th {\n",
       "        text-align: right;\n",
       "    }\n",
       "</style>\n",
       "<table border=\"1\" class=\"dataframe\">\n",
       "  <thead>\n",
       "    <tr style=\"text-align: right;\">\n",
       "      <th></th>\n",
       "      <th>restaurant_id</th>\n",
       "      <th>restaurant_name</th>\n",
       "      <th>url</th>\n",
       "      <th>address</th>\n",
       "      <th>locality</th>\n",
       "      <th>city</th>\n",
       "      <th>city_id</th>\n",
       "      <th>latitude</th>\n",
       "      <th>longitude</th>\n",
       "      <th>zipcode</th>\n",
       "      <th>country_id</th>\n",
       "      <th>locality_verbose</th>\n",
       "      <th>average_cost_for_two</th>\n",
       "      <th>aggregate_rating</th>\n",
       "      <th>rating_text</th>\n",
       "      <th>votes</th>\n",
       "      <th>has_online_delivery</th>\n",
       "      <th>is_table_reservation_supported</th>\n",
       "      <th>establishment_types</th>\n",
       "      <th>cuisines</th>\n",
       "    </tr>\n",
       "  </thead>\n",
       "  <tbody>\n",
       "    <tr>\n",
       "      <th>0</th>\n",
       "      <td>9100081</td>\n",
       "      <td>Chillout Break Cafe</td>\n",
       "      <td>https://www.zomato.com/dublin/chillout-break-cafe-north-city?utm_source=api_basic_user&amp;utm_medium=api&amp;utm_campaign=v2.1</td>\n",
       "      <td>11 Moore Street, Dublin Dublin 1</td>\n",
       "      <td>North City</td>\n",
       "      <td>Dublin</td>\n",
       "      <td>91</td>\n",
       "      <td>53.350208</td>\n",
       "      <td>-6.262386</td>\n",
       "      <td>Dublin 1</td>\n",
       "      <td>97</td>\n",
       "      <td>North City, Dublin</td>\n",
       "      <td>25</td>\n",
       "      <td>0.0</td>\n",
       "      <td>Not rated</td>\n",
       "      <td>1</td>\n",
       "      <td>0</td>\n",
       "      <td>0</td>\n",
       "      <td>[]</td>\n",
       "      <td>Polish</td>\n",
       "    </tr>\n",
       "    <tr>\n",
       "      <th>1</th>\n",
       "      <td>9100081</td>\n",
       "      <td>Chillout Break Cafe</td>\n",
       "      <td>https://www.zomato.com/dublin/chillout-break-cafe-north-city?utm_source=api_basic_user&amp;utm_medium=api&amp;utm_campaign=v2.1</td>\n",
       "      <td>11 Moore Street, Dublin Dublin 1</td>\n",
       "      <td>North City</td>\n",
       "      <td>Dublin</td>\n",
       "      <td>91</td>\n",
       "      <td>53.350208</td>\n",
       "      <td>-6.262386</td>\n",
       "      <td>Dublin 1</td>\n",
       "      <td>97</td>\n",
       "      <td>North City, Dublin</td>\n",
       "      <td>25</td>\n",
       "      <td>0.0</td>\n",
       "      <td>Not rated</td>\n",
       "      <td>1</td>\n",
       "      <td>0</td>\n",
       "      <td>0</td>\n",
       "      <td>[]</td>\n",
       "      <td>Cafe</td>\n",
       "    </tr>\n",
       "  </tbody>\n",
       "</table>\n",
       "</div>"
      ],
      "text/plain": [
       "  restaurant_id      restaurant_name  \\\n",
       "0  9100081       Chillout Break Cafe   \n",
       "1  9100081       Chillout Break Cafe   \n",
       "\n",
       "                                                                                                                       url  \\\n",
       "0  https://www.zomato.com/dublin/chillout-break-cafe-north-city?utm_source=api_basic_user&utm_medium=api&utm_campaign=v2.1   \n",
       "1  https://www.zomato.com/dublin/chillout-break-cafe-north-city?utm_source=api_basic_user&utm_medium=api&utm_campaign=v2.1   \n",
       "\n",
       "                            address    locality    city  city_id   latitude  \\\n",
       "0  11 Moore Street, Dublin Dublin 1  North City  Dublin  91       53.350208   \n",
       "1  11 Moore Street, Dublin Dublin 1  North City  Dublin  91       53.350208   \n",
       "\n",
       "   longitude   zipcode  country_id    locality_verbose  average_cost_for_two  \\\n",
       "0 -6.262386   Dublin 1  97          North City, Dublin  25                     \n",
       "1 -6.262386   Dublin 1  97          North City, Dublin  25                     \n",
       "\n",
       "   aggregate_rating rating_text  votes  has_online_delivery  \\\n",
       "0  0.0               Not rated   1      0                     \n",
       "1  0.0               Not rated   1      0                     \n",
       "\n",
       "   is_table_reservation_supported establishment_types cuisines  \n",
       "0  0                               []                  Polish   \n",
       "1  0                               []                   Cafe    "
      ]
     },
     "execution_count": 1505,
     "metadata": {},
     "output_type": "execute_result"
    }
   ],
   "source": [
    "restaurants_cuisines_merged_df.head(2)"
   ]
  },
  {
   "cell_type": "code",
   "execution_count": null,
   "metadata": {},
   "outputs": [],
   "source": []
  },
  {
   "cell_type": "markdown",
   "metadata": {},
   "source": [
    "<b>10. Performing Sentiment Analysis of the reviews and creating new columns to store the sentiment result in merged review dataset</b>"
   ]
  },
  {
   "cell_type": "code",
   "execution_count": 1646,
   "metadata": {},
   "outputs": [],
   "source": [
    "analyzer = SentimentIntensityAnalyzer()\n",
    "#Storing four type of scores\n",
    "compound=[]\n",
    "neg=[]\n",
    "neu=[]\n",
    "pos=[]\n",
    "sentiment=[]\n",
    "for index, row in restaurants_review_merged_df.iterrows():\n",
    "    sentence=str(row['review_text']) \n",
    "    #below command performs the sentiment analysis and produces the positive, negative, neutral and compund score for \n",
    "    #each review\n",
    "    vs = analyzer.polarity_scores(sentence)\n",
    "    compound.append(vs['compound'])\n",
    "    neg.append(vs['neg'])\n",
    "    neu.append(vs['neu'])\n",
    "    pos.append(vs['pos'])\n",
    "    #On the basis of compound score, we can classify the review as positive, negative or neutral\n",
    "    if(vs['compound'] >= 0.05):\n",
    "        sentiment.append('Positive')\n",
    "    elif( (vs['compound'] > -0.05) & (vs['compound'] < 0.05 )):\n",
    "        sentiment.append('Neutral')\n",
    "    elif(vs['compound'] <= -0.05):\n",
    "        sentiment.append('Negative')\n",
    "\n",
    "#creating new column in restaurants_review_merged_df to store the result for anlaysis        \n",
    "restaurants_review_merged_df['compound'] = compound\n",
    "restaurants_review_merged_df['neg'] = neg\n",
    "restaurants_review_merged_df['neu'] = neu\n",
    "restaurants_review_merged_df['pos'] = pos\n",
    "restaurants_review_merged_df['sentiment'] = sentiment "
   ]
  },
  {
   "cell_type": "code",
   "execution_count": 1647,
   "metadata": {},
   "outputs": [
    {
     "data": {
      "text/html": [
       "<div>\n",
       "<style scoped>\n",
       "    .dataframe tbody tr th:only-of-type {\n",
       "        vertical-align: middle;\n",
       "    }\n",
       "\n",
       "    .dataframe tbody tr th {\n",
       "        vertical-align: top;\n",
       "    }\n",
       "\n",
       "    .dataframe thead th {\n",
       "        text-align: right;\n",
       "    }\n",
       "</style>\n",
       "<table border=\"1\" class=\"dataframe\">\n",
       "  <thead>\n",
       "    <tr style=\"text-align: right;\">\n",
       "      <th></th>\n",
       "      <th>restaurant_id</th>\n",
       "      <th>restaurant_name</th>\n",
       "      <th>url</th>\n",
       "      <th>address</th>\n",
       "      <th>locality</th>\n",
       "      <th>city</th>\n",
       "      <th>city_id</th>\n",
       "      <th>latitude</th>\n",
       "      <th>longitude</th>\n",
       "      <th>zipcode</th>\n",
       "      <th>...</th>\n",
       "      <th>likes</th>\n",
       "      <th>username</th>\n",
       "      <th>user_foodie_level</th>\n",
       "      <th>user_foodie_level_num</th>\n",
       "      <th>comments_count</th>\n",
       "      <th>compound</th>\n",
       "      <th>neg</th>\n",
       "      <th>neu</th>\n",
       "      <th>pos</th>\n",
       "      <th>sentiment</th>\n",
       "    </tr>\n",
       "  </thead>\n",
       "  <tbody>\n",
       "    <tr>\n",
       "      <th>0</th>\n",
       "      <td>9100081</td>\n",
       "      <td>Chillout Break Cafe</td>\n",
       "      <td>https://www.zomato.com/dublin/chillout-break-cafe-north-city?utm_source=api_basic_user&amp;utm_medium=api&amp;utm_campaign=v2.1</td>\n",
       "      <td>11 Moore Street, Dublin Dublin 1</td>\n",
       "      <td>North City</td>\n",
       "      <td>Dublin</td>\n",
       "      <td>91</td>\n",
       "      <td>53.3502083333</td>\n",
       "      <td>-6.2623861111</td>\n",
       "      <td>Dublin 1</td>\n",
       "      <td>...</td>\n",
       "      <td>0</td>\n",
       "      <td>Filipa Zambujal</td>\n",
       "      <td>Foodie</td>\n",
       "      <td>2</td>\n",
       "      <td>0</td>\n",
       "      <td>0.9254</td>\n",
       "      <td>0.0</td>\n",
       "      <td>0.384</td>\n",
       "      <td>0.616</td>\n",
       "      <td>Positive</td>\n",
       "    </tr>\n",
       "    <tr>\n",
       "      <th>1</th>\n",
       "      <td>9100611</td>\n",
       "      <td>The Really Old Sweet Shop</td>\n",
       "      <td>https://www.zomato.com/dublin/the-really-old-sweet-shop-malahide?utm_source=api_basic_user&amp;utm_medium=api&amp;utm_campaign=v2.1</td>\n",
       "      <td>Kilronan House, Church Road, Malahide, Dublin Co. Dublin</td>\n",
       "      <td>Malahide</td>\n",
       "      <td>Dublin</td>\n",
       "      <td>91</td>\n",
       "      <td>53.4502670015</td>\n",
       "      <td>-6.1533546075</td>\n",
       "      <td>Not Available</td>\n",
       "      <td>...</td>\n",
       "      <td>0</td>\n",
       "      <td>Sarah Parker</td>\n",
       "      <td>Big Foodie</td>\n",
       "      <td>6</td>\n",
       "      <td>0</td>\n",
       "      <td>0.5070</td>\n",
       "      <td>0.0</td>\n",
       "      <td>0.810</td>\n",
       "      <td>0.190</td>\n",
       "      <td>Positive</td>\n",
       "    </tr>\n",
       "  </tbody>\n",
       "</table>\n",
       "<p>2 rows × 34 columns</p>\n",
       "</div>"
      ],
      "text/plain": [
       "  restaurant_id            restaurant_name  \\\n",
       "0  9100081       Chillout Break Cafe         \n",
       "1  9100611       The Really Old Sweet Shop   \n",
       "\n",
       "                                                                                                                           url  \\\n",
       "0  https://www.zomato.com/dublin/chillout-break-cafe-north-city?utm_source=api_basic_user&utm_medium=api&utm_campaign=v2.1       \n",
       "1  https://www.zomato.com/dublin/the-really-old-sweet-shop-malahide?utm_source=api_basic_user&utm_medium=api&utm_campaign=v2.1   \n",
       "\n",
       "                                                    address    locality  \\\n",
       "0  11 Moore Street, Dublin Dublin 1                          North City   \n",
       "1  Kilronan House, Church Road, Malahide, Dublin Co. Dublin  Malahide     \n",
       "\n",
       "     city  city_id       latitude      longitude        zipcode  ...  likes  \\\n",
       "0  Dublin  91       53.3502083333  -6.2623861111  Dublin 1       ...  0       \n",
       "1  Dublin  91       53.4502670015  -6.1533546075  Not Available  ...  0       \n",
       "\n",
       "          username user_foodie_level  user_foodie_level_num comments_count  \\\n",
       "0  Filipa Zambujal  Foodie            2                      0               \n",
       "1  Sarah Parker     Big Foodie        6                      0               \n",
       "\n",
       "  compound  neg    neu    pos sentiment  \n",
       "0  0.9254   0.0  0.384  0.616  Positive  \n",
       "1  0.5070   0.0  0.810  0.190  Positive  \n",
       "\n",
       "[2 rows x 34 columns]"
      ]
     },
     "execution_count": 1647,
     "metadata": {},
     "output_type": "execute_result"
    }
   ],
   "source": [
    "restaurants_review_merged_df.head(2)"
   ]
  },
  {
   "cell_type": "markdown",
   "metadata": {},
   "source": [
    "## 5. Task- Analyse and summarise the cleaned dataset, using tables and visualisations where appropriate."
   ]
  },
  {
   "cell_type": "markdown",
   "metadata": {},
   "source": [
    "### 5.1 Analysis of Restaurants Rating"
   ]
  },
  {
   "cell_type": "code",
   "execution_count": 1653,
   "metadata": {},
   "outputs": [
    {
     "data": {
      "text/html": [
       "<div>\n",
       "<style scoped>\n",
       "    .dataframe tbody tr th:only-of-type {\n",
       "        vertical-align: middle;\n",
       "    }\n",
       "\n",
       "    .dataframe tbody tr th {\n",
       "        vertical-align: top;\n",
       "    }\n",
       "\n",
       "    .dataframe thead th {\n",
       "        text-align: right;\n",
       "    }\n",
       "</style>\n",
       "<table border=\"1\" class=\"dataframe\">\n",
       "  <thead>\n",
       "    <tr style=\"text-align: right;\">\n",
       "      <th></th>\n",
       "      <th>rating_text</th>\n",
       "      <th>Total Number of Restaurants</th>\n",
       "    </tr>\n",
       "  </thead>\n",
       "  <tbody>\n",
       "    <tr>\n",
       "      <th>0</th>\n",
       "      <td>Average</td>\n",
       "      <td>578</td>\n",
       "    </tr>\n",
       "    <tr>\n",
       "      <th>1</th>\n",
       "      <td>Excellent</td>\n",
       "      <td>17</td>\n",
       "    </tr>\n",
       "    <tr>\n",
       "      <th>2</th>\n",
       "      <td>Good</td>\n",
       "      <td>396</td>\n",
       "    </tr>\n",
       "    <tr>\n",
       "      <th>3</th>\n",
       "      <td>Not rated</td>\n",
       "      <td>792</td>\n",
       "    </tr>\n",
       "    <tr>\n",
       "      <th>4</th>\n",
       "      <td>Poor</td>\n",
       "      <td>9</td>\n",
       "    </tr>\n",
       "    <tr>\n",
       "      <th>5</th>\n",
       "      <td>Very Good</td>\n",
       "      <td>135</td>\n",
       "    </tr>\n",
       "  </tbody>\n",
       "</table>\n",
       "</div>"
      ],
      "text/plain": [
       "  rating_text  Total Number of Restaurants\n",
       "0  Average     578                        \n",
       "1  Excellent   17                         \n",
       "2  Good        396                        \n",
       "3  Not rated   792                        \n",
       "4  Poor        9                          \n",
       "5  Very Good   135                        "
      ]
     },
     "execution_count": 1653,
     "metadata": {},
     "output_type": "execute_result"
    }
   ],
   "source": [
    "rating_dataset = restaurants_dataset.groupby('rating_text')['restaurant_id'].count().reset_index(name ='Total Number of Restaurants')\n",
    "rating_dataset"
   ]
  },
  {
   "cell_type": "code",
   "execution_count": 1655,
   "metadata": {},
   "outputs": [
    {
     "data": {
      "image/png": "[encoded data removed]",
      "text/plain": [
       "<Figure size 576x432 with 1 Axes>"
      ]
     },
     "metadata": {
      "needs_background": "light"
     },
     "output_type": "display_data"
    }
   ],
   "source": [
    "p = rating_dataset.plot.bar(x='rating_text', y='Total Number of Restaurants',figsize=(8,6),color='#2752B6',\n",
    "fontsize=14)\n",
    "p.set_xlabel(\"Rating Text\",fontsize=14)\n",
    "p.set_ylabel(\"Total Number of Restaurants\",fontsize=14)\n",
    "plt.show()"
   ]
  },
  {
   "cell_type": "markdown",
   "metadata": {},
   "source": [
    "<font size=\"4\">\n",
    "<b><font color=\"red\">Graph Insight </font></b> <br>We can see from the above graph that lot of users have rated restaurants to be average or good and only a few have rated anything beyond that. Also there are many restaurants in the dataset that have not been rated. </font>"
   ]
  },
  {
   "cell_type": "markdown",
   "metadata": {},
   "source": [
    "## 5.2 Most Popular Restaurants in Dublin"
   ]
  },
  {
   "cell_type": "code",
   "execution_count": 1658,
   "metadata": {},
   "outputs": [
    {
     "data": {
      "text/html": [
       "<div>\n",
       "<style scoped>\n",
       "    .dataframe tbody tr th:only-of-type {\n",
       "        vertical-align: middle;\n",
       "    }\n",
       "\n",
       "    .dataframe tbody tr th {\n",
       "        vertical-align: top;\n",
       "    }\n",
       "\n",
       "    .dataframe thead th {\n",
       "        text-align: right;\n",
       "    }\n",
       "</style>\n",
       "<table border=\"1\" class=\"dataframe\">\n",
       "  <thead>\n",
       "    <tr style=\"text-align: right;\">\n",
       "      <th></th>\n",
       "      <th>Restaurant Name</th>\n",
       "      <th>Number of Restaurants</th>\n",
       "    </tr>\n",
       "  </thead>\n",
       "  <tbody>\n",
       "    <tr>\n",
       "      <th>0</th>\n",
       "      <td>Subway</td>\n",
       "      <td>29</td>\n",
       "    </tr>\n",
       "    <tr>\n",
       "      <th>1</th>\n",
       "      <td>Eddie Rocket's</td>\n",
       "      <td>20</td>\n",
       "    </tr>\n",
       "    <tr>\n",
       "      <th>2</th>\n",
       "      <td>McDonald's</td>\n",
       "      <td>19</td>\n",
       "    </tr>\n",
       "    <tr>\n",
       "      <th>3</th>\n",
       "      <td>Abrakebabra</td>\n",
       "      <td>13</td>\n",
       "    </tr>\n",
       "    <tr>\n",
       "      <th>4</th>\n",
       "      <td>Butlers Chocolate Cafe</td>\n",
       "      <td>10</td>\n",
       "    </tr>\n",
       "    <tr>\n",
       "      <th>5</th>\n",
       "      <td>Domino's</td>\n",
       "      <td>10</td>\n",
       "    </tr>\n",
       "    <tr>\n",
       "      <th>6</th>\n",
       "      <td>Milano</td>\n",
       "      <td>9</td>\n",
       "    </tr>\n",
       "    <tr>\n",
       "      <th>7</th>\n",
       "      <td>Nando's</td>\n",
       "      <td>9</td>\n",
       "    </tr>\n",
       "    <tr>\n",
       "      <th>8</th>\n",
       "      <td>Thunders Bakery</td>\n",
       "      <td>8</td>\n",
       "    </tr>\n",
       "    <tr>\n",
       "      <th>9</th>\n",
       "      <td>Camile</td>\n",
       "      <td>8</td>\n",
       "    </tr>\n",
       "  </tbody>\n",
       "</table>\n",
       "</div>"
      ],
      "text/plain": [
       "          Restaurant Name  Number of Restaurants\n",
       "0  Subway                  29                   \n",
       "1  Eddie Rocket's          20                   \n",
       "2  McDonald's              19                   \n",
       "3  Abrakebabra             13                   \n",
       "4  Butlers Chocolate Cafe  10                   \n",
       "5  Domino's                10                   \n",
       "6  Milano                  9                    \n",
       "7  Nando's                 9                    \n",
       "8  Thunders Bakery         8                    \n",
       "9  Camile                  8                    "
      ]
     },
     "execution_count": 1658,
     "metadata": {},
     "output_type": "execute_result"
    }
   ],
   "source": [
    "series=restaurants_dataset[\"restaurant_name\"].value_counts().head(10)\n",
    "popular_restaurants_df = pd.DataFrame(series).reset_index()\n",
    "popular_restaurants_df.columns = ['Restaurant Name', 'Number of Restaurants']\n",
    "popular_restaurants_df"
   ]
  },
  {
   "cell_type": "markdown",
   "metadata": {},
   "source": [
    "Plotting it in the form of wordcloud"
   ]
  },
  {
   "cell_type": "code",
   "execution_count": 1665,
   "metadata": {},
   "outputs": [
    {
     "data": {
      "image/png": "[encoded data removed]",
      "text/plain": [
       "<Figure size 432x288 with 1 Axes>"
      ]
     },
     "metadata": {
      "needs_background": "light"
     },
     "output_type": "display_data"
    }
   ],
   "source": [
    "counts=restaurants_dataset[\"restaurant_name\"].value_counts()\n",
    "counts.index = counts.index.map(str)\n",
    "wordcloud = WordCloud(background_color='white',\n",
    "                      max_font_size = 60,\n",
    "                      collocations=False).generate_from_frequencies(counts)\n",
    "plt.figure()\n",
    "plt.imshow(wordcloud, interpolation=\"bilinear\")\n",
    "plt.axis(\"off\")\n",
    "plt.show()"
   ]
  },
  {
   "cell_type": "markdown",
   "metadata": {},
   "source": [
    "<font size=\"4\">\n",
    "<b><font color=\"red\">Graph Insight </font></b> <br>\n",
    "    We can see from the above wordcloud that most popular restaurants in Dublin are Eddie Rocket, Subway, McDonald's. Or we can say restaurants with maximum outlets in Dublin  \n",
    "</font>"
   ]
  },
  {
   "cell_type": "markdown",
   "metadata": {},
   "source": [
    "## 5.3 Analysis of Popular Cuisines in Dublin"
   ]
  },
  {
   "cell_type": "code",
   "execution_count": 1666,
   "metadata": {},
   "outputs": [
    {
     "data": {
      "text/html": [
       "<div>\n",
       "<style scoped>\n",
       "    .dataframe tbody tr th:only-of-type {\n",
       "        vertical-align: middle;\n",
       "    }\n",
       "\n",
       "    .dataframe tbody tr th {\n",
       "        vertical-align: top;\n",
       "    }\n",
       "\n",
       "    .dataframe thead th {\n",
       "        text-align: right;\n",
       "    }\n",
       "</style>\n",
       "<table border=\"1\" class=\"dataframe\">\n",
       "  <thead>\n",
       "    <tr style=\"text-align: right;\">\n",
       "      <th></th>\n",
       "      <th>Cuisine Name</th>\n",
       "      <th>Number of Restaurants</th>\n",
       "    </tr>\n",
       "  </thead>\n",
       "  <tbody>\n",
       "    <tr>\n",
       "      <th>0</th>\n",
       "      <td>Asian</td>\n",
       "      <td>217</td>\n",
       "    </tr>\n",
       "    <tr>\n",
       "      <th>1</th>\n",
       "      <td>Cafe</td>\n",
       "      <td>201</td>\n",
       "    </tr>\n",
       "    <tr>\n",
       "      <th>2</th>\n",
       "      <td>Fast Food</td>\n",
       "      <td>194</td>\n",
       "    </tr>\n",
       "    <tr>\n",
       "      <th>3</th>\n",
       "      <td>Irish</td>\n",
       "      <td>141</td>\n",
       "    </tr>\n",
       "    <tr>\n",
       "      <th>4</th>\n",
       "      <td>Chinese</td>\n",
       "      <td>116</td>\n",
       "    </tr>\n",
       "    <tr>\n",
       "      <th>5</th>\n",
       "      <td>Pub Food</td>\n",
       "      <td>101</td>\n",
       "    </tr>\n",
       "    <tr>\n",
       "      <th>6</th>\n",
       "      <td>Cafe</td>\n",
       "      <td>100</td>\n",
       "    </tr>\n",
       "    <tr>\n",
       "      <th>7</th>\n",
       "      <td>Drinks Only</td>\n",
       "      <td>100</td>\n",
       "    </tr>\n",
       "    <tr>\n",
       "      <th>8</th>\n",
       "      <td>Indian</td>\n",
       "      <td>98</td>\n",
       "    </tr>\n",
       "    <tr>\n",
       "      <th>9</th>\n",
       "      <td>Pizza</td>\n",
       "      <td>85</td>\n",
       "    </tr>\n",
       "  </tbody>\n",
       "</table>\n",
       "</div>"
      ],
      "text/plain": [
       "  Cuisine Name  Number of Restaurants\n",
       "0   Asian       217                  \n",
       "1  Cafe         201                  \n",
       "2   Fast Food   194                  \n",
       "3  Irish        141                  \n",
       "4  Chinese      116                  \n",
       "5  Pub Food     101                  \n",
       "6   Cafe        100                  \n",
       "7  Drinks Only  100                  \n",
       "8  Indian       98                   \n",
       "9  Pizza        85                   "
      ]
     },
     "execution_count": 1666,
     "metadata": {},
     "output_type": "execute_result"
    }
   ],
   "source": [
    "series=restaurants_cuisines_merged_df['cuisines'].value_counts().head(10)\n",
    "popular_cuisines_df = pd.DataFrame(series).reset_index()\n",
    "popular_cuisines_df.columns = ['Cuisine Name', 'Number of Restaurants']\n",
    "popular_cuisines_df"
   ]
  },
  {
   "cell_type": "code",
   "execution_count": 1668,
   "metadata": {},
   "outputs": [
    {
     "data": {
      "image/png": "[encoded data removed]",
      "text/plain": [
       "<Figure size 576x432 with 1 Axes>"
      ]
     },
     "metadata": {
      "needs_background": "light"
     },
     "output_type": "display_data"
    }
   ],
   "source": [
    "p = cuisines_count.plot.bar(figsize=(8,6),\n",
    "fontsize=14,title ='Most popular cuisine in Dublin',color='#27B6AD')\n",
    "p.set_xlabel(\"Cuisines\",fontsize=14)\n",
    "p.set_ylabel(\"Number of Restaurants\",fontsize=14)\n",
    "plt.show()"
   ]
  },
  {
   "cell_type": "markdown",
   "metadata": {},
   "source": [
    "## 5.4 Analysis of Average Cost for Two People"
   ]
  },
  {
   "cell_type": "code",
   "execution_count": 1669,
   "metadata": {},
   "outputs": [
    {
     "data": {
      "text/plain": [
       "(0.0, 300.0)"
      ]
     },
     "execution_count": 1669,
     "metadata": {},
     "output_type": "execute_result"
    },
    {
     "data": {
      "image/png": "[encoded data removed]",
      "text/plain": [
       "<Figure size 648x504 with 1 Axes>"
      ]
     },
     "metadata": {
      "needs_background": "light"
     },
     "output_type": "display_data"
    }
   ],
   "source": [
    "# Set figure width to 12 and height to 9\n",
    "fig_size = plt.rcParams[\"figure.figsize\"]\n",
    "fig_size[0] = 9\n",
    "fig_size[1] = 7\n",
    "plt.rcParams[\"figure.figsize\"] = fig_size\n",
    "s=restaurants_dataset[restaurants_dataset['average_cost_for_two'] <100]\n",
    "n, bins, patches = plt.hist(x=s['average_cost_for_two'], bins='auto', color='#CF2797',\n",
    "                            alpha=0.8, rwidth=0.75)\n",
    "plt.grid(axis='y', alpha=0.75)\n",
    "plt.xlabel('Average Cost for Two(bin)')\n",
    "plt.ylabel('Number of Restaurants')\n",
    "plt.title('Average Cost for Two vs. Number of Restaurants')\n",
    "maxfreq = n.max()\n",
    "# Set a clean upper y-axis limit.\n",
    "plt.ylim(top=np.ceil(maxfreq / 10) * 10 if maxfreq % 10 else maxfreq + 10)"
   ]
  },
  {
   "cell_type": "markdown",
   "metadata": {},
   "source": [
    "<font size=\"4\">\n",
    "<b><font color=\"red\">Graph Insight </font></b> <br>\n",
    "    We can see from the above graph that maximum number of restaurants have average cost for two between 15-30 euro. There are very few restaurants which have average cost for two more than 80 euro. Also there are very few restaurants with average cost for two less than 10 euro </font>"
   ]
  },
  {
   "cell_type": "markdown",
   "metadata": {},
   "source": [
    "## 5.5 Finding localities with maximum number of restaurants"
   ]
  },
  {
   "cell_type": "code",
   "execution_count": 1672,
   "metadata": {},
   "outputs": [
    {
     "data": {
      "text/html": [
       "<div>\n",
       "<style scoped>\n",
       "    .dataframe tbody tr th:only-of-type {\n",
       "        vertical-align: middle;\n",
       "    }\n",
       "\n",
       "    .dataframe tbody tr th {\n",
       "        vertical-align: top;\n",
       "    }\n",
       "\n",
       "    .dataframe thead th {\n",
       "        text-align: right;\n",
       "    }\n",
       "</style>\n",
       "<table border=\"1\" class=\"dataframe\">\n",
       "  <thead>\n",
       "    <tr style=\"text-align: right;\">\n",
       "      <th></th>\n",
       "      <th>Locality</th>\n",
       "      <th>Number of Restaurants</th>\n",
       "    </tr>\n",
       "  </thead>\n",
       "  <tbody>\n",
       "    <tr>\n",
       "      <th>0</th>\n",
       "      <td>South City West</td>\n",
       "      <td>254</td>\n",
       "    </tr>\n",
       "    <tr>\n",
       "      <th>1</th>\n",
       "      <td>South City East</td>\n",
       "      <td>187</td>\n",
       "    </tr>\n",
       "    <tr>\n",
       "      <th>2</th>\n",
       "      <td>North City</td>\n",
       "      <td>144</td>\n",
       "    </tr>\n",
       "    <tr>\n",
       "      <th>3</th>\n",
       "      <td>Temple Bar</td>\n",
       "      <td>101</td>\n",
       "    </tr>\n",
       "    <tr>\n",
       "      <th>4</th>\n",
       "      <td>Ballsbridge</td>\n",
       "      <td>50</td>\n",
       "    </tr>\n",
       "    <tr>\n",
       "      <th>5</th>\n",
       "      <td>Malahide</td>\n",
       "      <td>38</td>\n",
       "    </tr>\n",
       "    <tr>\n",
       "      <th>6</th>\n",
       "      <td>Ranelagh</td>\n",
       "      <td>37</td>\n",
       "    </tr>\n",
       "    <tr>\n",
       "      <th>7</th>\n",
       "      <td>Drumcondra</td>\n",
       "      <td>30</td>\n",
       "    </tr>\n",
       "    <tr>\n",
       "      <th>8</th>\n",
       "      <td>Howth</td>\n",
       "      <td>29</td>\n",
       "    </tr>\n",
       "    <tr>\n",
       "      <th>9</th>\n",
       "      <td>Swords</td>\n",
       "      <td>29</td>\n",
       "    </tr>\n",
       "  </tbody>\n",
       "</table>\n",
       "</div>"
      ],
      "text/plain": [
       "          Locality  Number of Restaurants\n",
       "0  South City West  254                  \n",
       "1  South City East  187                  \n",
       "2  North City       144                  \n",
       "3  Temple Bar       101                  \n",
       "4  Ballsbridge      50                   \n",
       "5  Malahide         38                   \n",
       "6  Ranelagh         37                   \n",
       "7  Drumcondra       30                   \n",
       "8  Howth            29                   \n",
       "9  Swords           29                   "
      ]
     },
     "execution_count": 1672,
     "metadata": {},
     "output_type": "execute_result"
    }
   ],
   "source": [
    "restaurants_count_by_locality= restaurants_dataset['locality'].value_counts().head(10)\n",
    "restaurants_count_by_locality_df = pd.DataFrame(restaurants_count_by_locality).reset_index()\n",
    "restaurants_count_by_locality_df.columns = ['Locality', 'Number of Restaurants']\n",
    "restaurants_count_by_locality_df"
   ]
  },
  {
   "cell_type": "code",
   "execution_count": 1676,
   "metadata": {},
   "outputs": [
    {
     "data": {
      "image/png": "[encoded data removed]",
      "text/plain": [
       "<Figure size 576x504 with 1 Axes>"
      ]
     },
     "metadata": {
      "needs_background": "light"
     },
     "output_type": "display_data"
    }
   ],
   "source": [
    "plot = restaurants_count_by_locality.plot.bar(figsize=(8,7), color='#325B21',\n",
    "fontsize=14, title='Top 10 Localities where Number of Restaurants are maximum')\n",
    "plot.set_xlabel(\"Locality\",fontsize=14)\n",
    "plot.set_ylabel(\"Number of Restaurants\",fontsize=14)\n",
    "plt.show()"
   ]
  },
  {
   "cell_type": "markdown",
   "metadata": {},
   "source": [
    "<font size=\"4\">\n",
    "<b><font color=\"red\">Graph Insight </font></b> <br>\n",
    "    From the above graph we can see the localities in Dublin where we have more number of restaurants as compared to other places </font>\n"
   ]
  },
  {
   "cell_type": "markdown",
   "metadata": {},
   "source": [
    "## 5.6 Finding Zipcodes where we have maximum number of restaurants"
   ]
  },
  {
   "cell_type": "code",
   "execution_count": 1678,
   "metadata": {},
   "outputs": [
    {
     "data": {
      "text/html": [
       "<div>\n",
       "<style scoped>\n",
       "    .dataframe tbody tr th:only-of-type {\n",
       "        vertical-align: middle;\n",
       "    }\n",
       "\n",
       "    .dataframe tbody tr th {\n",
       "        vertical-align: top;\n",
       "    }\n",
       "\n",
       "    .dataframe thead th {\n",
       "        text-align: right;\n",
       "    }\n",
       "</style>\n",
       "<table border=\"1\" class=\"dataframe\">\n",
       "  <thead>\n",
       "    <tr style=\"text-align: right;\">\n",
       "      <th></th>\n",
       "      <th>Zipcode</th>\n",
       "      <th>Number of Restaurants</th>\n",
       "    </tr>\n",
       "  </thead>\n",
       "  <tbody>\n",
       "    <tr>\n",
       "      <th>0</th>\n",
       "      <td>Dublin 2</td>\n",
       "      <td>561</td>\n",
       "    </tr>\n",
       "    <tr>\n",
       "      <th>1</th>\n",
       "      <td>Not Available</td>\n",
       "      <td>402</td>\n",
       "    </tr>\n",
       "    <tr>\n",
       "      <th>2</th>\n",
       "      <td>Dublin 1</td>\n",
       "      <td>198</td>\n",
       "    </tr>\n",
       "    <tr>\n",
       "      <th>3</th>\n",
       "      <td>Dublin 6</td>\n",
       "      <td>95</td>\n",
       "    </tr>\n",
       "    <tr>\n",
       "      <th>4</th>\n",
       "      <td>Dublin 4</td>\n",
       "      <td>90</td>\n",
       "    </tr>\n",
       "    <tr>\n",
       "      <th>5</th>\n",
       "      <td>Dublin 9</td>\n",
       "      <td>63</td>\n",
       "    </tr>\n",
       "    <tr>\n",
       "      <th>6</th>\n",
       "      <td>Dublin 8</td>\n",
       "      <td>63</td>\n",
       "    </tr>\n",
       "    <tr>\n",
       "      <th>7</th>\n",
       "      <td>Dublin 15</td>\n",
       "      <td>59</td>\n",
       "    </tr>\n",
       "    <tr>\n",
       "      <th>8</th>\n",
       "      <td>Dublin 7</td>\n",
       "      <td>54</td>\n",
       "    </tr>\n",
       "    <tr>\n",
       "      <th>9</th>\n",
       "      <td>Dublin 24</td>\n",
       "      <td>40</td>\n",
       "    </tr>\n",
       "  </tbody>\n",
       "</table>\n",
       "</div>"
      ],
      "text/plain": [
       "         Zipcode  Number of Restaurants\n",
       "0  Dublin 2       561                  \n",
       "1  Not Available  402                  \n",
       "2  Dublin 1       198                  \n",
       "3  Dublin 6       95                   \n",
       "4  Dublin 4       90                   \n",
       "5  Dublin 9       63                   \n",
       "6  Dublin 8       63                   \n",
       "7  Dublin 15      59                   \n",
       "8  Dublin 7       54                   \n",
       "9  Dublin 24      40                   "
      ]
     },
     "execution_count": 1678,
     "metadata": {},
     "output_type": "execute_result"
    }
   ],
   "source": [
    "restaurants_count_by_zipcode=restaurants_dataset[\"zipcode\"].value_counts().head(10)\n",
    "restaurants_count_by_zipcode_df = pd.DataFrame(restaurants_count_by_zipcode).reset_index()\n",
    "restaurants_count_by_zipcode_df.columns = ['Zipcode', 'Number of Restaurants']\n",
    "restaurants_count_by_zipcode_df"
   ]
  },
  {
   "cell_type": "markdown",
   "metadata": {},
   "source": [
    "We can ignore the rows whose zipcode value is not available"
   ]
  },
  {
   "cell_type": "code",
   "execution_count": 1679,
   "metadata": {},
   "outputs": [
    {
     "data": {
      "text/html": [
       "<div>\n",
       "<style scoped>\n",
       "    .dataframe tbody tr th:only-of-type {\n",
       "        vertical-align: middle;\n",
       "    }\n",
       "\n",
       "    .dataframe tbody tr th {\n",
       "        vertical-align: top;\n",
       "    }\n",
       "\n",
       "    .dataframe thead th {\n",
       "        text-align: right;\n",
       "    }\n",
       "</style>\n",
       "<table border=\"1\" class=\"dataframe\">\n",
       "  <thead>\n",
       "    <tr style=\"text-align: right;\">\n",
       "      <th></th>\n",
       "      <th>Zipcode</th>\n",
       "      <th>Number of Restaurants</th>\n",
       "    </tr>\n",
       "  </thead>\n",
       "  <tbody>\n",
       "    <tr>\n",
       "      <th>0</th>\n",
       "      <td>Dublin 2</td>\n",
       "      <td>561</td>\n",
       "    </tr>\n",
       "    <tr>\n",
       "      <th>1</th>\n",
       "      <td>Dublin 1</td>\n",
       "      <td>198</td>\n",
       "    </tr>\n",
       "    <tr>\n",
       "      <th>2</th>\n",
       "      <td>Dublin 6</td>\n",
       "      <td>95</td>\n",
       "    </tr>\n",
       "    <tr>\n",
       "      <th>3</th>\n",
       "      <td>Dublin 4</td>\n",
       "      <td>90</td>\n",
       "    </tr>\n",
       "    <tr>\n",
       "      <th>4</th>\n",
       "      <td>Dublin 8</td>\n",
       "      <td>63</td>\n",
       "    </tr>\n",
       "    <tr>\n",
       "      <th>5</th>\n",
       "      <td>Dublin 9</td>\n",
       "      <td>63</td>\n",
       "    </tr>\n",
       "    <tr>\n",
       "      <th>6</th>\n",
       "      <td>Dublin 15</td>\n",
       "      <td>59</td>\n",
       "    </tr>\n",
       "    <tr>\n",
       "      <th>7</th>\n",
       "      <td>Dublin 7</td>\n",
       "      <td>54</td>\n",
       "    </tr>\n",
       "    <tr>\n",
       "      <th>8</th>\n",
       "      <td>Dublin 24</td>\n",
       "      <td>40</td>\n",
       "    </tr>\n",
       "    <tr>\n",
       "      <th>9</th>\n",
       "      <td>Dublin 14</td>\n",
       "      <td>40</td>\n",
       "    </tr>\n",
       "  </tbody>\n",
       "</table>\n",
       "</div>"
      ],
      "text/plain": [
       "     Zipcode  Number of Restaurants\n",
       "0  Dublin 2   561                  \n",
       "1  Dublin 1   198                  \n",
       "2  Dublin 6   95                   \n",
       "3  Dublin 4   90                   \n",
       "4  Dublin 8   63                   \n",
       "5  Dublin 9   63                   \n",
       "6  Dublin 15  59                   \n",
       "7  Dublin 7   54                   \n",
       "8  Dublin 24  40                   \n",
       "9  Dublin 14  40                   "
      ]
     },
     "execution_count": 1679,
     "metadata": {},
     "output_type": "execute_result"
    }
   ],
   "source": [
    "restaurants_count_by_zipcode=restaurants_dataset[restaurants_dataset[\"zipcode\"] != 'Not Available'].zipcode.value_counts().head(10)\n",
    "restaurants_count_by_zipcode_df = pd.DataFrame(restaurants_count_by_zipcode).reset_index()\n",
    "restaurants_count_by_zipcode_df.columns = ['Zipcode', 'Number of Restaurants']\n",
    "restaurants_count_by_zipcode_df"
   ]
  },
  {
   "cell_type": "code",
   "execution_count": 1682,
   "metadata": {},
   "outputs": [
    {
     "data": {
      "image/png": "[encoded data removed]",
      "text/plain": [
       "<Figure size 720x504 with 1 Axes>"
      ]
     },
     "metadata": {
      "needs_background": "light"
     },
     "output_type": "display_data"
    }
   ],
   "source": [
    "plot = restaurants_count_by_zipcode.plot.bar(figsize=(10,7),\n",
    "fontsize=14, title='Top 10 Zipcodes where Number of Restaurants are maximum',color='#5B2142')\n",
    "plot.set_xlabel(\"Zipcode/Postal Code\",fontsize=14)\n",
    "plot.set_ylabel(\"Number of Restaurants\",fontsize=14)\n",
    "plt.show()"
   ]
  },
  {
   "cell_type": "markdown",
   "metadata": {},
   "source": [
    "<font size=\"4\">\n",
    "<b><font color=\"red\">Graph Insight </font></b> <br>\n",
    "    From the above graph we can see the area codes in Dublin where we have more number of restaurants as compared to other places. Dublin 2 has maximum number of restaurants </font>"
   ]
  },
  {
   "cell_type": "markdown",
   "metadata": {},
   "source": [
    "## 5.7 Locality v/s Rating "
   ]
  },
  {
   "cell_type": "markdown",
   "metadata": {},
   "source": [
    "In this we are trying to analyse the different rating for top ten popular localities. "
   ]
  },
  {
   "cell_type": "code",
   "execution_count": 1683,
   "metadata": {},
   "outputs": [],
   "source": [
    "restaurants_count_by_locality= restaurants_dataset['locality'].value_counts().head(10)\n",
    "s=restaurants_dataset[restaurants_dataset.locality.isin(restaurants_count_by_locality.index)]\n",
    "df_agg = s.groupby(['locality','rating_text']).agg('count')['restaurant_id']\n",
    "dfa=df_agg.unstack(level=1)"
   ]
  },
  {
   "cell_type": "code",
   "execution_count": 1693,
   "metadata": {},
   "outputs": [
    {
     "data": {
      "image/png": "[encoded data removed]",
      "text/plain": [
       "<Figure size 1440x1080 with 10 Axes>"
      ]
     },
     "metadata": {
      "needs_background": "light"
     },
     "output_type": "display_data"
    }
   ],
   "source": [
    "fig = plt.figure(figsize=(20,15))\n",
    "count=1\n",
    "color=['#002b80','#003399','#004de6','#4d88ff','#99bbff','#99bbff']\n",
    "for index, row in dfa.iterrows():\n",
    "    ax = fig.add_subplot(4, 3, count)\n",
    "    row.plot(kind='bar',title=index,sharex=True,fontsize=15,color=color)\n",
    "    ax.title.set_size(15)\n",
    "    count=count+1\n",
    "\n",
    "plt.show()"
   ]
  },
  {
   "cell_type": "markdown",
   "metadata": {},
   "source": [
    "<font size=\"4\">\n",
    "<b><font color=\"red\">Graph Insight </font></b> <br>\n",
    "    We can see from the above graph that there are only few restaurants which have excellent rating and most of then are in Temple Bar and South City West Region. All other regions have most of the rating as Average or Good. Also there are many restaurants in each region which have not been rated. In swords, most of the restaurants are not rated. On the other hand in Howth, number of restaurants which are not rated are less.</font>"
   ]
  },
  {
   "cell_type": "markdown",
   "metadata": {},
   "source": [
    "## 5.8 Cuisines v/s Rating"
   ]
  },
  {
   "cell_type": "markdown",
   "metadata": {},
   "source": [
    "In this we are trying to analyse the different rating for popular cuisines in Dublin"
   ]
  },
  {
   "cell_type": "code",
   "execution_count": 1696,
   "metadata": {},
   "outputs": [],
   "source": [
    "cuisines_count=restaurants_cuisines_merged_df['cuisines'].value_counts().head(10)\n",
    "s=restaurants_cuisines_merged_df[restaurants_cuisines_merged_df.cuisines.isin(cuisines_count.index)]\n",
    "df_agg = s.groupby(['cuisines','rating_text']).agg('count')['restaurant_id']"
   ]
  },
  {
   "cell_type": "code",
   "execution_count": 1697,
   "metadata": {},
   "outputs": [
    {
     "data": {
      "image/png": "[encoded data removed]",
      "text/plain": [
       "<Figure size 720x504 with 1 Axes>"
      ]
     },
     "metadata": {
      "needs_background": "light"
     },
     "output_type": "display_data"
    }
   ],
   "source": [
    "plot=df_agg.unstack(level=1).plot(kind='bar', stacked=True,title='Cuisines v/s Ratings',figsize=(10,7))\n",
    "plot.set_xlabel(\"Cuisines\",fontsize=14)\n",
    "plot.set_ylabel(\"Number of Restaurants\",fontsize=14)\n",
    "plt.show()"
   ]
  },
  {
   "cell_type": "markdown",
   "metadata": {},
   "source": [
    "<font size=\"4\">\n",
    "<b><font color=\"red\">Graph Insight </font></b> <br>\n",
    "    We can see from the above graph that for the most popular cuisine that is Asian, majority of the restaurants are have average rating. And only few restaurants have very good rating. If we look at the second most popular cuisine that is cafe, most of the restaurants have good or average rating. If we look at Irish cuisine, it has majority rating as Good. Also there are many restaurants with very good rating that offers Irish cuisine. </font>"
   ]
  },
  {
   "cell_type": "markdown",
   "metadata": {},
   "source": [
    "## 5.9 Relation Between Aggregate rating and Average cost for two"
   ]
  },
  {
   "cell_type": "code",
   "execution_count": 1700,
   "metadata": {},
   "outputs": [
    {
     "data": {
      "image/png": "[encoded data removed]",
      "text/plain": [
       "<Figure size 864x504 with 1 Axes>"
      ]
     },
     "metadata": {},
     "output_type": "display_data"
    }
   ],
   "source": [
    "sns.set_style(\"whitegrid\")\n",
    "plt.figure(figsize=(12,7))\n",
    "ax = sns.scatterplot(y=\"aggregate_rating\", x=\"average_cost_for_two\",\n",
    "                      hue=\"rating_text\", data=restaurants_dataset)\n",
    "\n",
    "\n",
    "box = ax.get_position()\n",
    "ax.set_position([box.x0, box.y0, box.width * 0.8, box.height])\n",
    "\n",
    "# Put a legend to the right of the current axis\n",
    "ax.legend(loc='center left', bbox_to_anchor=(1, 0.5))\n",
    "\n",
    "ax.set_xlabel(\"Average cost for two\")\n",
    "ax.set_ylabel(\"Aggregate rating\")\n",
    "plt.show()"
   ]
  },
  {
   "cell_type": "markdown",
   "metadata": {},
   "source": [
    "<font size=\"4\">\n",
    "<b><font color=\"red\">Graph Insight </font></b> <br>\n",
    "    In the above graph, we can see that there is no relation between average cost for two and Aggregate Rating. Most of the restaurants have average cost for two between 15-75 euro. And in that range we have all kind of ratings. Most of the rating are between 3 and 4 which corresponds to Average and Good </font>"
   ]
  },
  {
   "cell_type": "markdown",
   "metadata": {},
   "source": [
    "## 5.10 Analysis of Popular Highlights of Restaurants in Dublin"
   ]
  },
  {
   "cell_type": "code",
   "execution_count": 1701,
   "metadata": {},
   "outputs": [
    {
     "data": {
      "text/html": [
       "<div>\n",
       "<style scoped>\n",
       "    .dataframe tbody tr th:only-of-type {\n",
       "        vertical-align: middle;\n",
       "    }\n",
       "\n",
       "    .dataframe tbody tr th {\n",
       "        vertical-align: top;\n",
       "    }\n",
       "\n",
       "    .dataframe thead th {\n",
       "        text-align: right;\n",
       "    }\n",
       "</style>\n",
       "<table border=\"1\" class=\"dataframe\">\n",
       "  <thead>\n",
       "    <tr style=\"text-align: right;\">\n",
       "      <th></th>\n",
       "      <th>Highlight Name</th>\n",
       "      <th>Number of Restaurants</th>\n",
       "    </tr>\n",
       "  </thead>\n",
       "  <tbody>\n",
       "    <tr>\n",
       "      <th>0</th>\n",
       "      <td>Indoor Seating</td>\n",
       "      <td>1343</td>\n",
       "    </tr>\n",
       "    <tr>\n",
       "      <th>1</th>\n",
       "      <td>Takeaway Available</td>\n",
       "      <td>1073</td>\n",
       "    </tr>\n",
       "    <tr>\n",
       "      <th>2</th>\n",
       "      <td>Wifi</td>\n",
       "      <td>899</td>\n",
       "    </tr>\n",
       "    <tr>\n",
       "      <th>3</th>\n",
       "      <td>Full Bar Available</td>\n",
       "      <td>615</td>\n",
       "    </tr>\n",
       "    <tr>\n",
       "      <th>4</th>\n",
       "      <td>Breakfast</td>\n",
       "      <td>606</td>\n",
       "    </tr>\n",
       "  </tbody>\n",
       "</table>\n",
       "</div>"
      ],
      "text/plain": [
       "       Highlight Name  Number of Restaurants\n",
       "0  Indoor Seating      1343                 \n",
       "1  Takeaway Available  1073                 \n",
       "2  Wifi                899                  \n",
       "3  Full Bar Available  615                  \n",
       "4  Breakfast           606                  "
      ]
     },
     "execution_count": 1701,
     "metadata": {},
     "output_type": "execute_result"
    }
   ],
   "source": [
    "series=restaurants_feature_merged_df[restaurants_feature_merged_df['Present/NotPresent'] == 'Present'].Highlights.value_counts().head(5)\n",
    "popular_highlights_df = pd.DataFrame(series).reset_index()\n",
    "popular_highlights_df.columns = ['Highlight Name', 'Number of Restaurants']\n",
    "popular_highlights_df"
   ]
  },
  {
   "cell_type": "code",
   "execution_count": 1702,
   "metadata": {},
   "outputs": [
    {
     "data": {
      "image/png": "[encoded data removed]",
      "text/plain": [
       "<Figure size 504x288 with 1 Axes>"
      ]
     },
     "metadata": {},
     "output_type": "display_data"
    }
   ],
   "source": [
    "plt.figure(figsize=(7,4))\n",
    "sns.set(style=\"whitegrid\")\n",
    "ax = sns.barplot(x=\"Highlight Name\", y=\"Number of Restaurants\", data=popular_highlights_df)\n",
    "ax.set_xticklabels(ax.get_xticklabels(), rotation=40, ha=\"right\")\n",
    "ax.set_title(\"Popular Highlights in Restaurants\",fontsize=20)\n",
    "plt.show()"
   ]
  },
  {
   "cell_type": "markdown",
   "metadata": {},
   "source": [
    "<font size=\"4\">\n",
    "<b><font color=\"red\">Graph Insight </font></b> <br>\n",
    "    We can see from the above graph that most of the restaurants in Dublin have Indoor Seating, Takeaway facility, Wifi, Bar and Breakfast option.</font>"
   ]
  },
  {
   "cell_type": "markdown",
   "metadata": {},
   "source": [
    "## 5.11 Analysis of Popular Area's for Takeaway  in Dublin"
   ]
  },
  {
   "cell_type": "code",
   "execution_count": 1703,
   "metadata": {},
   "outputs": [
    {
     "data": {
      "text/html": [
       "<div>\n",
       "<style scoped>\n",
       "    .dataframe tbody tr th:only-of-type {\n",
       "        vertical-align: middle;\n",
       "    }\n",
       "\n",
       "    .dataframe tbody tr th {\n",
       "        vertical-align: top;\n",
       "    }\n",
       "\n",
       "    .dataframe thead th {\n",
       "        text-align: right;\n",
       "    }\n",
       "</style>\n",
       "<table border=\"1\" class=\"dataframe\">\n",
       "  <thead>\n",
       "    <tr style=\"text-align: right;\">\n",
       "      <th></th>\n",
       "      <th>Locality Name</th>\n",
       "      <th>Number of Restaurants</th>\n",
       "    </tr>\n",
       "  </thead>\n",
       "  <tbody>\n",
       "    <tr>\n",
       "      <th>0</th>\n",
       "      <td>South City West</td>\n",
       "      <td>130</td>\n",
       "    </tr>\n",
       "    <tr>\n",
       "      <th>1</th>\n",
       "      <td>South City East</td>\n",
       "      <td>84</td>\n",
       "    </tr>\n",
       "    <tr>\n",
       "      <th>2</th>\n",
       "      <td>North City</td>\n",
       "      <td>82</td>\n",
       "    </tr>\n",
       "    <tr>\n",
       "      <th>3</th>\n",
       "      <td>Temple Bar</td>\n",
       "      <td>42</td>\n",
       "    </tr>\n",
       "    <tr>\n",
       "      <th>4</th>\n",
       "      <td>Ballsbridge</td>\n",
       "      <td>30</td>\n",
       "    </tr>\n",
       "    <tr>\n",
       "      <th>5</th>\n",
       "      <td>Malahide</td>\n",
       "      <td>26</td>\n",
       "    </tr>\n",
       "    <tr>\n",
       "      <th>6</th>\n",
       "      <td>Dun Laoghaire</td>\n",
       "      <td>22</td>\n",
       "    </tr>\n",
       "    <tr>\n",
       "      <th>7</th>\n",
       "      <td>Drumcondra</td>\n",
       "      <td>18</td>\n",
       "    </tr>\n",
       "    <tr>\n",
       "      <th>8</th>\n",
       "      <td>Ranelagh</td>\n",
       "      <td>18</td>\n",
       "    </tr>\n",
       "    <tr>\n",
       "      <th>9</th>\n",
       "      <td>Rathmines</td>\n",
       "      <td>18</td>\n",
       "    </tr>\n",
       "  </tbody>\n",
       "</table>\n",
       "</div>"
      ],
      "text/plain": [
       "     Locality Name  Number of Restaurants\n",
       "0  South City West  130                  \n",
       "1  South City East  84                   \n",
       "2  North City       82                   \n",
       "3  Temple Bar       42                   \n",
       "4  Ballsbridge      30                   \n",
       "5  Malahide         26                   \n",
       "6  Dun Laoghaire    22                   \n",
       "7  Drumcondra       18                   \n",
       "8  Ranelagh         18                   \n",
       "9  Rathmines        18                   "
      ]
     },
     "execution_count": 1703,
     "metadata": {},
     "output_type": "execute_result"
    }
   ],
   "source": [
    "series=restaurants_feature_merged_df[restaurants_feature_merged_df.Highlights == 'Takeaway Available'].\\\n",
    "                groupby(\"locality\").agg('count')['restaurant_id'].nlargest(10)\n",
    "\n",
    "\n",
    "takeaway_localities_df = pd.DataFrame(series).reset_index()\n",
    "takeaway_localities_df.columns = ['Locality Name', 'Number of Restaurants']\n",
    "takeaway_localities_df"
   ]
  },
  {
   "cell_type": "code",
   "execution_count": 1704,
   "metadata": {},
   "outputs": [
    {
     "data": {
      "image/png": "[encoded data removed]",
      "text/plain": [
       "<Figure size 720x432 with 1 Axes>"
      ]
     },
     "metadata": {},
     "output_type": "display_data"
    }
   ],
   "source": [
    "style.use('ggplot')\n",
    "fig, ax = plt.subplots(figsize=(10,6))\n",
    "# Colormap\n",
    "cmap = matplotlib.cm.GnBu\n",
    "# Min and Max Values\n",
    "mini = min(takeaway_localities_df[\"Number of Restaurants\"])\n",
    "maxi = max(takeaway_localities_df[\"Number of Restaurants\"])\n",
    "# Finding Colors for each tile\n",
    "norm = matplotlib.colors.Normalize(vmin=mini, vmax=maxi)\n",
    "colors = [cmap(norm(value)) for value in takeaway_localities_df[\"Number of Restaurants\"]]\n",
    "# Plotting\n",
    "squarify.plot(sizes=takeaway_localities_df[\"Number of Restaurants\"], label=takeaway_localities_df[\"Locality Name\"],\\\n",
    "              alpha=0.5, color=colors)\n",
    "# Removing Axis\n",
    "plt.axis('off')\n",
    "plt.gca().invert_yaxis()\n",
    "plt.title(\"Popular Area's for Takeaway option\", fontsize=20)\n",
    "ttl = ax.title\n",
    "ttl.set_position([.5, 1.05])"
   ]
  },
  {
   "cell_type": "markdown",
   "metadata": {},
   "source": [
    "## 5.12 Analysis of Popular Area's for Nightlife in Dublin"
   ]
  },
  {
   "cell_type": "code",
   "execution_count": 1367,
   "metadata": {},
   "outputs": [
    {
     "data": {
      "text/html": [
       "<div>\n",
       "<style scoped>\n",
       "    .dataframe tbody tr th:only-of-type {\n",
       "        vertical-align: middle;\n",
       "    }\n",
       "\n",
       "    .dataframe tbody tr th {\n",
       "        vertical-align: top;\n",
       "    }\n",
       "\n",
       "    .dataframe thead th {\n",
       "        text-align: right;\n",
       "    }\n",
       "</style>\n",
       "<table border=\"1\" class=\"dataframe\">\n",
       "  <thead>\n",
       "    <tr style=\"text-align: right;\">\n",
       "      <th></th>\n",
       "      <th>Locality Name</th>\n",
       "      <th>Number of Restaurants</th>\n",
       "    </tr>\n",
       "  </thead>\n",
       "  <tbody>\n",
       "    <tr>\n",
       "      <th>0</th>\n",
       "      <td>South City West</td>\n",
       "      <td>116</td>\n",
       "    </tr>\n",
       "    <tr>\n",
       "      <th>1</th>\n",
       "      <td>South City East</td>\n",
       "      <td>72</td>\n",
       "    </tr>\n",
       "    <tr>\n",
       "      <th>2</th>\n",
       "      <td>North City</td>\n",
       "      <td>52</td>\n",
       "    </tr>\n",
       "    <tr>\n",
       "      <th>3</th>\n",
       "      <td>Temple Bar</td>\n",
       "      <td>48</td>\n",
       "    </tr>\n",
       "    <tr>\n",
       "      <th>4</th>\n",
       "      <td>Ballsbridge</td>\n",
       "      <td>17</td>\n",
       "    </tr>\n",
       "    <tr>\n",
       "      <th>5</th>\n",
       "      <td>Swords</td>\n",
       "      <td>11</td>\n",
       "    </tr>\n",
       "    <tr>\n",
       "      <th>6</th>\n",
       "      <td>Blackrock</td>\n",
       "      <td>10</td>\n",
       "    </tr>\n",
       "    <tr>\n",
       "      <th>7</th>\n",
       "      <td>Castleknock</td>\n",
       "      <td>10</td>\n",
       "    </tr>\n",
       "    <tr>\n",
       "      <th>8</th>\n",
       "      <td>Glasnevin</td>\n",
       "      <td>9</td>\n",
       "    </tr>\n",
       "    <tr>\n",
       "      <th>9</th>\n",
       "      <td>Howth</td>\n",
       "      <td>9</td>\n",
       "    </tr>\n",
       "  </tbody>\n",
       "</table>\n",
       "</div>"
      ],
      "text/plain": [
       "     Locality Name  Number of Restaurants\n",
       "0  South City West  116                  \n",
       "1  South City East  72                   \n",
       "2  North City       52                   \n",
       "3  Temple Bar       48                   \n",
       "4  Ballsbridge      17                   \n",
       "5  Swords           11                   \n",
       "6  Blackrock        10                   \n",
       "7  Castleknock      10                   \n",
       "8  Glasnevin        9                    \n",
       "9  Howth            9                    "
      ]
     },
     "execution_count": 1367,
     "metadata": {},
     "output_type": "execute_result"
    }
   ],
   "source": [
    "series=restaurants_feature_merged_df[restaurants_feature_merged_df.Highlights == 'Nightlife'].\\\n",
    "                groupby(\"locality\").agg('count')['restaurant_id'].nlargest(10)\n",
    "\n",
    "\n",
    "nightlife_localities_df = pd.DataFrame(series).reset_index()\n",
    "nightlife_localities_df.columns = ['Locality Name', 'Number of Restaurants']\n",
    "nightlife_localities_df"
   ]
  },
  {
   "cell_type": "code",
   "execution_count": 1375,
   "metadata": {},
   "outputs": [
    {
     "data": {
      "text/plain": [
       "Text(0.5, 1.0, \"Popular Area's for Nightlife\")"
      ]
     },
     "execution_count": 1375,
     "metadata": {},
     "output_type": "execute_result"
    },
    {
     "data": {
      "image/png": "[encoded data removed]",
      "text/plain": [
       "<Figure size 576x360 with 1 Axes>"
      ]
     },
     "metadata": {},
     "output_type": "display_data"
    }
   ],
   "source": [
    "plt.figure(figsize=(8,5))\n",
    "ax = sns.barplot(x=\"Number of Restaurants\", y=\"Locality Name\", data=nightlife_localities_df)\n",
    "ax.set_title(\"Popular Area's for Nightlife\", fontsize=20)"
   ]
  },
  {
   "cell_type": "markdown",
   "metadata": {},
   "source": [
    "## 5.13 Analysis of Popular Area's for Breakfast in Dublin"
   ]
  },
  {
   "cell_type": "code",
   "execution_count": 1705,
   "metadata": {},
   "outputs": [
    {
     "data": {
      "text/html": [
       "<div>\n",
       "<style scoped>\n",
       "    .dataframe tbody tr th:only-of-type {\n",
       "        vertical-align: middle;\n",
       "    }\n",
       "\n",
       "    .dataframe tbody tr th {\n",
       "        vertical-align: top;\n",
       "    }\n",
       "\n",
       "    .dataframe thead th {\n",
       "        text-align: right;\n",
       "    }\n",
       "</style>\n",
       "<table border=\"1\" class=\"dataframe\">\n",
       "  <thead>\n",
       "    <tr style=\"text-align: right;\">\n",
       "      <th></th>\n",
       "      <th>Locality Name</th>\n",
       "      <th>Number of Restaurants</th>\n",
       "    </tr>\n",
       "  </thead>\n",
       "  <tbody>\n",
       "    <tr>\n",
       "      <th>0</th>\n",
       "      <td>South City East</td>\n",
       "      <td>81</td>\n",
       "    </tr>\n",
       "    <tr>\n",
       "      <th>1</th>\n",
       "      <td>South City West</td>\n",
       "      <td>69</td>\n",
       "    </tr>\n",
       "    <tr>\n",
       "      <th>2</th>\n",
       "      <td>North City</td>\n",
       "      <td>46</td>\n",
       "    </tr>\n",
       "    <tr>\n",
       "      <th>3</th>\n",
       "      <td>Ballsbridge</td>\n",
       "      <td>21</td>\n",
       "    </tr>\n",
       "    <tr>\n",
       "      <th>4</th>\n",
       "      <td>Temple Bar</td>\n",
       "      <td>16</td>\n",
       "    </tr>\n",
       "    <tr>\n",
       "      <th>5</th>\n",
       "      <td>Malahide</td>\n",
       "      <td>14</td>\n",
       "    </tr>\n",
       "    <tr>\n",
       "      <th>6</th>\n",
       "      <td>Ranelagh</td>\n",
       "      <td>12</td>\n",
       "    </tr>\n",
       "    <tr>\n",
       "      <th>7</th>\n",
       "      <td>Blanchardstown Shopping Centre, Blanchardstown</td>\n",
       "      <td>11</td>\n",
       "    </tr>\n",
       "    <tr>\n",
       "      <th>8</th>\n",
       "      <td>Drumcondra</td>\n",
       "      <td>10</td>\n",
       "    </tr>\n",
       "    <tr>\n",
       "      <th>9</th>\n",
       "      <td>Howth</td>\n",
       "      <td>10</td>\n",
       "    </tr>\n",
       "  </tbody>\n",
       "</table>\n",
       "</div>"
      ],
      "text/plain": [
       "                                    Locality Name  Number of Restaurants\n",
       "0  South City East                                 81                   \n",
       "1  South City West                                 69                   \n",
       "2  North City                                      46                   \n",
       "3  Ballsbridge                                     21                   \n",
       "4  Temple Bar                                      16                   \n",
       "5  Malahide                                        14                   \n",
       "6  Ranelagh                                        12                   \n",
       "7  Blanchardstown Shopping Centre, Blanchardstown  11                   \n",
       "8  Drumcondra                                      10                   \n",
       "9  Howth                                           10                   "
      ]
     },
     "execution_count": 1705,
     "metadata": {},
     "output_type": "execute_result"
    }
   ],
   "source": [
    "series=restaurants_feature_merged_df[restaurants_feature_merged_df.Highlights == 'Breakfast'].\\\n",
    "                groupby(\"locality\").agg('count')['restaurant_id'].nlargest(10)\n",
    "breakfast_localities_df = pd.DataFrame(series).reset_index()\n",
    "breakfast_localities_df.columns = ['Locality Name', 'Number of Restaurants']\n",
    "breakfast_localities_df"
   ]
  },
  {
   "cell_type": "code",
   "execution_count": 1706,
   "metadata": {},
   "outputs": [
    {
     "data": {
      "image/png": "[encoded data removed]",
      "text/plain": [
       "<Figure size 936x576 with 1 Axes>"
      ]
     },
     "metadata": {},
     "output_type": "display_data"
    }
   ],
   "source": [
    "style.use('ggplot')\n",
    "fig, ax = plt.subplots(figsize=(13,8))\n",
    "# Colormap\n",
    "cmap = matplotlib.cm.Reds\n",
    "# Min and Max Values\n",
    "mini = min(breakfast_localities_df[\"Number of Restaurants\"])\n",
    "maxi = max(breakfast_localities_df[\"Number of Restaurants\"])\n",
    "# Finding Colors for each tile\n",
    "norm = matplotlib.colors.Normalize(vmin=mini, vmax=maxi)\n",
    "colors = [cmap(norm(value)) for value in breakfast_localities_df[\"Number of Restaurants\"]]\n",
    "# Plotting\n",
    "squarify.plot(sizes=breakfast_localities_df[\"Number of Restaurants\"], label=breakfast_localities_df[\"Locality Name\"],\\\n",
    "              alpha=0.4, color=colors)\n",
    "# Removing Axis\n",
    "plt.axis('off')\n",
    "plt.gca().invert_yaxis()\n",
    "plt.title(\"Popular Area's for Breakfast option\", fontsize=20)\n",
    "ttl = ax.title\n",
    "ttl.set_position([.5, 1.05])"
   ]
  },
  {
   "cell_type": "markdown",
   "metadata": {},
   "source": [
    "## 5.14 Analysing the Sentiment of Reviews"
   ]
  },
  {
   "cell_type": "code",
   "execution_count": 1707,
   "metadata": {},
   "outputs": [
    {
     "data": {
      "text/html": [
       "<div>\n",
       "<style scoped>\n",
       "    .dataframe tbody tr th:only-of-type {\n",
       "        vertical-align: middle;\n",
       "    }\n",
       "\n",
       "    .dataframe tbody tr th {\n",
       "        vertical-align: top;\n",
       "    }\n",
       "\n",
       "    .dataframe thead th {\n",
       "        text-align: right;\n",
       "    }\n",
       "</style>\n",
       "<table border=\"1\" class=\"dataframe\">\n",
       "  <thead>\n",
       "    <tr style=\"text-align: right;\">\n",
       "      <th></th>\n",
       "      <th>Sentiment</th>\n",
       "      <th>Number of Reviews</th>\n",
       "    </tr>\n",
       "  </thead>\n",
       "  <tbody>\n",
       "    <tr>\n",
       "      <th>0</th>\n",
       "      <td>Positive</td>\n",
       "      <td>4423</td>\n",
       "    </tr>\n",
       "    <tr>\n",
       "      <th>1</th>\n",
       "      <td>Neutral</td>\n",
       "      <td>559</td>\n",
       "    </tr>\n",
       "    <tr>\n",
       "      <th>2</th>\n",
       "      <td>Negative</td>\n",
       "      <td>481</td>\n",
       "    </tr>\n",
       "  </tbody>\n",
       "</table>\n",
       "</div>"
      ],
      "text/plain": [
       "  Sentiment  Number of Reviews\n",
       "0  Positive  4423             \n",
       "1  Neutral   559              \n",
       "2  Negative  481              "
      ]
     },
     "execution_count": 1707,
     "metadata": {},
     "output_type": "execute_result"
    }
   ],
   "source": [
    "sentiment_series=restaurants_review_merged_df.sentiment.value_counts()\n",
    "sentiment_df = pd.DataFrame(sentiment_series).reset_index()\n",
    "sentiment_df.columns = ['Sentiment', 'Number of Reviews']\n",
    "sentiment_df"
   ]
  },
  {
   "cell_type": "code",
   "execution_count": 1708,
   "metadata": {},
   "outputs": [
    {
     "data": {
      "image/png": "[encoded data removed]",
      "text/plain": [
       "<Figure size 432x432 with 1 Axes>"
      ]
     },
     "metadata": {},
     "output_type": "display_data"
    }
   ],
   "source": [
    "labels = sentiment_df['Sentiment']\n",
    "sizes = sentiment_df['Number of Reviews']\n",
    "explode = (0.1, 0, 0) \n",
    "colors = ['#009900', '#e6e600', '#b30000']\n",
    "\n",
    "\n",
    "fig1, ax1 = plt.subplots(figsize=(6,6))\n",
    "ax1.pie(sizes, explode=explode, colors=colors,labels=labels, autopct='%1.1f%%',\n",
    "        shadow=True)\n",
    "plt.title('Sentiment of Reviews')\n",
    "ax1.axis('equal')  \n",
    "plt.legend(labels,loc=1)\n",
    "plt.show()"
   ]
  },
  {
   "cell_type": "markdown",
   "metadata": {},
   "source": [
    "<font size=\"4\">\n",
    "<b><font color=\"red\">Graph Insight </font></b> <br>\n",
    "    We can see from the above graph that most of the reviews are positive. Only few reviews are Negative or Neutral</font>"
   ]
  },
  {
   "cell_type": "markdown",
   "metadata": {},
   "source": [
    "## 5.15 Analysing the Sentiment of Reviews on the basis of top ten popular Localities"
   ]
  },
  {
   "cell_type": "code",
   "execution_count": 1709,
   "metadata": {},
   "outputs": [
    {
     "data": {
      "text/html": [
       "<div>\n",
       "<style scoped>\n",
       "    .dataframe tbody tr th:only-of-type {\n",
       "        vertical-align: middle;\n",
       "    }\n",
       "\n",
       "    .dataframe tbody tr th {\n",
       "        vertical-align: top;\n",
       "    }\n",
       "\n",
       "    .dataframe thead th {\n",
       "        text-align: right;\n",
       "    }\n",
       "</style>\n",
       "<table border=\"1\" class=\"dataframe\">\n",
       "  <thead>\n",
       "    <tr style=\"text-align: right;\">\n",
       "      <th>sentiment</th>\n",
       "      <th>Negative</th>\n",
       "      <th>Neutral</th>\n",
       "      <th>Positive</th>\n",
       "    </tr>\n",
       "    <tr>\n",
       "      <th>locality</th>\n",
       "      <th></th>\n",
       "      <th></th>\n",
       "      <th></th>\n",
       "    </tr>\n",
       "  </thead>\n",
       "  <tbody>\n",
       "    <tr>\n",
       "      <th>Ballsbridge</th>\n",
       "      <td>12</td>\n",
       "      <td>19</td>\n",
       "      <td>153</td>\n",
       "    </tr>\n",
       "    <tr>\n",
       "      <th>Drumcondra</th>\n",
       "      <td>7</td>\n",
       "      <td>16</td>\n",
       "      <td>79</td>\n",
       "    </tr>\n",
       "    <tr>\n",
       "      <th>Howth</th>\n",
       "      <td>8</td>\n",
       "      <td>11</td>\n",
       "      <td>98</td>\n",
       "    </tr>\n",
       "    <tr>\n",
       "      <th>Malahide</th>\n",
       "      <td>7</td>\n",
       "      <td>8</td>\n",
       "      <td>102</td>\n",
       "    </tr>\n",
       "    <tr>\n",
       "      <th>North City</th>\n",
       "      <td>38</td>\n",
       "      <td>59</td>\n",
       "      <td>363</td>\n",
       "    </tr>\n",
       "    <tr>\n",
       "      <th>Ranelagh</th>\n",
       "      <td>8</td>\n",
       "      <td>13</td>\n",
       "      <td>114</td>\n",
       "    </tr>\n",
       "    <tr>\n",
       "      <th>South City East</th>\n",
       "      <td>52</td>\n",
       "      <td>66</td>\n",
       "      <td>497</td>\n",
       "    </tr>\n",
       "    <tr>\n",
       "      <th>South City West</th>\n",
       "      <td>78</td>\n",
       "      <td>116</td>\n",
       "      <td>733</td>\n",
       "    </tr>\n",
       "    <tr>\n",
       "      <th>Swords</th>\n",
       "      <td>3</td>\n",
       "      <td>7</td>\n",
       "      <td>45</td>\n",
       "    </tr>\n",
       "    <tr>\n",
       "      <th>Temple Bar</th>\n",
       "      <td>27</td>\n",
       "      <td>42</td>\n",
       "      <td>298</td>\n",
       "    </tr>\n",
       "  </tbody>\n",
       "</table>\n",
       "</div>"
      ],
      "text/plain": [
       "sentiment        Negative  Neutral  Positive\n",
       "locality                                    \n",
       "Ballsbridge      12        19       153     \n",
       "Drumcondra       7         16       79      \n",
       "Howth            8         11       98      \n",
       "Malahide         7         8        102     \n",
       "North City       38        59       363     \n",
       "Ranelagh         8         13       114     \n",
       "South City East  52        66       497     \n",
       "South City West  78        116      733     \n",
       "Swords           3         7        45      \n",
       "Temple Bar       27        42       298     "
      ]
     },
     "execution_count": 1709,
     "metadata": {},
     "output_type": "execute_result"
    }
   ],
   "source": [
    "restaurants_count_by_locality= restaurants_dataset['locality'].value_counts().head(10)\n",
    "s=restaurants_review_merged_df[restaurants_review_merged_df.locality.isin(restaurants_count_by_locality.index)]\n",
    "df_agg=s.groupby(['locality','sentiment']).agg('count')['restaurant_id']\n",
    "dfa=df_agg.unstack(level=1)\n",
    "dfa"
   ]
  },
  {
   "cell_type": "code",
   "execution_count": 1716,
   "metadata": {},
   "outputs": [
    {
     "data": {
      "image/png": "[encoded data removed]",
      "text/plain": [
       "<Figure size 576x504 with 1 Axes>"
      ]
     },
     "metadata": {},
     "output_type": "display_data"
    }
   ],
   "source": [
    "color=['#b30000','#e6e600','#009900']\n",
    "plot=dfa.plot(kind='bar', stacked=True,figsize=(8,7),color=color)\n",
    "plot.set_xlabel(\"Locality\",fontsize=14)\n",
    "plot.set_ylabel(\"Number of Restaurants\",fontsize=14)\n",
    "plot.set_title(\"Locality v/s Sentiment of Reviews\",fontsize=20)\n",
    "plot.set_facecolor('#EFE7EB')"
   ]
  },
  {
   "cell_type": "markdown",
   "metadata": {},
   "source": [
    "<font size=\"4\">\n",
    "<b><font color=\"red\">Graph Insight </font></b> <br>\n",
    "    We can see from the above graph that reviews are mostly positive in top ten popular localities. In South City West, we have few restaurants with neutral or negative review. Otherwise mostly have positive review. In Temple Bar region, there are very few restaurants with negative or neutral reviews</font>"
   ]
  },
  {
   "cell_type": "markdown",
   "metadata": {},
   "source": [
    "## 5.16 Distribution of Aggregate Rating According to Sentiments"
   ]
  },
  {
   "cell_type": "code",
   "execution_count": 1719,
   "metadata": {},
   "outputs": [
    {
     "data": {
      "text/plain": [
       "Text(0.5, 0, 'Sentiments')"
      ]
     },
     "execution_count": 1719,
     "metadata": {},
     "output_type": "execute_result"
    },
    {
     "data": {
      "image/png": "[encoded data removed]",
      "text/plain": [
       "<Figure size 720x504 with 1 Axes>"
      ]
     },
     "metadata": {},
     "output_type": "display_data"
    }
   ],
   "source": [
    "x=restaurants_review_merged_df.sentiment\n",
    "y=restaurants_review_merged_df.aggregate_rating.astype(float)\n",
    "sns.set_style(\"whitegrid\")\n",
    "my_pal = {\"Positive\": \"#009900\", \"Negative\": \"#b30000\", \"Neutral\":\"#e6e600\"}\n",
    "plt.subplots(figsize=(10,7))\n",
    "ax = sns.boxplot(x=x, y=y,palette=my_pal)\n",
    "ax.set_title('Distribution of Aggregate Rating According to Sentiments',fontsize=20)\n",
    "ax.set_ylabel('Aggregate Rating',fontsize=14)\n",
    "ax.set_xlabel('Sentiments',fontsize=14)\n"
   ]
  },
  {
   "cell_type": "markdown",
   "metadata": {},
   "source": [
    "<font size=\"4\">\n",
    "<b><font color=\"red\">Graph Insight </font></b> <br>\n",
    "    We can see from the above graph that most of the positive reviews have aggreagte rating between 3.2 -3.8. Maximum rating for positive review is around 4.8 and minimum as 2.1. For negative reviews, fifty percent of the aggreagte rating is between 2.8- 3.6. For Neutral reviews, maximum ratings are between 3.1 - 3.7. This shows that sometimes aggregate rating might not tell us the correct sentiment of any review </font>"
   ]
  },
  {
   "cell_type": "markdown",
   "metadata": {},
   "source": [
    "## 5.17 Analysing the Sentiment of Reviews on the basis Foodie Level of users"
   ]
  },
  {
   "cell_type": "code",
   "execution_count": 1233,
   "metadata": {},
   "outputs": [
    {
     "data": {
      "text/html": [
       "<div>\n",
       "<style scoped>\n",
       "    .dataframe tbody tr th:only-of-type {\n",
       "        vertical-align: middle;\n",
       "    }\n",
       "\n",
       "    .dataframe tbody tr th {\n",
       "        vertical-align: top;\n",
       "    }\n",
       "\n",
       "    .dataframe thead th {\n",
       "        text-align: right;\n",
       "    }\n",
       "</style>\n",
       "<table border=\"1\" class=\"dataframe\">\n",
       "  <thead>\n",
       "    <tr style=\"text-align: right;\">\n",
       "      <th>sentiment</th>\n",
       "      <th>Negative</th>\n",
       "      <th>Neutral</th>\n",
       "      <th>Positive</th>\n",
       "    </tr>\n",
       "    <tr>\n",
       "      <th>user_foodie_level</th>\n",
       "      <th></th>\n",
       "      <th></th>\n",
       "      <th></th>\n",
       "    </tr>\n",
       "  </thead>\n",
       "  <tbody>\n",
       "    <tr>\n",
       "      <th>Big Foodie</th>\n",
       "      <td>171</td>\n",
       "      <td>212</td>\n",
       "      <td>1668</td>\n",
       "    </tr>\n",
       "    <tr>\n",
       "      <th>Connoisseur</th>\n",
       "      <td>16</td>\n",
       "      <td>39</td>\n",
       "      <td>216</td>\n",
       "    </tr>\n",
       "    <tr>\n",
       "      <th>Foodie</th>\n",
       "      <td>181</td>\n",
       "      <td>120</td>\n",
       "      <td>964</td>\n",
       "    </tr>\n",
       "    <tr>\n",
       "      <th>Super Foodie</th>\n",
       "      <td>113</td>\n",
       "      <td>188</td>\n",
       "      <td>1575</td>\n",
       "    </tr>\n",
       "  </tbody>\n",
       "</table>\n",
       "</div>"
      ],
      "text/plain": [
       "sentiment          Negative  Neutral  Positive\n",
       "user_foodie_level                             \n",
       "Big Foodie         171       212      1668    \n",
       "Connoisseur        16        39       216     \n",
       "Foodie             181       120      964     \n",
       "Super Foodie       113       188      1575    "
      ]
     },
     "execution_count": 1233,
     "metadata": {},
     "output_type": "execute_result"
    }
   ],
   "source": [
    "df_agg=restaurants_review_merged_df.groupby(['user_foodie_level','sentiment']).agg('count')['restaurant_id']\n",
    "dfa=df_agg.unstack(level=1)\n",
    "dfa"
   ]
  },
  {
   "cell_type": "code",
   "execution_count": 1227,
   "metadata": {},
   "outputs": [
    {
     "data": {
      "image/png": "[encoded data removed]",
      "text/plain": [
       "<Figure size 720x576 with 4 Axes>"
      ]
     },
     "metadata": {},
     "output_type": "display_data"
    }
   ],
   "source": [
    "fig = plt.figure(figsize=(10,8))\n",
    "count=1\n",
    "color=['#b30000','#e6e600','#009900']\n",
    "for index, row in dfa.iterrows():\n",
    "    ax = fig.add_subplot(2, 2, count)\n",
    "    row.plot(kind='bar',title=index,sharex=True,fontsize=15,color=color)\n",
    "    ax.title.set_size(15)\n",
    "    count=count+1"
   ]
  },
  {
   "cell_type": "markdown",
   "metadata": {},
   "source": [
    "<font size=\"4\">\n",
    "<b><font color=\"red\">Graph Insight </font></b> <br>\n",
    "    We can see from the above graph that all Foodie Level of users gives majority of positive reviews.Foodie and Big Foodie gives more negative reviews than Connoisseur or Super Foodie users.  </font>"
   ]
  },
  {
   "cell_type": "markdown",
   "metadata": {},
   "source": [
    "## 5.18 Analysing the Sentiment of Reviews on the basis of Popular Cuisines"
   ]
  },
  {
   "cell_type": "code",
   "execution_count": 1738,
   "metadata": {},
   "outputs": [],
   "source": [
    "cuisines_review_df = pd.merge(restaurants_cuisines_merged_df, restaurants_review_merged_df, how='inner', on = 'restaurant_id')\n",
    "# cuisines_count=restaurants_cuisines_merged_df['cuisines'].value_counts().head(10)\n",
    "# df_agg=cuisines_review_df[cuisines_review_df.cuisines_x.isin(cuisines_count.index)].groupby(['cuisines_x','sentiment']).agg('count')['restaurant_id']\n",
    "# df_unstack=df_agg.unstack(level=1)\n",
    "# df_unstack\n",
    "\n",
    "#cuisines_review_df\n"
   ]
  },
  {
   "cell_type": "code",
   "execution_count": 1739,
   "metadata": {},
   "outputs": [
    {
     "data": {
      "text/html": [
       "<div>\n",
       "<style scoped>\n",
       "    .dataframe tbody tr th:only-of-type {\n",
       "        vertical-align: middle;\n",
       "    }\n",
       "\n",
       "    .dataframe tbody tr th {\n",
       "        vertical-align: top;\n",
       "    }\n",
       "\n",
       "    .dataframe thead th {\n",
       "        text-align: right;\n",
       "    }\n",
       "</style>\n",
       "<table border=\"1\" class=\"dataframe\">\n",
       "  <thead>\n",
       "    <tr style=\"text-align: right;\">\n",
       "      <th></th>\n",
       "      <th>restaurant_id</th>\n",
       "      <th>restaurant_name_x</th>\n",
       "      <th>url_x</th>\n",
       "      <th>address_x</th>\n",
       "      <th>locality_x</th>\n",
       "      <th>city_x</th>\n",
       "      <th>city_id_x</th>\n",
       "      <th>latitude_x</th>\n",
       "      <th>longitude_x</th>\n",
       "      <th>zipcode_x</th>\n",
       "      <th>...</th>\n",
       "      <th>likes</th>\n",
       "      <th>username</th>\n",
       "      <th>user_foodie_level</th>\n",
       "      <th>user_foodie_level_num</th>\n",
       "      <th>comments_count</th>\n",
       "      <th>compound</th>\n",
       "      <th>neg</th>\n",
       "      <th>neu</th>\n",
       "      <th>pos</th>\n",
       "      <th>sentiment</th>\n",
       "    </tr>\n",
       "  </thead>\n",
       "  <tbody>\n",
       "  </tbody>\n",
       "</table>\n",
       "<p>0 rows × 53 columns</p>\n",
       "</div>"
      ],
      "text/plain": [
       "Empty DataFrame\n",
       "Columns: [restaurant_id, restaurant_name_x, url_x, address_x, locality_x, city_x, city_id_x, latitude_x, longitude_x, zipcode_x, country_id_x, locality_verbose_x, average_cost_for_two_x, aggregate_rating_x, rating_text, votes_x, has_online_delivery_x, is_table_reservation_supported_x, establishment_types_x, cuisines_x, restaurant_name_y, url_y, address_y, locality_y, city_y, city_id_y, latitude_y, longitude_y, zipcode_y, country_id_y, locality_verbose_y, cuisines_y, average_cost_for_two_y, aggregate_rating_y, rating_text_x, votes_y, has_online_delivery_y, is_table_reservation_supported_y, establishment_types_y, review_rating, review_text, review_id, rating_text_y, likes, username, user_foodie_level, user_foodie_level_num, comments_count, compound, neg, neu, pos, sentiment]\n",
       "Index: []\n",
       "\n",
       "[0 rows x 53 columns]"
      ]
     },
     "execution_count": 1739,
     "metadata": {},
     "output_type": "execute_result"
    }
   ],
   "source": [
    "cuisines_review_df"
   ]
  },
  {
   "cell_type": "code",
   "execution_count": null,
   "metadata": {},
   "outputs": [],
   "source": [
    "color=['#b30000','#e6e600','#009900']\n",
    "plot=df_unstack.plot(kind='bar', stacked=True,title='Popular cuisine in Top Localities',figsize=(10,7),color=color)\n",
    "plot.set_xlabel(\"Cuisine\",fontsize=14)\n",
    "plot.set_ylabel(\"Number of Restaurants\",fontsize=14)\n",
    "box = plot.get_position()\n",
    "plot.set_position([box.x0, box.y0, box.width * 0.8, box.height])\n",
    "plot.legend(loc='center left', bbox_to_anchor=(1, 0.5))"
   ]
  },
  {
   "cell_type": "code",
   "execution_count": null,
   "metadata": {},
   "outputs": [],
   "source": []
  },
  {
   "cell_type": "markdown",
   "metadata": {},
   "source": [
    "<font size=5> <b>Insights about Dublin restaurants from the Zomato dataset </b></font>\n",
    "<ul>\n",
    "    <li>Most popular restaurants in Dublin are Eddie Rocket, Subway and McDonald's </li>\n",
    "    <li>Most popular cuisines in Dublin are Asian, Cafe, Fast Food, Irish and Chinese</li>\n",
    "    <li>People rate majority restaurants as “Average” or \"Good\". Only few restaurants have been rated as \"Excellent\". Also there are many restaurants that have not been rate. So this can not be considered as a factor to discuss the success of a restaurant</li>\n",
    "    <li>The most sold cuisine are the Asian cuisine but the highly rated cuisine is Irish cuisine</li>\n",
    "    <li>Most of the restaurants in dublin have average cost for two between 15-40 euro. There are very few restaurants which have average cost for two more than 80 euro. Also there are very few restaurants with average cost for two less than 10 euro</li>\n",
    "    <li>South City West,South City East, North City,Temple Bar and Ballsbridge have maximum number of restaurants in Dublin</li>\n",
    "    <li>There are only few restaurants which have excellent rating and most of then are in Temple Bar and South City West Region. All other regions have most of the rating as Average or Good. So we can say that Temple Bar and South City West Region has best restaurants in Dublin</li>\n",
    "    <li>We saw that there is no relation between average cost for two and Aggregate Rating. Most of the restaurants have average cost for two between 15-50 euro. And in that range we have all kind of ratings. Most of the rating are between 3 and 4 which corresponds to Average and Good</li>\n",
    "   <li>From all the graphs which includes rating, we can see that people mostly rate restaurants as Average and Good. And this is evident from the Aggregate Rating distribution also </li>\n",
    "    <li> Most of the restaurants in Dublin have facilities like Indoor Seating, Takeaway facility,Wifi, Bar and Breakfast option</li>\n",
    "    <li> By performing Sentiment Analysis on the reviews, we can see that majority of the reviews are positive. And only restuarants have Negative or Neutral review. This finding has also been seen in the graph where were were analysing the rating of users. We saw that most of them rate restaurants as either Averagre or Good, which means positive reviews. Only few restaurants have rating Poor.</li>\n",
    "    <li>We have also analysed reviews on the basis of top 10 popular localities. Reviews are mostly positive there. In South City West, we have few restaurants with neutral or negative review. Otherwise mostly have positive review. In Temple Bar region, there are very few restaurants with negative or neutral reviews. This finding was also seen while we were analaysis rating text on the basis of localities. Temple Bar region has maximum restaurants with Excellent Rating and most of the restaurants were above average.  </li>\n",
    "    <li> We also analyzed the relation between sentiment of reviews and aggreagte rating. From the graph we saw that most of the positive reviews have aggreagte rating between 3.2 -3.8. Maximum rating for positive review is around 4.8 and minimum as 2.1. For negative reviews, fifty percent of the aggreagte rating is between 2.8- 3.6. For Neutral reviews, maximum ratings are between 3.1 - 3.7. This shows that aggregate rating might not tell us the correct sentiment of any review</li>\n",
    "    \n",
    "</ul>"
   ]
  },
  {
   "cell_type": "code",
   "execution_count": 1740,
   "metadata": {},
   "outputs": [
    {
     "data": {
      "text/html": [
       "<div>\n",
       "<style scoped>\n",
       "    .dataframe tbody tr th:only-of-type {\n",
       "        vertical-align: middle;\n",
       "    }\n",
       "\n",
       "    .dataframe tbody tr th {\n",
       "        vertical-align: top;\n",
       "    }\n",
       "\n",
       "    .dataframe thead th {\n",
       "        text-align: right;\n",
       "    }\n",
       "</style>\n",
       "<table border=\"1\" class=\"dataframe\">\n",
       "  <thead>\n",
       "    <tr style=\"text-align: right;\">\n",
       "      <th></th>\n",
       "      <th>restaurant_id</th>\n",
       "      <th>restaurant_name</th>\n",
       "      <th>url</th>\n",
       "      <th>address</th>\n",
       "      <th>locality</th>\n",
       "      <th>city</th>\n",
       "      <th>city_id</th>\n",
       "      <th>latitude</th>\n",
       "      <th>longitude</th>\n",
       "      <th>zipcode</th>\n",
       "      <th>country_id</th>\n",
       "      <th>locality_verbose</th>\n",
       "      <th>average_cost_for_two</th>\n",
       "      <th>aggregate_rating</th>\n",
       "      <th>rating_text</th>\n",
       "      <th>votes</th>\n",
       "      <th>has_online_delivery</th>\n",
       "      <th>is_table_reservation_supported</th>\n",
       "      <th>establishment_types</th>\n",
       "      <th>cuisines</th>\n",
       "    </tr>\n",
       "  </thead>\n",
       "  <tbody>\n",
       "    <tr>\n",
       "      <th>0</th>\n",
       "      <td>9100081</td>\n",
       "      <td>Chillout Break Cafe</td>\n",
       "      <td>https://www.zomato.com/dublin/chillout-break-cafe-north-city?utm_source=api_basic_user&amp;utm_medium=api&amp;utm_campaign=v2.1</td>\n",
       "      <td>11 Moore Street, Dublin Dublin 1</td>\n",
       "      <td>North City</td>\n",
       "      <td>Dublin</td>\n",
       "      <td>91</td>\n",
       "      <td>53.350208</td>\n",
       "      <td>-6.262386</td>\n",
       "      <td>Dublin 1</td>\n",
       "      <td>97</td>\n",
       "      <td>North City, Dublin</td>\n",
       "      <td>25</td>\n",
       "      <td>0.0</td>\n",
       "      <td>Not rated</td>\n",
       "      <td>1</td>\n",
       "      <td>0</td>\n",
       "      <td>0</td>\n",
       "      <td>[]</td>\n",
       "      <td>Polish</td>\n",
       "    </tr>\n",
       "    <tr>\n",
       "      <th>1</th>\n",
       "      <td>9100081</td>\n",
       "      <td>Chillout Break Cafe</td>\n",
       "      <td>https://www.zomato.com/dublin/chillout-break-cafe-north-city?utm_source=api_basic_user&amp;utm_medium=api&amp;utm_campaign=v2.1</td>\n",
       "      <td>11 Moore Street, Dublin Dublin 1</td>\n",
       "      <td>North City</td>\n",
       "      <td>Dublin</td>\n",
       "      <td>91</td>\n",
       "      <td>53.350208</td>\n",
       "      <td>-6.262386</td>\n",
       "      <td>Dublin 1</td>\n",
       "      <td>97</td>\n",
       "      <td>North City, Dublin</td>\n",
       "      <td>25</td>\n",
       "      <td>0.0</td>\n",
       "      <td>Not rated</td>\n",
       "      <td>1</td>\n",
       "      <td>0</td>\n",
       "      <td>0</td>\n",
       "      <td>[]</td>\n",
       "      <td>Cafe</td>\n",
       "    </tr>\n",
       "    <tr>\n",
       "      <th>2</th>\n",
       "      <td>16522498</td>\n",
       "      <td>Lituanica</td>\n",
       "      <td>https://www.zomato.com/dublin/lituanica-north-city?utm_source=api_basic_user&amp;utm_medium=api&amp;utm_campaign=v2.1</td>\n",
       "      <td>Moore Street Mall, 58-66 Moore Street, Dublin Dublin 1</td>\n",
       "      <td>Moore Street Mall, City Centre North</td>\n",
       "      <td>Dublin</td>\n",
       "      <td>91</td>\n",
       "      <td>53.351258</td>\n",
       "      <td>-6.263156</td>\n",
       "      <td>Dublin 1</td>\n",
       "      <td>97</td>\n",
       "      <td>Moore Street Mall, City Centre North, Dublin</td>\n",
       "      <td>25</td>\n",
       "      <td>0.0</td>\n",
       "      <td>Not rated</td>\n",
       "      <td>0</td>\n",
       "      <td>0</td>\n",
       "      <td>0</td>\n",
       "      <td>[]</td>\n",
       "      <td>Polish</td>\n",
       "    </tr>\n",
       "    <tr>\n",
       "      <th>3</th>\n",
       "      <td>9100611</td>\n",
       "      <td>The Really Old Sweet Shop</td>\n",
       "      <td>https://www.zomato.com/dublin/the-really-old-sweet-shop-malahide?utm_source=api_basic_user&amp;utm_medium=api&amp;utm_campaign=v2.1</td>\n",
       "      <td>Kilronan House, Church Road, Malahide, Dublin Co. Dublin</td>\n",
       "      <td>Malahide</td>\n",
       "      <td>Dublin</td>\n",
       "      <td>91</td>\n",
       "      <td>53.450267</td>\n",
       "      <td>-6.153355</td>\n",
       "      <td>Not Available</td>\n",
       "      <td>97</td>\n",
       "      <td>Malahide, Dublin</td>\n",
       "      <td>10</td>\n",
       "      <td>0.0</td>\n",
       "      <td>Not rated</td>\n",
       "      <td>2</td>\n",
       "      <td>0</td>\n",
       "      <td>0</td>\n",
       "      <td>[]</td>\n",
       "      <td>Ice Cream</td>\n",
       "    </tr>\n",
       "    <tr>\n",
       "      <th>4</th>\n",
       "      <td>9100611</td>\n",
       "      <td>The Really Old Sweet Shop</td>\n",
       "      <td>https://www.zomato.com/dublin/the-really-old-sweet-shop-malahide?utm_source=api_basic_user&amp;utm_medium=api&amp;utm_campaign=v2.1</td>\n",
       "      <td>Kilronan House, Church Road, Malahide, Dublin Co. Dublin</td>\n",
       "      <td>Malahide</td>\n",
       "      <td>Dublin</td>\n",
       "      <td>91</td>\n",
       "      <td>53.450267</td>\n",
       "      <td>-6.153355</td>\n",
       "      <td>Not Available</td>\n",
       "      <td>97</td>\n",
       "      <td>Malahide, Dublin</td>\n",
       "      <td>10</td>\n",
       "      <td>0.0</td>\n",
       "      <td>Not rated</td>\n",
       "      <td>2</td>\n",
       "      <td>0</td>\n",
       "      <td>0</td>\n",
       "      <td>[]</td>\n",
       "      <td>Desserts</td>\n",
       "    </tr>\n",
       "  </tbody>\n",
       "</table>\n",
       "</div>"
      ],
      "text/plain": [
       "  restaurant_id            restaurant_name  \\\n",
       "0  9100081       Chillout Break Cafe         \n",
       "1  9100081       Chillout Break Cafe         \n",
       "2  16522498      Lituanica                   \n",
       "3  9100611       The Really Old Sweet Shop   \n",
       "4  9100611       The Really Old Sweet Shop   \n",
       "\n",
       "                                                                                                                           url  \\\n",
       "0  https://www.zomato.com/dublin/chillout-break-cafe-north-city?utm_source=api_basic_user&utm_medium=api&utm_campaign=v2.1       \n",
       "1  https://www.zomato.com/dublin/chillout-break-cafe-north-city?utm_source=api_basic_user&utm_medium=api&utm_campaign=v2.1       \n",
       "2  https://www.zomato.com/dublin/lituanica-north-city?utm_source=api_basic_user&utm_medium=api&utm_campaign=v2.1                 \n",
       "3  https://www.zomato.com/dublin/the-really-old-sweet-shop-malahide?utm_source=api_basic_user&utm_medium=api&utm_campaign=v2.1   \n",
       "4  https://www.zomato.com/dublin/the-really-old-sweet-shop-malahide?utm_source=api_basic_user&utm_medium=api&utm_campaign=v2.1   \n",
       "\n",
       "                                                    address  \\\n",
       "0  11 Moore Street, Dublin Dublin 1                           \n",
       "1  11 Moore Street, Dublin Dublin 1                           \n",
       "2  Moore Street Mall, 58-66 Moore Street, Dublin Dublin 1     \n",
       "3  Kilronan House, Church Road, Malahide, Dublin Co. Dublin   \n",
       "4  Kilronan House, Church Road, Malahide, Dublin Co. Dublin   \n",
       "\n",
       "                               locality    city  city_id   latitude  \\\n",
       "0  North City                            Dublin  91       53.350208   \n",
       "1  North City                            Dublin  91       53.350208   \n",
       "2  Moore Street Mall, City Centre North  Dublin  91       53.351258   \n",
       "3  Malahide                              Dublin  91       53.450267   \n",
       "4  Malahide                              Dublin  91       53.450267   \n",
       "\n",
       "   longitude        zipcode  country_id  \\\n",
       "0 -6.262386   Dublin 1       97           \n",
       "1 -6.262386   Dublin 1       97           \n",
       "2 -6.263156   Dublin 1       97           \n",
       "3 -6.153355   Not Available  97           \n",
       "4 -6.153355   Not Available  97           \n",
       "\n",
       "                               locality_verbose  average_cost_for_two  \\\n",
       "0  North City, Dublin                            25                     \n",
       "1  North City, Dublin                            25                     \n",
       "2  Moore Street Mall, City Centre North, Dublin  25                     \n",
       "3  Malahide, Dublin                              10                     \n",
       "4  Malahide, Dublin                              10                     \n",
       "\n",
       "   aggregate_rating rating_text  votes  has_online_delivery  \\\n",
       "0  0.0               Not rated   1      0                     \n",
       "1  0.0               Not rated   1      0                     \n",
       "2  0.0               Not rated   0      0                     \n",
       "3  0.0               Not rated   2      0                     \n",
       "4  0.0               Not rated   2      0                     \n",
       "\n",
       "   is_table_reservation_supported establishment_types   cuisines  \n",
       "0  0                               []                  Polish     \n",
       "1  0                               []                   Cafe      \n",
       "2  0                               []                  Polish     \n",
       "3  0                               []                  Ice Cream  \n",
       "4  0                               []                   Desserts  "
      ]
     },
     "execution_count": 1740,
     "metadata": {},
     "output_type": "execute_result"
    }
   ],
   "source": [
    "restaurants_cuisines_merged_df.head()"
   ]
  },
  {
   "cell_type": "code",
   "execution_count": 1747,
   "metadata": {},
   "outputs": [
    {
     "data": {
      "text/plain": [
       "restaurant_id\n",
       "16520811    6\n",
       "9100173     5\n",
       "9101537     5\n",
       "18117882    5\n",
       "18264746    5\n",
       "9100007     4\n",
       "9100265     4\n",
       "9100447     4\n",
       "9100448     4\n",
       "9100451     4\n",
       "9100466     4\n",
       "9100549     4\n",
       "9100554     4\n",
       "9100721     4\n",
       "9100746     4\n",
       "9100969     4\n",
       "9101047     4\n",
       "9101206     4\n",
       "9101822     4\n",
       "16517406    4\n",
       "16517420    4\n",
       "16517442    4\n",
       "16518194    4\n",
       "16518286    4\n",
       "16518430    4\n",
       "16519097    4\n",
       "16519103    4\n",
       "16519204    4\n",
       "16519354    4\n",
       "16519368    4\n",
       "16519416    4\n",
       "16519451    4\n",
       "16519468    4\n",
       "16519928    4\n",
       "16520422    4\n",
       "16521291    4\n",
       "16522107    4\n",
       "16522174    4\n",
       "16522451    4\n",
       "18018857    4\n",
       "Name: cuisines, dtype: int64"
      ]
     },
     "execution_count": 1747,
     "metadata": {},
     "output_type": "execute_result"
    }
   ],
   "source": [
    "restaurants_cuisines_merged_df.groupby(\"restaurant_id\").agg('count').cuisines.nlargest(40)"
   ]
  },
  {
   "cell_type": "code",
   "execution_count": null,
   "metadata": {},
   "outputs": [],
   "source": []
  }
 ],
 "metadata": {
  "kernelspec": {
   "display_name": "Python 3",
   "language": "python",
   "name": "python3"
  },
  "language_info": {
   "codemirror_mode": {
    "name": "ipython",
    "version": 3
   },
   "file_extension": ".py",
   "mimetype": "text/x-python",
   "name": "python",
   "nbconvert_exporter": "python",
   "pygments_lexer": "ipython3",
   "version": "3.6.8"
  }
 },
 "nbformat": 4,
 "nbformat_minor": 2
}
